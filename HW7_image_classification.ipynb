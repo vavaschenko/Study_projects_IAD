{
 "cells": [
  {
   "cell_type": "markdown",
   "metadata": {
    "id": "kr9vAeEQlRVG"
   },
   "source": [
    "# Домашнее задание 2. Классификация изображений."
   ]
  },
  {
   "cell_type": "markdown",
   "metadata": {
    "id": "BxX49gLclRVJ"
   },
   "source": [
    "В этом задании потребуется обучить классификатор изображений. Будем работать с датасетом, название которого раскрывать не будем. Можете посмотреть самостоятельно на картинки, которые в есть датасете. В нём 200 классов и около 5 тысяч картинок на каждый класс. Классы пронумерованы, как нетрудно догадаться, от 0 до 199. Скачать датасет можно вот [тут](https://yadi.sk/d/BNR41Vu3y0c7qA).\n",
    "\n",
    "Структура датасета простая -- есть директории train/ и val/, в которых лежат обучающие и валидационные данные. В train/ и val/ лежат директориии, соответствующие классам изображений, в которых лежат, собственно, сами изображения."
   ]
  },
  {
   "cell_type": "code",
   "execution_count": 1,
   "metadata": {
    "execution": {
     "iopub.execute_input": "2021-11-20T23:21:17.800603Z",
     "iopub.status.busy": "2021-11-20T23:21:17.800180Z",
     "iopub.status.idle": "2021-11-20T23:21:20.100428Z",
     "shell.execute_reply": "2021-11-20T23:21:20.099720Z",
     "shell.execute_reply.started": "2021-11-20T23:21:17.800486Z"
    },
    "id": "LKcSNj4tlRVK"
   },
   "outputs": [],
   "source": [
    "import numpy as np\n",
    "import sys\n",
    "import torch\n",
    "import torchvision\n",
    "import tqdm\n",
    "from torch import nn\n",
    "from torch.nn import functional as F\n",
    "from sklearn.metrics import accuracy_score\n",
    "from torchvision.datasets import ImageFolder\n",
    "from torchvision.transforms import Compose, Normalize, Resize, ToTensor, RandomResizedCrop, AutoAugment\n",
    "import matplotlib.pyplot as plt\n",
    "import numpy as np\n",
    "from torch.utils.data import Subset"
   ]
  },
  {
   "cell_type": "code",
   "execution_count": null,
   "metadata": {
    "execution": {
     "iopub.status.busy": "2021-11-18T21:36:01.624788Z",
     "iopub.status.idle": "2021-11-18T21:36:01.625538Z",
     "shell.execute_reply": "2021-11-18T21:36:01.625265Z",
     "shell.execute_reply.started": "2021-11-18T21:36:01.625236Z"
    },
    "id": "LjESpRBAzUv6"
   },
   "outputs": [],
   "source": [
    "!wget https://www.dropbox.com/s/33l8lp62rmvtx40/dataset.zip?dl=0"
   ]
  },
  {
   "cell_type": "code",
   "execution_count": null,
   "metadata": {
    "execution": {
     "iopub.status.busy": "2021-11-18T21:36:01.626672Z",
     "iopub.status.idle": "2021-11-18T21:36:01.627415Z",
     "shell.execute_reply": "2021-11-18T21:36:01.627251Z",
     "shell.execute_reply.started": "2021-11-18T21:36:01.627226Z"
    },
    "id": "gymfXZyeH0QS"
   },
   "outputs": [],
   "source": [
    "!unzip /content/dataset.zip?dl=0 -d sample_data"
   ]
  },
  {
   "cell_type": "markdown",
   "metadata": {
    "id": "RytEDW0ylRVN"
   },
   "source": [
    "### Подготовка данных"
   ]
  },
  {
   "cell_type": "code",
   "execution_count": 2,
   "metadata": {
    "execution": {
     "iopub.execute_input": "2021-11-20T23:21:22.004618Z",
     "iopub.status.busy": "2021-11-20T23:21:22.004172Z",
     "iopub.status.idle": "2021-11-20T23:21:42.801332Z",
     "shell.execute_reply": "2021-11-20T23:21:42.800563Z",
     "shell.execute_reply.started": "2021-11-20T23:21:22.004580Z"
    },
    "id": "QEdDQtHdlRVO"
   },
   "outputs": [],
   "source": [
    "train_transform = Compose(\n",
    "    [\n",
    "     Resize((224,224)),\n",
    "     #AutoAugment(),\n",
    "     torchvision.transforms.RandomHorizontalFlip(),\n",
    "     #torchvision.transforms.RandomVerticalFlip(),\n",
    "     torchvision.transforms.RandomRotation(45),\n",
    "     #torchvision.transforms.ColorJitter(brightness=.5, hue=.3),\n",
    "     ToTensor(),\n",
    "     Normalize(mean=[0.485, 0.456, 0.406], #вычитала вот тут (https://pytorch.org/vision/stable/models.html) про эти цифры\n",
    "               std=[0.229, 0.224, 0.225])\n",
    "    ]\n",
    ")\n",
    "val_transform = Compose(\n",
    "    [\n",
    "     Resize((224,224)),\n",
    "     ToTensor(),\n",
    "     Normalize(mean=[0.485, 0.456, 0.406],\n",
    "               std=[0.229, 0.224, 0.225])\n",
    "    ]\n",
    ")\n",
    "\n",
    "train_dataset = ImageFolder('../input/homework2/dataset/train/', transform=train_transform)\n",
    "val_dataset = ImageFolder('../input/homework2/dataset/val/', transform=val_transform)\n",
    "\n",
    "train_dataloader = torch.utils.data.DataLoader(train_dataset, batch_size=64, shuffle=True)\n",
    "val_dataloader = torch.utils.data.DataLoader(val_dataset, batch_size=64, shuffle=False)"
   ]
  },
  {
   "cell_type": "code",
   "execution_count": null,
   "metadata": {
    "execution": {
     "iopub.execute_input": "2021-11-20T15:28:59.587186Z",
     "iopub.status.busy": "2021-11-20T15:28:59.586733Z",
     "iopub.status.idle": "2021-11-20T15:28:59.682674Z",
     "shell.execute_reply": "2021-11-20T15:28:59.681662Z",
     "shell.execute_reply.started": "2021-11-20T15:28:59.587145Z"
    },
    "id": "mrg4Yj0VlRVP",
    "outputId": "85257131-372c-433f-e978-f436f65e2594"
   },
   "outputs": [],
   "source": [
    "# Just very simple sanity checks\n",
    "assert isinstance(train_dataset[0], tuple)\n",
    "assert len(train_dataset[0]) == 2\n",
    "assert isinstance(train_dataset[1][1], int)\n",
    "print(\"tests passed\")"
   ]
  },
  {
   "cell_type": "code",
   "execution_count": null,
   "metadata": {
    "execution": {
     "iopub.execute_input": "2021-11-20T15:22:19.923893Z",
     "iopub.status.busy": "2021-11-20T15:22:19.923626Z",
     "iopub.status.idle": "2021-11-20T15:22:20.554898Z",
     "shell.execute_reply": "2021-11-20T15:22:20.554172Z",
     "shell.execute_reply.started": "2021-11-20T15:22:19.923863Z"
    },
    "id": "a0vBHMeq31NC",
    "outputId": "723624a4-6345-4c67-b85f-83c10993d5b4"
   },
   "outputs": [],
   "source": [
    "import glob\n",
    "file = np.random.choice(glob.glob(\"../input/homework2/dataset/train/*/*.jpg\"))\n",
    "plt.imshow(plt.imread(file));"
   ]
  },
  {
   "cell_type": "markdown",
   "metadata": {
    "id": "8RlSlmyjlRVP"
   },
   "source": [
    "### Вспомогательные функции, реализация модели"
   ]
  },
  {
   "cell_type": "code",
   "execution_count": 4,
   "metadata": {
    "execution": {
     "iopub.execute_input": "2021-11-20T23:21:42.811224Z",
     "iopub.status.busy": "2021-11-20T23:21:42.810583Z",
     "iopub.status.idle": "2021-11-20T23:21:42.818274Z",
     "shell.execute_reply": "2021-11-20T23:21:42.817501Z",
     "shell.execute_reply.started": "2021-11-20T23:21:42.811184Z"
    },
    "id": "UOpXy7Mgdd5U"
   },
   "outputs": [],
   "source": [
    "from tqdm.notebook import trange, tqdm \n",
    "from tqdm.auto import tqdm,trange"
   ]
  },
  {
   "cell_type": "code",
   "execution_count": 5,
   "metadata": {
    "execution": {
     "iopub.execute_input": "2021-11-20T23:21:42.822409Z",
     "iopub.status.busy": "2021-11-20T23:21:42.822167Z",
     "iopub.status.idle": "2021-11-20T23:21:42.827631Z",
     "shell.execute_reply": "2021-11-20T23:21:42.826729Z",
     "shell.execute_reply.started": "2021-11-20T23:21:42.822385Z"
    },
    "id": "8t6Sw7PNjSlC"
   },
   "outputs": [],
   "source": [
    "import random\n",
    "def set_random_seed(seed):\n",
    "    torch.backends.cudnn.deterministic = True\n",
    "    torch.manual_seed(seed)\n",
    "    torch.cuda.manual_seed(seed)\n",
    "    np.random.seed(seed)\n",
    "    random.seed(seed)"
   ]
  },
  {
   "cell_type": "code",
   "execution_count": 6,
   "metadata": {
    "execution": {
     "iopub.execute_input": "2021-11-20T23:21:42.829495Z",
     "iopub.status.busy": "2021-11-20T23:21:42.829158Z",
     "iopub.status.idle": "2021-11-20T23:21:42.838820Z",
     "shell.execute_reply": "2021-11-20T23:21:42.838004Z",
     "shell.execute_reply.started": "2021-11-20T23:21:42.829457Z"
    },
    "id": "wcxHsfXumWq1"
   },
   "outputs": [],
   "source": [
    "set_random_seed(50)"
   ]
  },
  {
   "cell_type": "markdown",
   "metadata": {
    "id": "MxR3gfcilRVW"
   },
   "source": [
    "### Обучение модели, запуски экспериментов"
   ]
  },
  {
   "cell_type": "code",
   "execution_count": 7,
   "metadata": {
    "execution": {
     "iopub.execute_input": "2021-11-20T23:21:42.841787Z",
     "iopub.status.busy": "2021-11-20T23:21:42.840930Z",
     "iopub.status.idle": "2021-11-20T23:21:42.845834Z",
     "shell.execute_reply": "2021-11-20T23:21:42.845061Z",
     "shell.execute_reply.started": "2021-11-20T23:21:42.841749Z"
    },
    "id": "I8KxcHiKUOpk"
   },
   "outputs": [],
   "source": [
    "from torchvision.models import resnet18, vgg16, alexnet"
   ]
  },
  {
   "cell_type": "code",
   "execution_count": 8,
   "metadata": {
    "execution": {
     "iopub.execute_input": "2021-11-20T23:21:42.847376Z",
     "iopub.status.busy": "2021-11-20T23:21:42.847023Z",
     "iopub.status.idle": "2021-11-20T23:21:46.149995Z",
     "shell.execute_reply": "2021-11-20T23:21:46.149207Z",
     "shell.execute_reply.started": "2021-11-20T23:21:42.847308Z"
    }
   },
   "outputs": [
    {
     "name": "stderr",
     "output_type": "stream",
     "text": [
      "Downloading: \"https://download.pytorch.org/models/resnet18-f37072fd.pth\" to /root/.cache/torch/hub/checkpoints/resnet18-f37072fd.pth\n"
     ]
    },
    {
     "data": {
      "application/vnd.jupyter.widget-view+json": {
       "model_id": "6d79f00d879c46939b226fde2ae97216",
       "version_major": 2,
       "version_minor": 0
      },
      "text/plain": [
       "  0%|          | 0.00/44.7M [00:00<?, ?B/s]"
      ]
     },
     "metadata": {},
     "output_type": "display_data"
    }
   ],
   "source": [
    "model = resnet18(pretrained=True)\n",
    "#for param in model.parameters():\n",
    "#    param.requires_grad = False\n",
    "model.fc = nn.Linear(512, 200)"
   ]
  },
  {
   "cell_type": "code",
   "execution_count": 9,
   "metadata": {
    "execution": {
     "iopub.execute_input": "2021-11-20T23:21:46.151375Z",
     "iopub.status.busy": "2021-11-20T23:21:46.151132Z",
     "iopub.status.idle": "2021-11-20T23:21:46.211235Z",
     "shell.execute_reply": "2021-11-20T23:21:46.210433Z",
     "shell.execute_reply.started": "2021-11-20T23:21:46.151341Z"
    },
    "id": "JXFJ6oS8lRVX",
    "scrolled": true
   },
   "outputs": [],
   "source": [
    "criterion = nn.CrossEntropyLoss()\n",
    "\n",
    "\n",
    "#optimizer = torch.optim.Adam(model.fc.parameters(), 3e-4)\n",
    "#scheduler = torch.optim.lr_scheduler.ReduceLROnPlateau(optimizer, 'max')\n",
    "\n",
    "optimizer = torch.optim.SGD(model.parameters(), lr=0.001, momentum=0.9)\n",
    "scheduler = torch.optim.lr_scheduler.StepLR(optimizer, step_size=7, gamma=0.1)\n",
    "\n",
    "n_epochs = 10\n",
    "device = torch.device(\"cuda:0\") if torch.cuda.is_available() else torch.device(\"cpu\")"
   ]
  },
  {
   "cell_type": "code",
   "execution_count": 10,
   "metadata": {
    "execution": {
     "iopub.execute_input": "2021-11-20T23:21:46.214114Z",
     "iopub.status.busy": "2021-11-20T23:21:46.213602Z",
     "iopub.status.idle": "2021-11-20T23:21:46.237349Z",
     "shell.execute_reply": "2021-11-20T23:21:46.236739Z",
     "shell.execute_reply.started": "2021-11-20T23:21:46.214069Z"
    },
    "id": "yYG2-Cq8lRVQ"
   },
   "outputs": [],
   "source": [
    "def train_one_epoch(model, train_dataloader, criterion, optimizer, device=\"cuda:0\", return_losses=False):\n",
    "    model  = model.to(device).train()\n",
    "\n",
    "    total_loss = 0\n",
    "    num_batches = 0\n",
    "    all_losses = []\n",
    "    total_predictions = np.array([])\n",
    "    total_labels = np.array([])\n",
    "    with tqdm(total=len(train_dataloader), file=sys.stdout) as prbar:\n",
    "        for images, labels in train_dataloader:\n",
    "            images = images.to(device)\n",
    "            labels = labels.to(device)\n",
    "            predicted = model(images)\n",
    "            loss = criterion(predicted, labels)\n",
    "            loss.backward()\n",
    "            optimizer.step()\n",
    "            optimizer.zero_grad()\n",
    "            accuracy = (predicted.argmax(1) == labels).float().mean()\n",
    "            \n",
    "            prbar.set_description(\n",
    "                f\"Loss: {round(loss.item(), 4)} \"\n",
    "                f\"Accuracy: {round(accuracy.item() * 100, 4)}\"\n",
    "            )\n",
    "            prbar.update(1)\n",
    "            \n",
    "            total_loss += loss.item()\n",
    "            total_predictions = np.append(total_predictions, predicted.argmax(1).cpu().detach().numpy())\n",
    "            total_labels = np.append(total_labels, labels.cpu().detach().numpy())\n",
    "            num_batches += 1\n",
    "            all_losses.append(loss.detach().item())\n",
    "    metrics = {\"loss\": total_loss / num_batches}\n",
    "    metrics.update({\"accuracy\": (total_predictions == total_labels).mean()})\n",
    "    if return_losses == True:\n",
    "        return metrics, all_losses\n",
    "    else:\n",
    "        return metrics\n",
    "    #pass\n",
    "\n",
    "\n",
    "def predict(model, val_dataloader, criterion, device=\"cuda:0\"):\n",
    "    model = model.to(device).eval()\n",
    "\n",
    "    predicted_classes = np.array([])\n",
    "    true_classes = np.array([])\n",
    "    losses = []\n",
    "    with tqdm(total=len(val_dataloader), file=sys.stdout) as prbar:\n",
    "         for images, labels in tqdm(val_dataloader):\n",
    "             images = images.to(device)\n",
    "             labels = labels.to(device)\n",
    "             predicted = model(images)\n",
    "             loss = criterion(predicted, labels)\n",
    "             accuracy = (predicted.argmax(1) == labels).float().mean()\n",
    "             \n",
    "             prbar.set_description(\n",
    "                f\"Loss: {round(loss.item(), 4)} \"\n",
    "                f\"Accuracy: {round(accuracy.item() * 100, 4)}\"\n",
    "             )\n",
    "             prbar.update(1)\n",
    "\n",
    "             losses.append(loss.detach().item())\n",
    "             predicted_classes = np.append(predicted_classes, predicted.argmax(1).cpu().detach().numpy())\n",
    "             true_classes = np.append(true_classes, labels.cpu().detach().numpy())\n",
    "             \n",
    "         accuracy_t = accuracy_score(predicted_classes, true_classes)\n",
    "         print(accuracy_t)\n",
    "    return losses, predicted_classes, true_classes\n",
    "\n",
    "\n",
    "def train(model, train_dataloader, val_dataloader, criterion, optimizer, device=\"cuda:0\", n_epochs= n_epochs, scheduler=scheduler):\n",
    "    model.to(device)\n",
    "    all_train_losses = []\n",
    "    epoch_train_losses = []\n",
    "    epoch_eval_losses = []\n",
    "    for epoch in range(n_epochs):\n",
    "        print(f\"Train Epoch: {epoch}\")\n",
    "        train_metrics, one_epoch_train_losses = train_one_epoch(\n",
    "            model=model,\n",
    "            train_dataloader=train_dataloader,\n",
    "            criterion=criterion,\n",
    "            optimizer=optimizer,\n",
    "            device = device,\n",
    "            return_losses=True\n",
    "        )\n",
    "        \n",
    "\n",
    "        # Save Train losses\n",
    "        print(f\"Accuracy: {train_metrics['accuracy']}\")\n",
    "        all_train_losses.extend(one_epoch_train_losses)\n",
    "        epoch_train_losses.append(train_metrics[\"loss\"])\n",
    "        # Eval step\n",
    "        print(f\"Validation Epoch: {epoch}\")\n",
    "        with torch.no_grad():\n",
    "            validation_metrics = predict(\n",
    "                model=model,\n",
    "                val_dataloader=val_dataloader,\n",
    "                criterion=criterion,\n",
    "                device = device\n",
    "            )\n",
    "        # Save eval losses\n",
    "        epoch_eval_losses.append(np.mean(validation_metrics[0]))\n",
    "        #scheduler.step(np.sum(validation_metrics[0]))\n",
    "        scheduler.step(accuracy_score(validation_metrics[1],validation_metrics[2]))\n",
    "    \n",
    "    fig = plt.figure()\n",
    "    plt.plot(range(len(epoch_train_losses)), epoch_train_losses, label='train')\n",
    "    plt.plot(range(len(epoch_eval_losses)),epoch_eval_losses,label = 'val')\n",
    "    plt.xlabel('Epoch')\n",
    "    plt.ylabel('Loss')\n",
    "    plt.grid()\n",
    "    plt.legend()\n",
    "    plt.show()\n",
    "\n",
    "        # Train, evaluate, print accuracy, make a step of scheduler or whatever you want...\n",
    "    pass"
   ]
  },
  {
   "cell_type": "code",
   "execution_count": null,
   "metadata": {
    "execution": {
     "iopub.execute_input": "2021-11-20T16:43:14.708308Z",
     "iopub.status.busy": "2021-11-20T16:43:14.708057Z",
     "iopub.status.idle": "2021-11-20T16:43:45.660467Z",
     "shell.execute_reply": "2021-11-20T16:43:45.659662Z",
     "shell.execute_reply.started": "2021-11-20T16:43:14.708273Z"
    },
    "id": "B_LB2jn6lRVY",
    "outputId": "b59c7763-d4ab-413f-8169-eb4937d2e932"
   },
   "outputs": [],
   "source": [
    "all_losses, predicted_labels, true_labels = predict(model, val_dataloader, criterion, device)\n",
    "assert len(predicted_labels) == len(val_dataset)\n",
    "accuracy = accuracy_score(predicted_labels, true_labels)\n",
    "print(\"tests passed\")"
   ]
  },
  {
   "cell_type": "code",
   "execution_count": null,
   "metadata": {
    "execution": {
     "iopub.execute_input": "2021-11-20T20:35:35.867195Z",
     "iopub.status.busy": "2021-11-20T20:35:35.866676Z",
     "iopub.status.idle": "2021-11-20T22:11:30.704612Z",
     "shell.execute_reply": "2021-11-20T22:11:30.70385Z",
     "shell.execute_reply.started": "2021-11-20T20:35:35.867159Z"
    },
    "id": "ECIzZ_RYlRVZ",
    "outputId": "83fdd578-a5dc-4870-aa44-e627c24b00a5"
   },
   "outputs": [],
   "source": [
    "#здесь выкладка показывает итог предпоследнего эксперимента\n",
    "train(model, train_dataloader, val_dataloader, criterion, optimizer, device, n_epochs, scheduler=scheduler)"
   ]
  },
  {
   "cell_type": "code",
   "execution_count": 11,
   "metadata": {
    "execution": {
     "iopub.execute_input": "2021-11-20T23:21:54.165653Z",
     "iopub.status.busy": "2021-11-20T23:21:54.165062Z",
     "iopub.status.idle": "2021-11-21T01:04:01.376175Z",
     "shell.execute_reply": "2021-11-21T01:04:01.375376Z",
     "shell.execute_reply.started": "2021-11-20T23:21:54.165612Z"
    }
   },
   "outputs": [
    {
     "name": "stdout",
     "output_type": "stream",
     "text": [
      "Train Epoch: 0\n"
     ]
    },
    {
     "data": {
      "application/vnd.jupyter.widget-view+json": {
       "model_id": "2d9c381ebcbb40b693f8a6860fab3e29",
       "version_major": 2,
       "version_minor": 0
      },
      "text/plain": [
       "  0%|          | 0/1563 [00:00<?, ?it/s]"
      ]
     },
     "metadata": {},
     "output_type": "display_data"
    },
    {
     "name": "stdout",
     "output_type": "stream",
     "text": [
      "Accuracy: 0.3123\n",
      "Validation Epoch: 0\n"
     ]
    },
    {
     "data": {
      "application/vnd.jupyter.widget-view+json": {
       "model_id": "7497d2284c794bf887b04f63b591d6bb",
       "version_major": 2,
       "version_minor": 0
      },
      "text/plain": [
       "  0%|          | 0/157 [00:00<?, ?it/s]"
      ]
     },
     "metadata": {},
     "output_type": "display_data"
    },
    {
     "data": {
      "application/vnd.jupyter.widget-view+json": {
       "model_id": "43c2a7016c964f69bcf301786274aea2",
       "version_major": 2,
       "version_minor": 0
      },
      "text/plain": [
       "  0%|          | 0/157 [00:00<?, ?it/s]"
      ]
     },
     "metadata": {},
     "output_type": "display_data"
    },
    {
     "name": "stdout",
     "output_type": "stream",
     "text": [
      "0.557\n",
      "Train Epoch: 1\n"
     ]
    },
    {
     "name": "stderr",
     "output_type": "stream",
     "text": [
      "/opt/conda/lib/python3.7/site-packages/torch/optim/lr_scheduler.py:154: UserWarning: The epoch parameter in `scheduler.step()` was not necessary and is being deprecated where possible. Please use `scheduler.step()` to step the scheduler. During the deprecation, if epoch is different from None, the closed form is used instead of the new chainable form, where available. Please open an issue if you are unable to replicate your use case: https://github.com/pytorch/pytorch/issues/new/choose.\n",
      "  warnings.warn(EPOCH_DEPRECATION_WARNING, UserWarning)\n"
     ]
    },
    {
     "data": {
      "application/vnd.jupyter.widget-view+json": {
       "model_id": "7528385565664b61adfa431bfaeec226",
       "version_major": 2,
       "version_minor": 0
      },
      "text/plain": [
       "  0%|          | 0/1563 [00:00<?, ?it/s]"
      ]
     },
     "metadata": {},
     "output_type": "display_data"
    },
    {
     "name": "stdout",
     "output_type": "stream",
     "text": [
      "Accuracy: 0.56156\n",
      "Validation Epoch: 1\n"
     ]
    },
    {
     "data": {
      "application/vnd.jupyter.widget-view+json": {
       "model_id": "3f24fc4e3053420b8ea499ec7b2148fe",
       "version_major": 2,
       "version_minor": 0
      },
      "text/plain": [
       "  0%|          | 0/157 [00:00<?, ?it/s]"
      ]
     },
     "metadata": {},
     "output_type": "display_data"
    },
    {
     "data": {
      "application/vnd.jupyter.widget-view+json": {
       "model_id": "b65e59d537494ca5815646fbd180d69a",
       "version_major": 2,
       "version_minor": 0
      },
      "text/plain": [
       "  0%|          | 0/157 [00:00<?, ?it/s]"
      ]
     },
     "metadata": {},
     "output_type": "display_data"
    },
    {
     "name": "stdout",
     "output_type": "stream",
     "text": [
      "0.6488\n",
      "Train Epoch: 2\n"
     ]
    },
    {
     "data": {
      "application/vnd.jupyter.widget-view+json": {
       "model_id": "fd9aca3def914103a64ac6e4a1bc9243",
       "version_major": 2,
       "version_minor": 0
      },
      "text/plain": [
       "  0%|          | 0/1563 [00:00<?, ?it/s]"
      ]
     },
     "metadata": {},
     "output_type": "display_data"
    },
    {
     "name": "stdout",
     "output_type": "stream",
     "text": [
      "Accuracy: 0.62757\n",
      "Validation Epoch: 2\n"
     ]
    },
    {
     "data": {
      "application/vnd.jupyter.widget-view+json": {
       "model_id": "a6344c3b4dc74267aea5664f6100ddc0",
       "version_major": 2,
       "version_minor": 0
      },
      "text/plain": [
       "  0%|          | 0/157 [00:00<?, ?it/s]"
      ]
     },
     "metadata": {},
     "output_type": "display_data"
    },
    {
     "data": {
      "application/vnd.jupyter.widget-view+json": {
       "model_id": "a216cc6c90754ae38e41979abd933516",
       "version_major": 2,
       "version_minor": 0
      },
      "text/plain": [
       "  0%|          | 0/157 [00:00<?, ?it/s]"
      ]
     },
     "metadata": {},
     "output_type": "display_data"
    },
    {
     "name": "stdout",
     "output_type": "stream",
     "text": [
      "0.6867\n",
      "Train Epoch: 3\n"
     ]
    },
    {
     "data": {
      "application/vnd.jupyter.widget-view+json": {
       "model_id": "cca79a0e2a214dc5bc5ceee7adc0dd4f",
       "version_major": 2,
       "version_minor": 0
      },
      "text/plain": [
       "  0%|          | 0/1563 [00:00<?, ?it/s]"
      ]
     },
     "metadata": {},
     "output_type": "display_data"
    },
    {
     "name": "stdout",
     "output_type": "stream",
     "text": [
      "Accuracy: 0.66328\n",
      "Validation Epoch: 3\n"
     ]
    },
    {
     "data": {
      "application/vnd.jupyter.widget-view+json": {
       "model_id": "aa48819014f84c21b580715f91d51b4e",
       "version_major": 2,
       "version_minor": 0
      },
      "text/plain": [
       "  0%|          | 0/157 [00:00<?, ?it/s]"
      ]
     },
     "metadata": {},
     "output_type": "display_data"
    },
    {
     "data": {
      "application/vnd.jupyter.widget-view+json": {
       "model_id": "7c3a517459d14c828d490e2a4d213a55",
       "version_major": 2,
       "version_minor": 0
      },
      "text/plain": [
       "  0%|          | 0/157 [00:00<?, ?it/s]"
      ]
     },
     "metadata": {},
     "output_type": "display_data"
    },
    {
     "name": "stdout",
     "output_type": "stream",
     "text": [
      "0.7003\n",
      "Train Epoch: 4\n"
     ]
    },
    {
     "data": {
      "application/vnd.jupyter.widget-view+json": {
       "model_id": "5c8b746aa11043ba89c0fcb4646081d4",
       "version_major": 2,
       "version_minor": 0
      },
      "text/plain": [
       "  0%|          | 0/1563 [00:00<?, ?it/s]"
      ]
     },
     "metadata": {},
     "output_type": "display_data"
    },
    {
     "name": "stdout",
     "output_type": "stream",
     "text": [
      "Accuracy: 0.68938\n",
      "Validation Epoch: 4\n"
     ]
    },
    {
     "data": {
      "application/vnd.jupyter.widget-view+json": {
       "model_id": "8773a91a2f124a63bd57da64e9f086db",
       "version_major": 2,
       "version_minor": 0
      },
      "text/plain": [
       "  0%|          | 0/157 [00:00<?, ?it/s]"
      ]
     },
     "metadata": {},
     "output_type": "display_data"
    },
    {
     "data": {
      "application/vnd.jupyter.widget-view+json": {
       "model_id": "7dbbf8d143be4f419f6f2343529fbfc7",
       "version_major": 2,
       "version_minor": 0
      },
      "text/plain": [
       "  0%|          | 0/157 [00:00<?, ?it/s]"
      ]
     },
     "metadata": {},
     "output_type": "display_data"
    },
    {
     "name": "stdout",
     "output_type": "stream",
     "text": [
      "0.713\n",
      "Train Epoch: 5\n"
     ]
    },
    {
     "data": {
      "application/vnd.jupyter.widget-view+json": {
       "model_id": "c7f7811ec56c4177b8d74e3f31ad93c8",
       "version_major": 2,
       "version_minor": 0
      },
      "text/plain": [
       "  0%|          | 0/1563 [00:00<?, ?it/s]"
      ]
     },
     "metadata": {},
     "output_type": "display_data"
    },
    {
     "name": "stdout",
     "output_type": "stream",
     "text": [
      "Accuracy: 0.70807\n",
      "Validation Epoch: 5\n"
     ]
    },
    {
     "data": {
      "application/vnd.jupyter.widget-view+json": {
       "model_id": "4a49cd710d3640c0a2f0deddb5dc9c2d",
       "version_major": 2,
       "version_minor": 0
      },
      "text/plain": [
       "  0%|          | 0/157 [00:00<?, ?it/s]"
      ]
     },
     "metadata": {},
     "output_type": "display_data"
    },
    {
     "data": {
      "application/vnd.jupyter.widget-view+json": {
       "model_id": "ad616176b92d49d1a85ab002c0151f31",
       "version_major": 2,
       "version_minor": 0
      },
      "text/plain": [
       "  0%|          | 0/157 [00:00<?, ?it/s]"
      ]
     },
     "metadata": {},
     "output_type": "display_data"
    },
    {
     "name": "stdout",
     "output_type": "stream",
     "text": [
      "0.7218\n",
      "Train Epoch: 6\n"
     ]
    },
    {
     "data": {
      "application/vnd.jupyter.widget-view+json": {
       "model_id": "4756ecc231f1417bbdb87c49b8e1934d",
       "version_major": 2,
       "version_minor": 0
      },
      "text/plain": [
       "  0%|          | 0/1563 [00:00<?, ?it/s]"
      ]
     },
     "metadata": {},
     "output_type": "display_data"
    },
    {
     "name": "stdout",
     "output_type": "stream",
     "text": [
      "Accuracy: 0.72586\n",
      "Validation Epoch: 6\n"
     ]
    },
    {
     "data": {
      "application/vnd.jupyter.widget-view+json": {
       "model_id": "0ad6dcca80ed4b139fdfa18f8ef5124f",
       "version_major": 2,
       "version_minor": 0
      },
      "text/plain": [
       "  0%|          | 0/157 [00:00<?, ?it/s]"
      ]
     },
     "metadata": {},
     "output_type": "display_data"
    },
    {
     "data": {
      "application/vnd.jupyter.widget-view+json": {
       "model_id": "6d8ae58803274310b92f2fecbe7e656d",
       "version_major": 2,
       "version_minor": 0
      },
      "text/plain": [
       "  0%|          | 0/157 [00:00<?, ?it/s]"
      ]
     },
     "metadata": {},
     "output_type": "display_data"
    },
    {
     "name": "stdout",
     "output_type": "stream",
     "text": [
      "0.7214\n",
      "Train Epoch: 7\n"
     ]
    },
    {
     "data": {
      "application/vnd.jupyter.widget-view+json": {
       "model_id": "c0eccc63da2447418569531600687b22",
       "version_major": 2,
       "version_minor": 0
      },
      "text/plain": [
       "  0%|          | 0/1563 [00:00<?, ?it/s]"
      ]
     },
     "metadata": {},
     "output_type": "display_data"
    },
    {
     "name": "stdout",
     "output_type": "stream",
     "text": [
      "Accuracy: 0.74106\n",
      "Validation Epoch: 7\n"
     ]
    },
    {
     "data": {
      "application/vnd.jupyter.widget-view+json": {
       "model_id": "31ed21503069407e8602927376331c7d",
       "version_major": 2,
       "version_minor": 0
      },
      "text/plain": [
       "  0%|          | 0/157 [00:00<?, ?it/s]"
      ]
     },
     "metadata": {},
     "output_type": "display_data"
    },
    {
     "data": {
      "application/vnd.jupyter.widget-view+json": {
       "model_id": "9db930ad60ea4ae486909bdf09f9f5c2",
       "version_major": 2,
       "version_minor": 0
      },
      "text/plain": [
       "  0%|          | 0/157 [00:00<?, ?it/s]"
      ]
     },
     "metadata": {},
     "output_type": "display_data"
    },
    {
     "name": "stdout",
     "output_type": "stream",
     "text": [
      "0.722\n",
      "Train Epoch: 8\n"
     ]
    },
    {
     "data": {
      "application/vnd.jupyter.widget-view+json": {
       "model_id": "ae7afa603f874169b6dffe640840c4e6",
       "version_major": 2,
       "version_minor": 0
      },
      "text/plain": [
       "  0%|          | 0/1563 [00:00<?, ?it/s]"
      ]
     },
     "metadata": {},
     "output_type": "display_data"
    },
    {
     "name": "stdout",
     "output_type": "stream",
     "text": [
      "Accuracy: 0.75444\n",
      "Validation Epoch: 8\n"
     ]
    },
    {
     "data": {
      "application/vnd.jupyter.widget-view+json": {
       "model_id": "fd4b3462e0974bdbbb948cd0525d8eed",
       "version_major": 2,
       "version_minor": 0
      },
      "text/plain": [
       "  0%|          | 0/157 [00:00<?, ?it/s]"
      ]
     },
     "metadata": {},
     "output_type": "display_data"
    },
    {
     "data": {
      "application/vnd.jupyter.widget-view+json": {
       "model_id": "e4c4280a0d534105aa786e9b20263b24",
       "version_major": 2,
       "version_minor": 0
      },
      "text/plain": [
       "  0%|          | 0/157 [00:00<?, ?it/s]"
      ]
     },
     "metadata": {},
     "output_type": "display_data"
    },
    {
     "name": "stdout",
     "output_type": "stream",
     "text": [
      "0.7274\n",
      "Train Epoch: 9\n"
     ]
    },
    {
     "data": {
      "application/vnd.jupyter.widget-view+json": {
       "model_id": "4e10477a2926466998bfe450f4d10407",
       "version_major": 2,
       "version_minor": 0
      },
      "text/plain": [
       "  0%|          | 0/1563 [00:00<?, ?it/s]"
      ]
     },
     "metadata": {},
     "output_type": "display_data"
    },
    {
     "name": "stdout",
     "output_type": "stream",
     "text": [
      "Accuracy: 0.76635\n",
      "Validation Epoch: 9\n"
     ]
    },
    {
     "data": {
      "application/vnd.jupyter.widget-view+json": {
       "model_id": "8e45d5de1fe649ad95d325e268b8f7b8",
       "version_major": 2,
       "version_minor": 0
      },
      "text/plain": [
       "  0%|          | 0/157 [00:00<?, ?it/s]"
      ]
     },
     "metadata": {},
     "output_type": "display_data"
    },
    {
     "data": {
      "application/vnd.jupyter.widget-view+json": {
       "model_id": "3363601f97964162bb47d27d608ae74b",
       "version_major": 2,
       "version_minor": 0
      },
      "text/plain": [
       "  0%|          | 0/157 [00:00<?, ?it/s]"
      ]
     },
     "metadata": {},
     "output_type": "display_data"
    },
    {
     "name": "stdout",
     "output_type": "stream",
     "text": [
      "0.729\n"
     ]
    },
    {
     "data": {
      "image/png": "[encoded data removed]",
      "text/plain": [
       "<Figure size 432x288 with 1 Axes>"
      ]
     },
     "metadata": {
      "needs_background": "light"
     },
     "output_type": "display_data"
    }
   ],
   "source": [
    "train(model, train_dataloader, val_dataloader, criterion, optimizer, device, n_epochs, scheduler=scheduler)"
   ]
  },
  {
   "cell_type": "markdown",
   "metadata": {
    "id": "ImVW8_EXlRVZ"
   },
   "source": [
    "### Проверка полученной accuracy"
   ]
  },
  {
   "cell_type": "markdown",
   "metadata": {
    "id": "FmR-elhJlRVZ"
   },
   "source": [
    "После всех экспериментов которые вы проделали, выберите лучшую из своих моделей, реализуйте и запустите функцию `evaluate`. Эта функция должна брать на вход модель и даталоадер с валидационными данными и возврашать accuracy, посчитанную на этом датасете."
   ]
  },
  {
   "cell_type": "code",
   "execution_count": 12,
   "metadata": {
    "execution": {
     "iopub.execute_input": "2021-11-21T01:04:47.338645Z",
     "iopub.status.busy": "2021-11-21T01:04:47.338005Z",
     "iopub.status.idle": "2021-11-21T01:05:19.026719Z",
     "shell.execute_reply": "2021-11-21T01:05:19.026011Z",
     "shell.execute_reply.started": "2021-11-21T01:04:47.338608Z"
    },
    "id": "T01bEXeEoiqW"
   },
   "outputs": [
    {
     "data": {
      "application/vnd.jupyter.widget-view+json": {
       "model_id": "fb9a7db0501143eab9d6d5006619f868",
       "version_major": 2,
       "version_minor": 0
      },
      "text/plain": [
       "  0%|          | 0/157 [00:00<?, ?it/s]"
      ]
     },
     "metadata": {},
     "output_type": "display_data"
    },
    {
     "data": {
      "application/vnd.jupyter.widget-view+json": {
       "model_id": "90d3371dc3cb4100a89aac5eb3d685eb",
       "version_major": 2,
       "version_minor": 0
      },
      "text/plain": [
       "  0%|          | 0/157 [00:00<?, ?it/s]"
      ]
     },
     "metadata": {},
     "output_type": "display_data"
    },
    {
     "name": "stdout",
     "output_type": "stream",
     "text": [
      "0.729\n",
      "0.729\n"
     ]
    }
   ],
   "source": [
    "def evaluate(model, val_dataloader):\n",
    "    all_losses, predicted_labels, true_labels = predict(model, val_dataloader, criterion, device)\n",
    "    accuracy = accuracy_score(true_labels, predicted_labels)\n",
    "    print(accuracy)\n",
    "\n",
    "evaluate(model,val_dataloader)"
   ]
  },
  {
   "cell_type": "code",
   "execution_count": 1,
   "metadata": {
    "execution": {
     "iopub.execute_input": "2021-11-21T01:06:16.496548Z",
     "iopub.status.busy": "2021-11-21T01:06:16.496275Z",
     "iopub.status.idle": "2021-11-21T01:06:48.438582Z",
     "shell.execute_reply": "2021-11-21T01:06:48.437553Z",
     "shell.execute_reply.started": "2021-11-21T01:06:16.496503Z"
    },
    "id": "3TGH0EFalRVb",
    "outputId": "ca4667a4-5278-412f-c6df-39cde2891627"
   },
   "outputs": [
    {
     "name": "stdout",
     "output_type": "stream",
     "text": [
      "0.729\n"
     ]
    }
   ],
   "source": [
    "all_losses, predicted_labels, true_labels = predict(model, val_dataloader, criterion, device)\n",
    "assert len(predicted_labels) == len(val_dataset)\n",
    "accuracy = accuracy_score(true_labels, predicted_labels)\n",
    "print(accuracy)"
   ]
  },
  {
   "cell_type": "markdown",
   "metadata": {
    "id": "pT8vfPSolRVb"
   },
   "source": [
    "### Отчёт об экспериментах \n",
    "\n",
    "1) претрейн resnet 18 (обучаю последний слой); оптимайзер адам, lr = 1e-4, нормалайз по документации, размер батча 100, без ресайза или аугментаций\n",
    "качество 0,3437\n",
    "5 эпох, одна эпоха учится около 5 минут, валидация - около 2 минут\n",
    "\n",
    "2) добавляю ресайз 224х224\n",
    "Качество 0,5745\n",
    "\n",
    "3) добавляю аугментацию autoaugment с дефолтными параметрами, все остальное то же самое; тут я перешла на Kaggle и на GPU обучение одной эпохи составляет порядка 6 минут, валидация - 2 минуты\n",
    "Качество 0,5415\n",
    "\n",
    "4) сделала 10 эпох, сократила lr до 3е-4 \n",
    "Качество 0,598\n",
    "\n",
    "5) Решила вдохновившись материалом на гитхабе (https://github.com/tjmoon0104/Tiny-ImageNet-Classifier) прогнать всю предобученную модель, а не только последний слой; начала с ресайза без аугментаций; оптимайзер Адам lr = 3e-4, 10 эпох, scheduler ReduceLROnPlateau. \n",
    "Качество 0,594. По графику видно, что на валидации качество выходит на плато, в то время как продолжает повышаться на тренировочном датасете, что становится сигналом переобучения и склоняет к поиску оптимальной аугментации для решения этой проблемы.\n",
    "\n",
    "6) C аугментацией (см. ячейку с даталоадерами) качество модели несколько ухудшилось - увеличилось время на эпоху, модели требуется больше времени на повышение качества\n",
    "\n",
    "7) Решила попробовать оптимайзер и scheduler как в уже упомянутом материале на гитхабе - SGD и StepLR. Аугментация сохранена\n",
    "Качество составило 0,729 (график выше)"
   ]
  }
 ],
 "metadata": {
  "kernelspec": {
   "display_name": "Python 3",
   "language": "python",
   "name": "python3"
  },
  "language_info": {
   "codemirror_mode": {
    "name": "ipython",
    "version": 3
   },
   "file_extension": ".py",
   "mimetype": "text/x-python",
   "name": "python",
   "nbconvert_exporter": "python",
   "pygments_lexer": "ipython3",
   "version": "3.7.4"
  }
 },
 "nbformat": 4,
 "nbformat_minor": 4
}
