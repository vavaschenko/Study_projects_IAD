{
 "cells": [
  {
   "cell_type": "markdown",
   "metadata": {
    "id": "ExuV3ktSQYrH"
   },
   "source": [
    "<center><img src=\"https://github.com/hse-ds/iad-applied-ds/blob/master/2021/hw/hw1/img/logo_hse.png?raw=1\" width=\"1000\"></center>\n",
    "\n",
    "<h1><center>Прикладные задачи анализа данных</center></h1>\n",
    "<h2><center>Домашнее задание 4: рекомендательные системы</center></h2>"
   ]
  },
  {
   "cell_type": "markdown",
   "metadata": {
    "id": "ef6180WvQbD-"
   },
   "source": [
    "# Введение\n",
    "\n",
    "В этом задании Вы продолжите работать с данными из семинара [Articles Sharing and Reading from CI&T Deskdrop](https://www.kaggle.com/gspmoreira/articles-sharing-reading-from-cit-deskdrop)."
   ]
  },
  {
   "cell_type": "markdown",
   "metadata": {
    "id": "nSV_mxD9TciM"
   },
   "source": [
    "# Загрузка и предобработка данных"
   ]
  },
  {
   "cell_type": "code",
   "execution_count": 1,
   "metadata": {
    "execution": {
     "iopub.execute_input": "2022-05-24T19:26:58.486219Z",
     "iopub.status.busy": "2022-05-24T19:26:58.485879Z",
     "iopub.status.idle": "2022-05-24T19:26:58.510134Z",
     "shell.execute_reply": "2022-05-24T19:26:58.509341Z",
     "shell.execute_reply.started": "2022-05-24T19:26:58.486134Z"
    },
    "id": "M5mH3ZolSlcm"
   },
   "outputs": [],
   "source": [
    "import pandas as pd\n",
    "import numpy as np\n",
    "import math"
   ]
  },
  {
   "cell_type": "code",
   "execution_count": 2,
   "metadata": {
    "execution": {
     "iopub.execute_input": "2022-05-24T19:26:58.514019Z",
     "iopub.status.busy": "2022-05-24T19:26:58.513527Z",
     "iopub.status.idle": "2022-05-24T19:26:58.517805Z",
     "shell.execute_reply": "2022-05-24T19:26:58.517156Z",
     "shell.execute_reply.started": "2022-05-24T19:26:58.513983Z"
    },
    "id": "8E837g9kQTbb"
   },
   "outputs": [],
   "source": [
    "#!kaggle datasets download -d gspmoreira/articles-sharing-reading-from-cit-deskdrop\n",
    "#!unzip articles-sharing-reading-from-cit-deskdrop.zip -d articles"
   ]
  },
  {
   "cell_type": "code",
   "execution_count": 3,
   "metadata": {
    "execution": {
     "iopub.execute_input": "2022-05-24T19:26:58.520185Z",
     "iopub.status.busy": "2022-05-24T19:26:58.519664Z",
     "iopub.status.idle": "2022-05-24T19:26:59.389215Z",
     "shell.execute_reply": "2022-05-24T19:26:59.388368Z",
     "shell.execute_reply.started": "2022-05-24T19:26:58.520146Z"
    },
    "id": "hdM1xSchR9jt",
    "outputId": "30425539-dc45-47ef-874d-540b1c98d1f8"
   },
   "outputs": [
    {
     "data": {
      "text/html": [
       "<div>\n",
       "<style scoped>\n",
       "    .dataframe tbody tr th:only-of-type {\n",
       "        vertical-align: middle;\n",
       "    }\n",
       "\n",
       "    .dataframe tbody tr th {\n",
       "        vertical-align: top;\n",
       "    }\n",
       "\n",
       "    .dataframe thead th {\n",
       "        text-align: right;\n",
       "    }\n",
       "</style>\n",
       "<table border=\"1\" class=\"dataframe\">\n",
       "  <thead>\n",
       "    <tr style=\"text-align: right;\">\n",
       "      <th></th>\n",
       "      <th>timestamp</th>\n",
       "      <th>eventType</th>\n",
       "      <th>contentId</th>\n",
       "      <th>authorPersonId</th>\n",
       "      <th>authorSessionId</th>\n",
       "      <th>authorUserAgent</th>\n",
       "      <th>authorRegion</th>\n",
       "      <th>authorCountry</th>\n",
       "      <th>contentType</th>\n",
       "      <th>url</th>\n",
       "      <th>title</th>\n",
       "      <th>text</th>\n",
       "      <th>lang</th>\n",
       "    </tr>\n",
       "  </thead>\n",
       "  <tbody>\n",
       "    <tr>\n",
       "      <th>1</th>\n",
       "      <td>1459193988</td>\n",
       "      <td>CONTENT SHARED</td>\n",
       "      <td>-4110354420726924665</td>\n",
       "      <td>4340306774493623681</td>\n",
       "      <td>8940341205206233829</td>\n",
       "      <td>NaN</td>\n",
       "      <td>NaN</td>\n",
       "      <td>NaN</td>\n",
       "      <td>HTML</td>\n",
       "      <td>http://www.nytimes.com/2016/03/28/business/dea...</td>\n",
       "      <td>Ethereum, a Virtual Currency, Enables Transact...</td>\n",
       "      <td>All of this work is still very early. The firs...</td>\n",
       "      <td>en</td>\n",
       "    </tr>\n",
       "    <tr>\n",
       "      <th>2</th>\n",
       "      <td>1459194146</td>\n",
       "      <td>CONTENT SHARED</td>\n",
       "      <td>-7292285110016212249</td>\n",
       "      <td>4340306774493623681</td>\n",
       "      <td>8940341205206233829</td>\n",
       "      <td>NaN</td>\n",
       "      <td>NaN</td>\n",
       "      <td>NaN</td>\n",
       "      <td>HTML</td>\n",
       "      <td>http://cointelegraph.com/news/bitcoin-future-w...</td>\n",
       "      <td>Bitcoin Future: When GBPcoin of Branson Wins O...</td>\n",
       "      <td>The alarm clock wakes me at 8:00 with stream o...</td>\n",
       "      <td>en</td>\n",
       "    </tr>\n",
       "  </tbody>\n",
       "</table>\n",
       "</div>"
      ],
      "text/plain": [
       "    timestamp       eventType            contentId       authorPersonId  \\\n",
       "1  1459193988  CONTENT SHARED -4110354420726924665  4340306774493623681   \n",
       "2  1459194146  CONTENT SHARED -7292285110016212249  4340306774493623681   \n",
       "\n",
       "       authorSessionId authorUserAgent authorRegion authorCountry contentType  \\\n",
       "1  8940341205206233829             NaN          NaN           NaN        HTML   \n",
       "2  8940341205206233829             NaN          NaN           NaN        HTML   \n",
       "\n",
       "                                                 url  \\\n",
       "1  http://www.nytimes.com/2016/03/28/business/dea...   \n",
       "2  http://cointelegraph.com/news/bitcoin-future-w...   \n",
       "\n",
       "                                               title  \\\n",
       "1  Ethereum, a Virtual Currency, Enables Transact...   \n",
       "2  Bitcoin Future: When GBPcoin of Branson Wins O...   \n",
       "\n",
       "                                                text lang  \n",
       "1  All of this work is still very early. The firs...   en  \n",
       "2  The alarm clock wakes me at 8:00 with stream o...   en  "
      ]
     },
     "execution_count": 3,
     "metadata": {},
     "output_type": "execute_result"
    }
   ],
   "source": [
    "articles_df = pd.read_csv(\"../input/articles-sharing-reading-from-cit-deskdrop/shared_articles.csv\")\n",
    "articles_df = articles_df[articles_df[\"eventType\"] == \"CONTENT SHARED\"]\n",
    "articles_df.head(2)"
   ]
  },
  {
   "cell_type": "code",
   "execution_count": 4,
   "metadata": {
    "execution": {
     "iopub.execute_input": "2022-05-24T19:26:59.391460Z",
     "iopub.status.busy": "2022-05-24T19:26:59.391200Z",
     "iopub.status.idle": "2022-05-24T19:26:59.747588Z",
     "shell.execute_reply": "2022-05-24T19:26:59.746848Z",
     "shell.execute_reply.started": "2022-05-24T19:26:59.391421Z"
    },
    "id": "KK9wMAkvSjbk",
    "outputId": "0824a32c-6ea9-4e22-f326-45b917b5d063"
   },
   "outputs": [
    {
     "data": {
      "text/html": [
       "<div>\n",
       "<style scoped>\n",
       "    .dataframe tbody tr th:only-of-type {\n",
       "        vertical-align: middle;\n",
       "    }\n",
       "\n",
       "    .dataframe tbody tr th {\n",
       "        vertical-align: top;\n",
       "    }\n",
       "\n",
       "    .dataframe thead th {\n",
       "        text-align: right;\n",
       "    }\n",
       "</style>\n",
       "<table border=\"1\" class=\"dataframe\">\n",
       "  <thead>\n",
       "    <tr style=\"text-align: right;\">\n",
       "      <th></th>\n",
       "      <th>timestamp</th>\n",
       "      <th>eventType</th>\n",
       "      <th>contentId</th>\n",
       "      <th>personId</th>\n",
       "      <th>sessionId</th>\n",
       "      <th>userAgent</th>\n",
       "      <th>userRegion</th>\n",
       "      <th>userCountry</th>\n",
       "    </tr>\n",
       "  </thead>\n",
       "  <tbody>\n",
       "    <tr>\n",
       "      <th>0</th>\n",
       "      <td>1465413032</td>\n",
       "      <td>VIEW</td>\n",
       "      <td>-3499919498720038879</td>\n",
       "      <td>-8845298781299428018</td>\n",
       "      <td>1264196770339959068</td>\n",
       "      <td>NaN</td>\n",
       "      <td>NaN</td>\n",
       "      <td>NaN</td>\n",
       "    </tr>\n",
       "    <tr>\n",
       "      <th>1</th>\n",
       "      <td>1465412560</td>\n",
       "      <td>VIEW</td>\n",
       "      <td>8890720798209849691</td>\n",
       "      <td>-1032019229384696495</td>\n",
       "      <td>3621737643587579081</td>\n",
       "      <td>Mozilla/5.0 (Macintosh; Intel Mac OS X 10_11_2...</td>\n",
       "      <td>NY</td>\n",
       "      <td>US</td>\n",
       "    </tr>\n",
       "  </tbody>\n",
       "</table>\n",
       "</div>"
      ],
      "text/plain": [
       "    timestamp eventType            contentId             personId  \\\n",
       "0  1465413032      VIEW -3499919498720038879 -8845298781299428018   \n",
       "1  1465412560      VIEW  8890720798209849691 -1032019229384696495   \n",
       "\n",
       "             sessionId                                          userAgent  \\\n",
       "0  1264196770339959068                                                NaN   \n",
       "1  3621737643587579081  Mozilla/5.0 (Macintosh; Intel Mac OS X 10_11_2...   \n",
       "\n",
       "  userRegion userCountry  \n",
       "0        NaN         NaN  \n",
       "1         NY          US  "
      ]
     },
     "execution_count": 4,
     "metadata": {},
     "output_type": "execute_result"
    }
   ],
   "source": [
    "interactions_df = pd.read_csv(\"../input/articles-sharing-reading-from-cit-deskdrop/users_interactions.csv\")\n",
    "interactions_df.head(2)"
   ]
  },
  {
   "cell_type": "code",
   "execution_count": 5,
   "metadata": {
    "execution": {
     "iopub.execute_input": "2022-05-24T19:26:59.750277Z",
     "iopub.status.busy": "2022-05-24T19:26:59.748781Z",
     "iopub.status.idle": "2022-05-24T19:26:59.904807Z",
     "shell.execute_reply": "2022-05-24T19:26:59.904041Z",
     "shell.execute_reply.started": "2022-05-24T19:26:59.750236Z"
    },
    "id": "5nQScdSTTzNG"
   },
   "outputs": [],
   "source": [
    "interactions_df.personId = interactions_df.personId.astype(str)\n",
    "interactions_df.contentId = interactions_df.contentId.astype(str)\n",
    "articles_df.contentId = articles_df.contentId.astype(str)"
   ]
  },
  {
   "cell_type": "code",
   "execution_count": 6,
   "metadata": {
    "execution": {
     "iopub.execute_input": "2022-05-24T19:26:59.907308Z",
     "iopub.status.busy": "2022-05-24T19:26:59.907016Z",
     "iopub.status.idle": "2022-05-24T19:26:59.938796Z",
     "shell.execute_reply": "2022-05-24T19:26:59.938010Z",
     "shell.execute_reply.started": "2022-05-24T19:26:59.907271Z"
    },
    "id": "eu6R9rDQT2P4"
   },
   "outputs": [],
   "source": [
    "# зададим словарь определяющий силу взаимодействия\n",
    "event_type_strength = {\n",
    "   \"VIEW\": 1.0,\n",
    "   \"LIKE\": 2.0, \n",
    "   \"BOOKMARK\": 2.5, \n",
    "   \"FOLLOW\": 3.0,\n",
    "   \"COMMENT CREATED\": 4.0,  \n",
    "}\n",
    "\n",
    "interactions_df[\"eventStrength\"] = interactions_df.eventType.apply(lambda x: event_type_strength[x])"
   ]
  },
  {
   "cell_type": "markdown",
   "metadata": {
    "id": "ATO5PRRwUkQ0"
   },
   "source": [
    "Оставляем только тех пользователей, которые произамодействовали более чем с пятью статьями."
   ]
  },
  {
   "cell_type": "code",
   "execution_count": 7,
   "metadata": {
    "execution": {
     "iopub.execute_input": "2022-05-24T19:26:59.940609Z",
     "iopub.status.busy": "2022-05-24T19:26:59.940330Z",
     "iopub.status.idle": "2022-05-24T19:27:00.107408Z",
     "shell.execute_reply": "2022-05-24T19:27:00.106605Z",
     "shell.execute_reply.started": "2022-05-24T19:26:59.940571Z"
    },
    "id": "d-0HoboYUBm5",
    "outputId": "93a6d973-136b-43c0-ab13-861742e91d59"
   },
   "outputs": [
    {
     "name": "stdout",
     "output_type": "stream",
     "text": [
      "# users: 1895\n",
      "# users with at least 5 interactions: 1140\n"
     ]
    }
   ],
   "source": [
    "users_interactions_count_df = (\n",
    "    interactions_df\n",
    "    .groupby([\"personId\", \"contentId\"])\n",
    "    .first()\n",
    "    .reset_index()\n",
    "    .groupby(\"personId\").size())\n",
    "print(\"# users:\", len(users_interactions_count_df))\n",
    "\n",
    "users_with_enough_interactions_df = \\\n",
    "    users_interactions_count_df[users_interactions_count_df >= 5].reset_index()[[\"personId\"]]\n",
    "print(\"# users with at least 5 interactions:\",len(users_with_enough_interactions_df))"
   ]
  },
  {
   "cell_type": "markdown",
   "metadata": {
    "id": "gQagI3DHUuX5"
   },
   "source": [
    "Оставляем только те взаимодействия, которые относятся к отфильтрованным пользователям."
   ]
  },
  {
   "cell_type": "code",
   "execution_count": 8,
   "metadata": {
    "execution": {
     "iopub.execute_input": "2022-05-24T19:27:00.112265Z",
     "iopub.status.busy": "2022-05-24T19:27:00.111510Z",
     "iopub.status.idle": "2022-05-24T19:27:04.945804Z",
     "shell.execute_reply": "2022-05-24T19:27:04.945043Z",
     "shell.execute_reply.started": "2022-05-24T19:27:00.112225Z"
    },
    "id": "34rrdGdpUFgk"
   },
   "outputs": [],
   "source": [
    "interactions_from_selected_users_df = interactions_df.loc[np.in1d(interactions_df.personId,\n",
    "            users_with_enough_interactions_df)]"
   ]
  },
  {
   "cell_type": "code",
   "execution_count": 9,
   "metadata": {
    "execution": {
     "iopub.execute_input": "2022-05-24T19:27:04.947715Z",
     "iopub.status.busy": "2022-05-24T19:27:04.947249Z",
     "iopub.status.idle": "2022-05-24T19:27:04.953090Z",
     "shell.execute_reply": "2022-05-24T19:27:04.952401Z",
     "shell.execute_reply.started": "2022-05-24T19:27:04.947676Z"
    },
    "id": "Hd3VS_BgU9HN",
    "outputId": "43c9004c-3cd9-4af7-fbc6-a26e2baf4103"
   },
   "outputs": [
    {
     "name": "stdout",
     "output_type": "stream",
     "text": [
      "# interactions before: (72312, 9)\n",
      "# interactions after: (69868, 9)\n"
     ]
    }
   ],
   "source": [
    "print(f\"# interactions before: {interactions_df.shape}\")\n",
    "print(f\"# interactions after: {interactions_from_selected_users_df.shape}\")"
   ]
  },
  {
   "cell_type": "markdown",
   "metadata": {
    "id": "FYpRiFkQVR6B"
   },
   "source": [
    "Объединяем все взаимодействия пользователя по каждой статье и сглажиываем полученный результат, взяв от него логарифм."
   ]
  },
  {
   "cell_type": "code",
   "execution_count": 10,
   "metadata": {
    "execution": {
     "iopub.execute_input": "2022-05-24T19:27:04.955529Z",
     "iopub.status.busy": "2022-05-24T19:27:04.954799Z",
     "iopub.status.idle": "2022-05-24T19:27:05.129956Z",
     "shell.execute_reply": "2022-05-24T19:27:05.129084Z",
     "shell.execute_reply.started": "2022-05-24T19:27:04.955316Z"
    },
    "id": "mtPtAehKVEUu",
    "outputId": "187ce259-9527-45a4-9ca7-a94cac093b3d"
   },
   "outputs": [
    {
     "data": {
      "text/html": [
       "<div>\n",
       "<style scoped>\n",
       "    .dataframe tbody tr th:only-of-type {\n",
       "        vertical-align: middle;\n",
       "    }\n",
       "\n",
       "    .dataframe tbody tr th {\n",
       "        vertical-align: top;\n",
       "    }\n",
       "\n",
       "    .dataframe thead th {\n",
       "        text-align: right;\n",
       "    }\n",
       "</style>\n",
       "<table border=\"1\" class=\"dataframe\">\n",
       "  <thead>\n",
       "    <tr style=\"text-align: right;\">\n",
       "      <th></th>\n",
       "      <th>personId</th>\n",
       "      <th>contentId</th>\n",
       "      <th>eventStrength</th>\n",
       "      <th>last_timestamp</th>\n",
       "    </tr>\n",
       "  </thead>\n",
       "  <tbody>\n",
       "    <tr>\n",
       "      <th>0</th>\n",
       "      <td>-1007001694607905623</td>\n",
       "      <td>-5065077552540450930</td>\n",
       "      <td>1.000000</td>\n",
       "      <td>1470395911</td>\n",
       "    </tr>\n",
       "    <tr>\n",
       "      <th>1</th>\n",
       "      <td>-1007001694607905623</td>\n",
       "      <td>-6623581327558800021</td>\n",
       "      <td>1.000000</td>\n",
       "      <td>1487240080</td>\n",
       "    </tr>\n",
       "    <tr>\n",
       "      <th>2</th>\n",
       "      <td>-1007001694607905623</td>\n",
       "      <td>-793729620925729327</td>\n",
       "      <td>1.000000</td>\n",
       "      <td>1472834892</td>\n",
       "    </tr>\n",
       "    <tr>\n",
       "      <th>3</th>\n",
       "      <td>-1007001694607905623</td>\n",
       "      <td>1469580151036142903</td>\n",
       "      <td>1.000000</td>\n",
       "      <td>1487240062</td>\n",
       "    </tr>\n",
       "    <tr>\n",
       "      <th>4</th>\n",
       "      <td>-1007001694607905623</td>\n",
       "      <td>7270966256391553686</td>\n",
       "      <td>1.584963</td>\n",
       "      <td>1485994324</td>\n",
       "    </tr>\n",
       "  </tbody>\n",
       "</table>\n",
       "</div>"
      ],
      "text/plain": [
       "               personId             contentId  eventStrength  last_timestamp\n",
       "0  -1007001694607905623  -5065077552540450930       1.000000      1470395911\n",
       "1  -1007001694607905623  -6623581327558800021       1.000000      1487240080\n",
       "2  -1007001694607905623   -793729620925729327       1.000000      1472834892\n",
       "3  -1007001694607905623   1469580151036142903       1.000000      1487240062\n",
       "4  -1007001694607905623   7270966256391553686       1.584963      1485994324"
      ]
     },
     "execution_count": 10,
     "metadata": {},
     "output_type": "execute_result"
    }
   ],
   "source": [
    "def smooth_user_preference(x):\n",
    "    return math.log(1+x, 2)\n",
    "    \n",
    "interactions_full_df = (\n",
    "    interactions_from_selected_users_df\n",
    "    .groupby([\"personId\", \"contentId\"]).eventStrength.sum()\n",
    "    .apply(smooth_user_preference)\n",
    "    .reset_index().set_index([\"personId\", \"contentId\"])\n",
    ")\n",
    "interactions_full_df[\"last_timestamp\"] = (\n",
    "    interactions_from_selected_users_df\n",
    "    .groupby([\"personId\", \"contentId\"])[\"timestamp\"].last()\n",
    ")\n",
    "        \n",
    "interactions_full_df = interactions_full_df.reset_index()\n",
    "interactions_full_df.head(5)"
   ]
  },
  {
   "cell_type": "markdown",
   "metadata": {
    "id": "ODJYMtnNWM5w"
   },
   "source": [
    "Разобьём выборку на обучение и контроль по времени."
   ]
  },
  {
   "cell_type": "code",
   "execution_count": 11,
   "metadata": {
    "execution": {
     "iopub.execute_input": "2022-05-24T19:27:05.131645Z",
     "iopub.status.busy": "2022-05-24T19:27:05.131405Z",
     "iopub.status.idle": "2022-05-24T19:27:05.655046Z",
     "shell.execute_reply": "2022-05-24T19:27:05.654022Z",
     "shell.execute_reply.started": "2022-05-24T19:27:05.131612Z"
    },
    "id": "3F2CfAwoVrfo",
    "outputId": "50ce92b0-0314-418f-8b85-eefc34d58727"
   },
   "outputs": [
    {
     "name": "stdout",
     "output_type": "stream",
     "text": [
      "# interactions on Train set: 29329\n",
      "# interactions on Test set: 9777\n"
     ]
    },
    {
     "data": {
      "text/html": [
       "<div>\n",
       "<style scoped>\n",
       "    .dataframe tbody tr th:only-of-type {\n",
       "        vertical-align: middle;\n",
       "    }\n",
       "\n",
       "    .dataframe tbody tr th {\n",
       "        vertical-align: top;\n",
       "    }\n",
       "\n",
       "    .dataframe thead th {\n",
       "        text-align: right;\n",
       "    }\n",
       "</style>\n",
       "<table border=\"1\" class=\"dataframe\">\n",
       "  <thead>\n",
       "    <tr style=\"text-align: right;\">\n",
       "      <th></th>\n",
       "      <th>personId</th>\n",
       "      <th>contentId</th>\n",
       "      <th>eventStrength</th>\n",
       "      <th>last_timestamp</th>\n",
       "    </tr>\n",
       "  </thead>\n",
       "  <tbody>\n",
       "    <tr>\n",
       "      <th>0</th>\n",
       "      <td>-1007001694607905623</td>\n",
       "      <td>-5065077552540450930</td>\n",
       "      <td>1.0</td>\n",
       "      <td>1470395911</td>\n",
       "    </tr>\n",
       "    <tr>\n",
       "      <th>2</th>\n",
       "      <td>-1007001694607905623</td>\n",
       "      <td>-793729620925729327</td>\n",
       "      <td>1.0</td>\n",
       "      <td>1472834892</td>\n",
       "    </tr>\n",
       "    <tr>\n",
       "      <th>6</th>\n",
       "      <td>-1032019229384696495</td>\n",
       "      <td>-1006791494035379303</td>\n",
       "      <td>1.0</td>\n",
       "      <td>1469129122</td>\n",
       "    </tr>\n",
       "    <tr>\n",
       "      <th>7</th>\n",
       "      <td>-1032019229384696495</td>\n",
       "      <td>-1039912738963181810</td>\n",
       "      <td>1.0</td>\n",
       "      <td>1459376415</td>\n",
       "    </tr>\n",
       "    <tr>\n",
       "      <th>8</th>\n",
       "      <td>-1032019229384696495</td>\n",
       "      <td>-1081723567492738167</td>\n",
       "      <td>2.0</td>\n",
       "      <td>1464054093</td>\n",
       "    </tr>\n",
       "    <tr>\n",
       "      <th>...</th>\n",
       "      <td>...</td>\n",
       "      <td>...</td>\n",
       "      <td>...</td>\n",
       "      <td>...</td>\n",
       "    </tr>\n",
       "    <tr>\n",
       "      <th>39099</th>\n",
       "      <td>997469202936578234</td>\n",
       "      <td>9112765177685685246</td>\n",
       "      <td>2.0</td>\n",
       "      <td>1472479493</td>\n",
       "    </tr>\n",
       "    <tr>\n",
       "      <th>39100</th>\n",
       "      <td>998688566268269815</td>\n",
       "      <td>-1255189867397298842</td>\n",
       "      <td>1.0</td>\n",
       "      <td>1474567164</td>\n",
       "    </tr>\n",
       "    <tr>\n",
       "      <th>39101</th>\n",
       "      <td>998688566268269815</td>\n",
       "      <td>-401664538366009049</td>\n",
       "      <td>1.0</td>\n",
       "      <td>1474567449</td>\n",
       "    </tr>\n",
       "    <tr>\n",
       "      <th>39103</th>\n",
       "      <td>998688566268269815</td>\n",
       "      <td>6881796783400625893</td>\n",
       "      <td>1.0</td>\n",
       "      <td>1474567675</td>\n",
       "    </tr>\n",
       "    <tr>\n",
       "      <th>39105</th>\n",
       "      <td>998688566268269815</td>\n",
       "      <td>739747367187387064</td>\n",
       "      <td>1.0</td>\n",
       "      <td>1474567514</td>\n",
       "    </tr>\n",
       "  </tbody>\n",
       "</table>\n",
       "<p>29329 rows × 4 columns</p>\n",
       "</div>"
      ],
      "text/plain": [
       "                   personId             contentId  eventStrength  \\\n",
       "0      -1007001694607905623  -5065077552540450930            1.0   \n",
       "2      -1007001694607905623   -793729620925729327            1.0   \n",
       "6      -1032019229384696495  -1006791494035379303            1.0   \n",
       "7      -1032019229384696495  -1039912738963181810            1.0   \n",
       "8      -1032019229384696495  -1081723567492738167            2.0   \n",
       "...                     ...                   ...            ...   \n",
       "39099    997469202936578234   9112765177685685246            2.0   \n",
       "39100    998688566268269815  -1255189867397298842            1.0   \n",
       "39101    998688566268269815   -401664538366009049            1.0   \n",
       "39103    998688566268269815   6881796783400625893            1.0   \n",
       "39105    998688566268269815    739747367187387064            1.0   \n",
       "\n",
       "       last_timestamp  \n",
       "0          1470395911  \n",
       "2          1472834892  \n",
       "6          1469129122  \n",
       "7          1459376415  \n",
       "8          1464054093  \n",
       "...               ...  \n",
       "39099      1472479493  \n",
       "39100      1474567164  \n",
       "39101      1474567449  \n",
       "39103      1474567675  \n",
       "39105      1474567514  \n",
       "\n",
       "[29329 rows x 4 columns]"
      ]
     },
     "execution_count": 11,
     "metadata": {},
     "output_type": "execute_result"
    }
   ],
   "source": [
    "from sklearn.model_selection import train_test_split\n",
    "\n",
    "split_ts = 1475519530\n",
    "interactions_train_df = interactions_full_df.loc[interactions_full_df.last_timestamp < split_ts].copy()\n",
    "interactions_test_df = interactions_full_df.loc[interactions_full_df.last_timestamp >= split_ts].copy()\n",
    "\n",
    "print(f\"# interactions on Train set: {len(interactions_train_df)}\")\n",
    "print(f\"# interactions on Test set: {len(interactions_test_df)}\")\n",
    "\n",
    "interactions_train_df"
   ]
  },
  {
   "cell_type": "markdown",
   "metadata": {
    "id": "h5G3FTYOXLVg"
   },
   "source": [
    "Для удобства подсчёта качества запишем данные в формате, где строка соответствует пользователю, а столбцы будут истинными метками и предсказаниями в виде списков."
   ]
  },
  {
   "cell_type": "code",
   "execution_count": 12,
   "metadata": {
    "execution": {
     "iopub.execute_input": "2022-05-24T19:27:05.658537Z",
     "iopub.status.busy": "2022-05-24T19:27:05.658317Z",
     "iopub.status.idle": "2022-05-24T19:27:05.710130Z",
     "shell.execute_reply": "2022-05-24T19:27:05.709275Z",
     "shell.execute_reply.started": "2022-05-24T19:27:05.658510Z"
    },
    "id": "RT-_toqfXOa2",
    "outputId": "0365644b-bd79-4106-fb04-5f5b1d7c4b61"
   },
   "outputs": [
    {
     "data": {
      "text/html": [
       "<div>\n",
       "<style scoped>\n",
       "    .dataframe tbody tr th:only-of-type {\n",
       "        vertical-align: middle;\n",
       "    }\n",
       "\n",
       "    .dataframe tbody tr th {\n",
       "        vertical-align: top;\n",
       "    }\n",
       "\n",
       "    .dataframe thead th {\n",
       "        text-align: right;\n",
       "    }\n",
       "</style>\n",
       "<table border=\"1\" class=\"dataframe\">\n",
       "  <thead>\n",
       "    <tr style=\"text-align: right;\">\n",
       "      <th></th>\n",
       "      <th>true_train</th>\n",
       "      <th>true_test</th>\n",
       "    </tr>\n",
       "    <tr>\n",
       "      <th>personId</th>\n",
       "      <th></th>\n",
       "      <th></th>\n",
       "    </tr>\n",
       "  </thead>\n",
       "  <tbody>\n",
       "    <tr>\n",
       "      <th>-1007001694607905623</th>\n",
       "      <td>[-5065077552540450930, -793729620925729327]</td>\n",
       "      <td>[-6623581327558800021, 1469580151036142903, 72...</td>\n",
       "    </tr>\n",
       "  </tbody>\n",
       "</table>\n",
       "</div>"
      ],
      "text/plain": [
       "                                                       true_train  \\\n",
       "personId                                                            \n",
       "-1007001694607905623  [-5065077552540450930, -793729620925729327]   \n",
       "\n",
       "                                                              true_test  \n",
       "personId                                                                 \n",
       "-1007001694607905623  [-6623581327558800021, 1469580151036142903, 72...  "
      ]
     },
     "execution_count": 12,
     "metadata": {},
     "output_type": "execute_result"
    }
   ],
   "source": [
    "interactions = (\n",
    "    interactions_train_df\n",
    "    .groupby(\"personId\")[\"contentId\"].agg(lambda x: list(x))\n",
    "    .reset_index()\n",
    "    .rename(columns={\"contentId\": \"true_train\"})\n",
    "    .set_index(\"personId\")\n",
    ")\n",
    "\n",
    "interactions[\"true_test\"] = (\n",
    "    interactions_test_df\n",
    "    .groupby(\"personId\")[\"contentId\"].agg(lambda x: list(x))\n",
    ")\n",
    "\n",
    "# заполнение пропусков пустыми списками\n",
    "interactions.loc[pd.isnull(interactions.true_test), \"true_test\"] = [\n",
    "    \"\" for x in range(len(interactions.loc[pd.isnull(interactions.true_test), \"true_test\"]))]\n",
    "\n",
    "interactions.head(1)"
   ]
  },
  {
   "cell_type": "markdown",
   "metadata": {
    "id": "-UWDyWKsamSa"
   },
   "source": [
    "# Библиотека LightFM"
   ]
  },
  {
   "cell_type": "markdown",
   "metadata": {
    "id": "L-iXjvdZa25Z"
   },
   "source": [
    "Для рекомендации Вы будете пользоваться библиотекой [LightFM](https://making.lyst.com/lightfm/docs/home.html), в которой реализованы популярные алгоритмы. Для оценивания качества рекомендации будем пользоваться метрикой *precision@10*."
   ]
  },
  {
   "cell_type": "code",
   "execution_count": 13,
   "metadata": {
    "execution": {
     "iopub.execute_input": "2022-05-24T19:27:05.711844Z",
     "iopub.status.busy": "2022-05-24T19:27:05.711585Z",
     "iopub.status.idle": "2022-05-24T19:27:05.715832Z",
     "shell.execute_reply": "2022-05-24T19:27:05.715087Z",
     "shell.execute_reply.started": "2022-05-24T19:27:05.711809Z"
    }
   },
   "outputs": [],
   "source": [
    "#!pip install lightfm"
   ]
  },
  {
   "cell_type": "code",
   "execution_count": 14,
   "metadata": {
    "execution": {
     "iopub.execute_input": "2022-05-24T19:27:05.717886Z",
     "iopub.status.busy": "2022-05-24T19:27:05.717219Z",
     "iopub.status.idle": "2022-05-24T19:27:05.740448Z",
     "shell.execute_reply": "2022-05-24T19:27:05.739665Z",
     "shell.execute_reply.started": "2022-05-24T19:27:05.717846Z"
    },
    "id": "Qtyn38PZXPLf",
    "outputId": "20fe994e-970f-4b42-d0f7-b3b25579274d"
   },
   "outputs": [],
   "source": [
    "from lightfm import LightFM\n",
    "from lightfm.evaluation import precision_at_k\n",
    "from lightfm.data import Dataset"
   ]
  },
  {
   "cell_type": "markdown",
   "metadata": {
    "id": "4Sof6V5Dd4h9"
   },
   "source": [
    "Создайте разреженные матрицы `data_train` и `data_test` (размером количество пользователей на количество статей), такие что на пересечении строки пользователя и столбца статьи стоит сила их взаимодействия, если взаимодействие было, и стоит ноль, если взаимодействия не было."
   ]
  },
  {
   "cell_type": "code",
   "execution_count": 15,
   "metadata": {
    "execution": {
     "iopub.execute_input": "2022-05-24T19:27:05.741872Z",
     "iopub.status.busy": "2022-05-24T19:27:05.741626Z",
     "iopub.status.idle": "2022-05-24T19:27:10.193190Z",
     "shell.execute_reply": "2022-05-24T19:27:10.192422Z",
     "shell.execute_reply.started": "2022-05-24T19:27:05.741840Z"
    }
   },
   "outputs": [],
   "source": [
    "import tensorflow\n",
    "tensorflow.random.set_seed(10)"
   ]
  },
  {
   "cell_type": "code",
   "execution_count": 16,
   "metadata": {
    "execution": {
     "iopub.execute_input": "2022-05-24T19:27:10.194948Z",
     "iopub.status.busy": "2022-05-24T19:27:10.194653Z",
     "iopub.status.idle": "2022-05-24T19:27:10.666973Z",
     "shell.execute_reply": "2022-05-24T19:27:10.666230Z",
     "shell.execute_reply.started": "2022-05-24T19:27:10.194908Z"
    }
   },
   "outputs": [],
   "source": [
    "#https://making.lyst.com/lightfm/docs/lightfm.data.html взяла построение датасета из документации модели, которая потом предлагается для использования\n",
    "dataset = Dataset()\n",
    "dataset.fit(interactions_full_df.personId, interactions_full_df.contentId)\n",
    "\n",
    "X = (interactions_train_df[[\"personId\", \"contentId\", \"eventStrength\"]].apply(tuple,axis=1),interactions_test_df[[\"personId\", \"contentId\", \"eventStrength\"]].apply(tuple,axis=1))"
   ]
  },
  {
   "cell_type": "code",
   "execution_count": 17,
   "metadata": {
    "execution": {
     "iopub.execute_input": "2022-05-24T19:27:10.668655Z",
     "iopub.status.busy": "2022-05-24T19:27:10.668405Z",
     "iopub.status.idle": "2022-05-24T19:27:10.778433Z",
     "shell.execute_reply": "2022-05-24T19:27:10.777672Z",
     "shell.execute_reply.started": "2022-05-24T19:27:10.668621Z"
    },
    "id": "1cLZ5ga4eIdg"
   },
   "outputs": [],
   "source": [
    "data_train = dataset.build_interactions(X[0])[1] #беру из массива выше первую часть, соответствующую трейну, и превращаю в матрицу\n",
    "data_test = dataset.build_interactions(X[1])[1] #проделываю то же самое для теста"
   ]
  },
  {
   "cell_type": "markdown",
   "metadata": {
    "id": "ZPfVK3STeryM"
   },
   "source": [
    "Обучите модель LightFM с `loss=\"warp\"` и посчитайте *precision@10* на тесте."
   ]
  },
  {
   "cell_type": "code",
   "execution_count": 18,
   "metadata": {
    "execution": {
     "iopub.execute_input": "2022-05-24T19:27:10.780195Z",
     "iopub.status.busy": "2022-05-24T19:27:10.779902Z",
     "iopub.status.idle": "2022-05-24T19:27:12.726621Z",
     "shell.execute_reply": "2022-05-24T19:27:12.725912Z",
     "shell.execute_reply.started": "2022-05-24T19:27:10.780157Z"
    },
    "id": "YFQxeHw8eVLz"
   },
   "outputs": [
    {
     "data": {
      "text/plain": [
       "<lightfm.lightfm.LightFM at 0x7f5e321d0950>"
      ]
     },
     "execution_count": 18,
     "metadata": {},
     "output_type": "execute_result"
    }
   ],
   "source": [
    "mlightFM = LightFM(k=10, loss = 'warp')\n",
    "mlightFM.fit(data_train, epochs = 100)"
   ]
  },
  {
   "cell_type": "code",
   "execution_count": 19,
   "metadata": {
    "execution": {
     "iopub.execute_input": "2022-05-24T19:27:12.728470Z",
     "iopub.status.busy": "2022-05-24T19:27:12.727996Z",
     "iopub.status.idle": "2022-05-24T19:27:12.885178Z",
     "shell.execute_reply": "2022-05-24T19:27:12.884316Z",
     "shell.execute_reply.started": "2022-05-24T19:27:12.728433Z"
    }
   },
   "outputs": [
    {
     "data": {
      "text/plain": [
       "0.0068228105"
      ]
     },
     "execution_count": 19,
     "metadata": {},
     "output_type": "execute_result"
    }
   ],
   "source": [
    "precision_at_k(mlightFM, data_test, data_train, 10).mean()"
   ]
  },
  {
   "cell_type": "markdown",
   "metadata": {
    "id": "F93chvtbgA9N"
   },
   "source": [
    "Создайте матрицу `feat` размером количесвто статей на размер признакового описание и обучите LightFM с `loss=\"warp\"` и посчитайте precision@10 на тесте."
   ]
  },
  {
   "cell_type": "code",
   "execution_count": 20,
   "metadata": {
    "execution": {
     "iopub.execute_input": "2022-05-24T19:27:12.887094Z",
     "iopub.status.busy": "2022-05-24T19:27:12.886816Z",
     "iopub.status.idle": "2022-05-24T19:27:12.896998Z",
     "shell.execute_reply": "2022-05-24T19:27:12.896168Z",
     "shell.execute_reply.started": "2022-05-24T19:27:12.887058Z"
    }
   },
   "outputs": [],
   "source": [
    "df_new = pd.DataFrame(interactions_full_df.contentId.unique(), columns = ['contentId'])"
   ]
  },
  {
   "cell_type": "code",
   "execution_count": 21,
   "metadata": {
    "execution": {
     "iopub.execute_input": "2022-05-24T19:27:12.899055Z",
     "iopub.status.busy": "2022-05-24T19:27:12.898577Z",
     "iopub.status.idle": "2022-05-24T19:27:12.918434Z",
     "shell.execute_reply": "2022-05-24T19:27:12.917657Z",
     "shell.execute_reply.started": "2022-05-24T19:27:12.899014Z"
    }
   },
   "outputs": [],
   "source": [
    "adf = articles_df.copy()\n",
    "ff = pd.merge(df_new, adf, on = 'contentId', how = 'left' ) #создаю датафрейм из статей, ранжированных через контентайд из датафрейма с интеракциями\n",
    "ff['text'] = ff['text'].fillna('no text') #здесь просто пытаюсь заполнить пропуск хоть чем-то"
   ]
  },
  {
   "cell_type": "code",
   "execution_count": 22,
   "metadata": {
    "execution": {
     "iopub.execute_input": "2022-05-24T19:27:12.921760Z",
     "iopub.status.busy": "2022-05-24T19:27:12.921539Z",
     "iopub.status.idle": "2022-05-24T19:27:15.774375Z",
     "shell.execute_reply": "2022-05-24T19:27:15.773610Z",
     "shell.execute_reply.started": "2022-05-24T19:27:12.921730Z"
    },
    "id": "5SvUi_Fofgf5"
   },
   "outputs": [],
   "source": [
    "from sklearn.feature_extraction.text import TfidfVectorizer\n",
    "tr = TfidfVectorizer()\n",
    "\n",
    "feat = tr.fit_transform(ff.text)"
   ]
  },
  {
   "cell_type": "code",
   "execution_count": 23,
   "metadata": {
    "execution": {
     "iopub.execute_input": "2022-05-24T19:27:15.776021Z",
     "iopub.status.busy": "2022-05-24T19:27:15.775770Z",
     "iopub.status.idle": "2022-05-24T19:30:36.113886Z",
     "shell.execute_reply": "2022-05-24T19:30:36.113124Z",
     "shell.execute_reply.started": "2022-05-24T19:27:15.775986Z"
    }
   },
   "outputs": [
    {
     "data": {
      "text/plain": [
       "<lightfm.lightfm.LightFM at 0x7f5e30fe9790>"
      ]
     },
     "execution_count": 23,
     "metadata": {},
     "output_type": "execute_result"
    }
   ],
   "source": [
    "mlightFM2 = LightFM(k=10, loss = 'warp')\n",
    "mlightFM2.fit(data_train, epochs = 100, item_features = feat)"
   ]
  },
  {
   "cell_type": "code",
   "execution_count": 24,
   "metadata": {
    "execution": {
     "iopub.execute_input": "2022-05-24T19:30:36.115660Z",
     "iopub.status.busy": "2022-05-24T19:30:36.115317Z",
     "iopub.status.idle": "2022-05-24T19:30:43.019392Z",
     "shell.execute_reply": "2022-05-24T19:30:43.016025Z",
     "shell.execute_reply.started": "2022-05-24T19:30:36.115619Z"
    }
   },
   "outputs": [
    {
     "data": {
      "text/plain": [
       "0.0067209774"
      ]
     },
     "execution_count": 24,
     "metadata": {},
     "output_type": "execute_result"
    }
   ],
   "source": [
    "precision_at_k(mlightFM2, data_test, data_train, 10, item_features = feat).mean()"
   ]
  },
  {
   "cell_type": "markdown",
   "metadata": {
    "id": "5aZcHjSzp2cZ"
   },
   "source": [
    "В задании 3 мы использовали сырой текст статей. В этом задании необходимо сначала сделать предобработку текста (привести к нижнему регистру, убрать стоп слова, привести слова к номральной форме и т.д.), после чего обучите модель и оценить качество на тестовых данных."
   ]
  },
  {
   "cell_type": "code",
   "execution_count": 25,
   "metadata": {
    "execution": {
     "iopub.execute_input": "2022-05-24T19:30:43.020657Z",
     "iopub.status.busy": "2022-05-24T19:30:43.020424Z",
     "iopub.status.idle": "2022-05-24T19:30:43.837666Z",
     "shell.execute_reply": "2022-05-24T19:30:43.836972Z",
     "shell.execute_reply.started": "2022-05-24T19:30:43.020626Z"
    },
    "id": "HDSaOLiJpdGj"
   },
   "outputs": [
    {
     "name": "stdout",
     "output_type": "stream",
     "text": [
      "[nltk_data] Downloading package stopwords to /usr/share/nltk_data...\n",
      "[nltk_data]   Package stopwords is already up-to-date!\n",
      "[nltk_data] Downloading package punkt to /usr/share/nltk_data...\n",
      "[nltk_data]   Package punkt is already up-to-date!\n"
     ]
    },
    {
     "data": {
      "text/plain": [
       "True"
      ]
     },
     "execution_count": 25,
     "metadata": {},
     "output_type": "execute_result"
    }
   ],
   "source": [
    "from nltk.tokenize import word_tokenize\n",
    "import nltk\n",
    "from nltk.corpus import stopwords\n",
    "from string import punctuation\n",
    "nltk.download(\"stopwords\")\n",
    "nltk.download('punkt')"
   ]
  },
  {
   "cell_type": "code",
   "execution_count": 26,
   "metadata": {
    "execution": {
     "iopub.execute_input": "2022-05-24T19:30:43.840929Z",
     "iopub.status.busy": "2022-05-24T19:30:43.840708Z",
     "iopub.status.idle": "2022-05-24T19:30:43.868763Z",
     "shell.execute_reply": "2022-05-24T19:30:43.868057Z",
     "shell.execute_reply.started": "2022-05-24T19:30:43.840904Z"
    }
   },
   "outputs": [
    {
     "data": {
      "text/html": [
       "<div>\n",
       "<style scoped>\n",
       "    .dataframe tbody tr th:only-of-type {\n",
       "        vertical-align: middle;\n",
       "    }\n",
       "\n",
       "    .dataframe tbody tr th {\n",
       "        vertical-align: top;\n",
       "    }\n",
       "\n",
       "    .dataframe thead th {\n",
       "        text-align: right;\n",
       "    }\n",
       "</style>\n",
       "<table border=\"1\" class=\"dataframe\">\n",
       "  <thead>\n",
       "    <tr style=\"text-align: right;\">\n",
       "      <th></th>\n",
       "      <th>contentId</th>\n",
       "      <th>lang</th>\n",
       "      <th>text</th>\n",
       "    </tr>\n",
       "  </thead>\n",
       "  <tbody>\n",
       "    <tr>\n",
       "      <th>0</th>\n",
       "      <td>-5065077552540450930</td>\n",
       "      <td>pt</td>\n",
       "      <td>A AXA se manteve na liderança do ranking de ma...</td>\n",
       "    </tr>\n",
       "    <tr>\n",
       "      <th>1</th>\n",
       "      <td>-6623581327558800021</td>\n",
       "      <td>en</td>\n",
       "      <td>About a decade ago, a handful of Google's most...</td>\n",
       "    </tr>\n",
       "    <tr>\n",
       "      <th>2</th>\n",
       "      <td>-793729620925729327</td>\n",
       "      <td>en</td>\n",
       "      <td>Posted by Sam Thorogood , Developer Programs E...</td>\n",
       "    </tr>\n",
       "    <tr>\n",
       "      <th>3</th>\n",
       "      <td>1469580151036142903</td>\n",
       "      <td>en</td>\n",
       "      <td>This is one of the great discussions among dev...</td>\n",
       "    </tr>\n",
       "    <tr>\n",
       "      <th>4</th>\n",
       "      <td>7270966256391553686</td>\n",
       "      <td>en</td>\n",
       "      <td>We are excited to announce the release of .NET...</td>\n",
       "    </tr>\n",
       "  </tbody>\n",
       "</table>\n",
       "</div>"
      ],
      "text/plain": [
       "              contentId lang  \\\n",
       "0  -5065077552540450930   pt   \n",
       "1  -6623581327558800021   en   \n",
       "2   -793729620925729327   en   \n",
       "3   1469580151036142903   en   \n",
       "4   7270966256391553686   en   \n",
       "\n",
       "                                                text  \n",
       "0  A AXA se manteve na liderança do ranking de ma...  \n",
       "1  About a decade ago, a handful of Google's most...  \n",
       "2  Posted by Sam Thorogood , Developer Programs E...  \n",
       "3  This is one of the great discussions among dev...  \n",
       "4  We are excited to announce the release of .NET...  "
      ]
     },
     "execution_count": 26,
     "metadata": {},
     "output_type": "execute_result"
    }
   ],
   "source": [
    "#создаю новый датафрейм, включаю в него данные по айди, языку и, собственно, тексту статьи (заголовок решила опустить), заполняю пропуски в столбцах\n",
    "adf_new = articles_df.copy()\n",
    "adf_new['text'] = articles_df['text']\n",
    "adf_new = adf_new[['contentId','lang','text']]\n",
    "adf_new = pd.merge(df_new, adf_new, on = 'contentId', how = 'left' )\n",
    "adf_new['text'] = adf_new['text'].fillna('unknown')\n",
    "adf_new['lang'] = adf_new['lang'].fillna('no text')\n",
    "adf_new.head()"
   ]
  },
  {
   "cell_type": "code",
   "execution_count": 27,
   "metadata": {
    "execution": {
     "iopub.execute_input": "2022-05-24T19:30:43.870700Z",
     "iopub.status.busy": "2022-05-24T19:30:43.870514Z",
     "iopub.status.idle": "2022-05-24T19:30:43.884270Z",
     "shell.execute_reply": "2022-05-24T19:30:43.883174Z",
     "shell.execute_reply.started": "2022-05-24T19:30:43.870677Z"
    }
   },
   "outputs": [
    {
     "data": {
      "text/plain": [
       "en         2148\n",
       "pt          822\n",
       "no text       8\n",
       "la            2\n",
       "es            2\n",
       "ja            2\n",
       "Name: lang, dtype: int64"
      ]
     },
     "execution_count": 27,
     "metadata": {},
     "output_type": "execute_result"
    }
   ],
   "source": [
    "adf_new.lang.value_counts() "
   ]
  },
  {
   "cell_type": "code",
   "execution_count": 28,
   "metadata": {
    "execution": {
     "iopub.execute_input": "2022-05-24T19:30:43.886503Z",
     "iopub.status.busy": "2022-05-24T19:30:43.885980Z",
     "iopub.status.idle": "2022-05-24T19:30:43.893076Z",
     "shell.execute_reply": "2022-05-24T19:30:43.892058Z",
     "shell.execute_reply.started": "2022-05-24T19:30:43.886356Z"
    }
   },
   "outputs": [
    {
     "name": "stdout",
     "output_type": "stream",
     "text": [
      "['arabic', 'azerbaijani', 'bengali', 'danish', 'dutch', 'english', 'finnish', 'french', 'german', 'greek', 'hungarian', 'indonesian', 'italian', 'kazakh', 'nepali', 'norwegian', 'portuguese', 'romanian', 'russian', 'slovene', 'spanish', 'swedish', 'tajik', 'turkish']\n"
     ]
    }
   ],
   "source": [
    "print(stopwords.fileids())"
   ]
  },
  {
   "cell_type": "markdown",
   "metadata": {},
   "source": [
    "nltk предлагает возможность взять готовый набор стоп-слов для английского, португальского и испанского\n",
    "испанский было принято решение не включать в набор стоп слов ввиду малого количества айтемов на испанском языке и потенциального пересечения испанских стоп-слов с португальскими качественными словами (хотя я пыталась, но это только ухудшало качество)\n",
    "латынь и японский за неимением готового набора стоп-слов at hand и малым количеством наблюдений остаются без стоп слов и очищаются только от пунктуации"
   ]
  },
  {
   "cell_type": "code",
   "execution_count": 83,
   "metadata": {
    "execution": {
     "iopub.execute_input": "2022-05-24T20:52:19.516014Z",
     "iopub.status.busy": "2022-05-24T20:52:19.515290Z",
     "iopub.status.idle": "2022-05-24T20:52:19.523407Z",
     "shell.execute_reply": "2022-05-24T20:52:19.522381Z",
     "shell.execute_reply.started": "2022-05-24T20:52:19.515964Z"
    }
   },
   "outputs": [],
   "source": [
    "en = stopwords.words('english') + list(punctuation) \n",
    "pt = stopwords.words('portuguese') + list(punctuation) \n",
    "#es = stopwords.words('spanish') + list(punctuation)"
   ]
  },
  {
   "cell_type": "code",
   "execution_count": 30,
   "metadata": {
    "execution": {
     "iopub.execute_input": "2022-05-24T19:30:43.911523Z",
     "iopub.status.busy": "2022-05-24T19:30:43.911303Z",
     "iopub.status.idle": "2022-05-24T19:30:57.249604Z",
     "shell.execute_reply": "2022-05-24T19:30:57.248699Z",
     "shell.execute_reply.started": "2022-05-24T19:30:43.911499Z"
    }
   },
   "outputs": [
    {
     "name": "stdout",
     "output_type": "stream",
     "text": [
      "Collecting langdetect\n",
      "  Downloading langdetect-1.0.9.tar.gz (981 kB)\n",
      "\u001b[2K     \u001b[90m━━━━━━━━━━━━━━━━━━━━━━━━━━━━━━━━━━━━━━━\u001b[0m \u001b[32m981.5/981.5 KB\u001b[0m \u001b[31m3.2 MB/s\u001b[0m eta \u001b[36m0:00:00\u001b[0ma \u001b[36m0:00:01\u001b[0m\n",
      "\u001b[?25h  Preparing metadata (setup.py) ... \u001b[?25ldone\n",
      "\u001b[?25hRequirement already satisfied: six in /opt/conda/lib/python3.7/site-packages (from langdetect) (1.16.0)\n",
      "Building wheels for collected packages: langdetect\n",
      "  Building wheel for langdetect (setup.py) ... \u001b[?25ldone\n",
      "\u001b[?25h  Created wheel for langdetect: filename=langdetect-1.0.9-py3-none-any.whl size=993242 sha256=9877cd8843ed383239788b73319212b7313fea4507a55ad25ff281057c629c1a\n",
      "  Stored in directory: /root/.cache/pip/wheels/c5/96/8a/f90c59ed25d75e50a8c10a1b1c2d4c402e4dacfa87f3aff36a\n",
      "Successfully built langdetect\n",
      "Installing collected packages: langdetect\n",
      "Successfully installed langdetect-1.0.9\n",
      "\u001b[33mWARNING: Running pip as the 'root' user can result in broken permissions and conflicting behaviour with the system package manager. It is recommended to use a virtual environment instead: https://pip.pypa.io/warnings/venv\u001b[0m\u001b[33m\n",
      "\u001b[0m"
     ]
    }
   ],
   "source": [
    "#!pip install langdetect"
   ]
  },
  {
   "cell_type": "code",
   "execution_count": 104,
   "metadata": {
    "execution": {
     "iopub.execute_input": "2022-05-24T21:53:22.081989Z",
     "iopub.status.busy": "2022-05-24T21:53:22.081426Z",
     "iopub.status.idle": "2022-05-24T21:53:22.223646Z",
     "shell.execute_reply": "2022-05-24T21:53:22.222839Z",
     "shell.execute_reply.started": "2022-05-24T21:53:22.081942Z"
    }
   },
   "outputs": [
    {
     "name": "stdout",
     "output_type": "stream",
     "text": [
      "[nltk_data] Downloading package wordnet to /usr/share/nltk_data...\n",
      "[nltk_data]   Package wordnet is already up-to-date!\n"
     ]
    }
   ],
   "source": [
    "nltk.download('wordnet')\n",
    "from nltk.stem.wordnet import WordNetLemmatizer\n",
    "from nltk.stem.snowball import SnowballStemmer\n",
    "from langdetect import detect\n",
    "\n",
    "lmtzr = WordNetLemmatizer()\n",
    "stemmer = nltk.stem.RSLPStemmer()"
   ]
  },
  {
   "cell_type": "code",
   "execution_count": null,
   "metadata": {
    "execution": {
     "iopub.execute_input": "2022-05-24T21:05:09.625572Z",
     "iopub.status.busy": "2022-05-24T21:05:09.625001Z",
     "iopub.status.idle": "2022-05-24T21:05:09.630987Z",
     "shell.execute_reply": "2022-05-24T21:05:09.630173Z",
     "shell.execute_reply.started": "2022-05-24T21:05:09.625528Z"
    }
   },
   "outputs": [],
   "source": [
    "#я решила попробовать по-разному работать с данными английского и португальского языка\n",
    "#поэтому португальский язык подвергаю стеммингу при помощи стеммера, который лучше подходит для испанского, а английский - леммизирую\n",
    "def my_tokenizer(x):\n",
    "    wt = word_tokenize(x)  \n",
    "    if detect(x) == 'pt':  \n",
    "        preprocessed = [stemmer.stem(word) for word in wt if word not in pt and word.isalpha()]  \n",
    "    #elif detect(x) == 'es':\n",
    "        #preprocessed = [SnowballStemmer('spanish').stem(word) for word in wt if word not in es and word.isalpha()]  \n",
    "        #тут была  попытка процессить испанский тоже, но она ухудшала качество... модель выдавала не больше 0.006 precision@k\n",
    "    else:    \n",
    "        preprocessed = [lmtzr.lemmatize(word) for word in wt if word not in en and word.isalpha()]\n",
    "        #preprocessed = [SnowballStemmer('english').stem(word) for word in wt if word not in noise_en and word.isalpha()]\n",
    "        #тут тоже запечатлеваю разные пробы пера в стемминге, но остановилась именно на лемматизации, а не стемминге с английским языком\n",
    "    return preprocessed"
   ]
  },
  {
   "cell_type": "code",
   "execution_count": 92,
   "metadata": {
    "execution": {
     "iopub.execute_input": "2022-05-24T21:05:21.682022Z",
     "iopub.status.busy": "2022-05-24T21:05:21.681464Z",
     "iopub.status.idle": "2022-05-24T21:07:32.196427Z",
     "shell.execute_reply": "2022-05-24T21:07:32.195689Z",
     "shell.execute_reply.started": "2022-05-24T21:05:21.681980Z"
    }
   },
   "outputs": [],
   "source": [
    "stopwords_all = stopwords.words('portuguese') + list(punctuation) + stopwords.words('english') #+ stopwords.words('spanish')\n",
    "tr2 = TfidfVectorizer(lowercase = True, tokenizer = my_tokenizer, stop_words = stopwords_all)\n",
    "feat2 = tr2.fit_transform(adf_new['text'])"
   ]
  },
  {
   "cell_type": "code",
   "execution_count": 93,
   "metadata": {
    "execution": {
     "iopub.execute_input": "2022-05-24T21:07:32.198145Z",
     "iopub.status.busy": "2022-05-24T21:07:32.197880Z",
     "iopub.status.idle": "2022-05-24T21:09:37.608699Z",
     "shell.execute_reply": "2022-05-24T21:09:37.607973Z",
     "shell.execute_reply.started": "2022-05-24T21:07:32.198097Z"
    }
   },
   "outputs": [
    {
     "data": {
      "text/plain": [
       "<lightfm.lightfm.LightFM at 0x7f5e24642910>"
      ]
     },
     "execution_count": 93,
     "metadata": {},
     "output_type": "execute_result"
    }
   ],
   "source": [
    "mlightFM3 = LightFM(k=10, loss = 'warp')\n",
    "mlightFM3.fit(data_train, item_features = feat2, epochs = 100)"
   ]
  },
  {
   "cell_type": "code",
   "execution_count": 94,
   "metadata": {
    "execution": {
     "iopub.execute_input": "2022-05-24T21:09:37.610281Z",
     "iopub.status.busy": "2022-05-24T21:09:37.610022Z",
     "iopub.status.idle": "2022-05-24T21:09:42.089720Z",
     "shell.execute_reply": "2022-05-24T21:09:42.089032Z",
     "shell.execute_reply.started": "2022-05-24T21:09:37.610246Z"
    }
   },
   "outputs": [
    {
     "data": {
      "text/plain": [
       "0.008350305"
      ]
     },
     "execution_count": 94,
     "metadata": {},
     "output_type": "execute_result"
    }
   ],
   "source": [
    "precision_at_k(mlightFM3, data_test, data_train, item_features = feat2, k = 10).mean()"
   ]
  },
  {
   "cell_type": "markdown",
   "metadata": {},
   "source": [
    "В сравнении с предыдущими моделями, качество улучшилось, однако незначительно - на доли процента. Предполагаю, что низкое значение precision@k может быть связано с отсутствием заголовка в тексте статьи, который мог бы позволить лучше обучаться. Рост качества может быть ограничен тем, что стеммингу не подвергаются японские и латинские айтемы, но, скорее всего, незначительно, поскольку в общей выборке их мало."
   ]
  },
  {
   "cell_type": "markdown",
   "metadata": {
    "id": "brjHl49Aq8su"
   },
   "source": [
    "Подберем гиперпараметры модели LightFM (`n_components` и др.) для улучшения качества модели."
   ]
  },
  {
   "cell_type": "code",
   "execution_count": 37,
   "metadata": {
    "execution": {
     "iopub.execute_input": "2022-05-24T19:35:30.661088Z",
     "iopub.status.busy": "2022-05-24T19:35:30.660751Z",
     "iopub.status.idle": "2022-05-24T19:35:30.671591Z",
     "shell.execute_reply": "2022-05-24T19:35:30.670723Z",
     "shell.execute_reply.started": "2022-05-24T19:35:30.661049Z"
    },
    "id": "PlwaeCiZqncD"
   },
   "outputs": [],
   "source": [
    "import itertools\n",
    "\n",
    "\n",
    "\n",
    "def sample_hyperparameters():\n",
    "    \"\"\"\n",
    "    Yield possible hyperparameter choices.\n",
    "    \"\"\"\n",
    "\n",
    "    while True:\n",
    "        yield {\n",
    "            \"no_components\": np.random.randint(10, 200), #чуть увеличила размах в сравнении с предложенным на сайте\n",
    "            \"learning_schedule\": np.random.choice([\"adagrad\", \"adadelta\"]),  \n",
    "            \"loss\": np.random.choice([\"bpr\", \"warp\", \"warp-kos\"]),\n",
    "            \"learning_rate\": np.random.exponential(0.05),\n",
    "            \"item_alpha\": np.random.exponential(1e-7),\n",
    "            \"user_alpha\": np.random.exponential(1e-7),\n",
    "            \"max_sampled\": np.random.randint(5, 50),\n",
    "            \"num_epochs\": np.random.randint(5, 50),\n",
    "        }\n",
    "\n",
    "def random_search(train, test, num_samples=10, num_threads=1):\n",
    "    \"\"\"\n",
    "    Sample random hyperparameters, fit a LightFM model, and evaluate it\n",
    "    on the test set.\n",
    "\n",
    "    Parameters\n",
    "    ----------\n",
    "\n",
    "    train: np.float32 coo_matrix of shape [n_users, n_items]\n",
    "        Training data.\n",
    "    test: np.float32 coo_matrix of shape [n_users, n_items]\n",
    "        Test data.\n",
    "    num_samples: int, optional\n",
    "        Number of hyperparameter choices to evaluate.\n",
    "\n",
    "\n",
    "    Returns\n",
    "    -------\n",
    "\n",
    "    generator of (precision, hyperparameter dict, fitted model)\n",
    "\n",
    "    \"\"\"\n",
    "\n",
    "    for hyperparams in itertools.islice(sample_hyperparameters(), num_samples):\n",
    "        num_epochs = hyperparams.pop(\"num_epochs\")\n",
    "\n",
    "        model = LightFM(**hyperparams, k = 10, random_state = 0) \n",
    "        model.fit(train, epochs = num_epochs, num_threads=num_threads)\n",
    "\n",
    "        score = precision_at_k(model, test, train, k = 10, num_threads=num_threads).mean()\n",
    "\n",
    "        hyperparams[\"num_epochs\"] = num_epochs\n",
    "\n",
    "        yield (score, hyperparams, model)"
   ]
  },
  {
   "cell_type": "code",
   "execution_count": 99,
   "metadata": {
    "execution": {
     "iopub.execute_input": "2022-05-24T21:19:52.804028Z",
     "iopub.status.busy": "2022-05-24T21:19:52.803772Z",
     "iopub.status.idle": "2022-05-24T21:20:09.955666Z",
     "shell.execute_reply": "2022-05-24T21:20:09.954787Z",
     "shell.execute_reply.started": "2022-05-24T21:19:52.803998Z"
    }
   },
   "outputs": [
    {
     "name": "stdout",
     "output_type": "stream",
     "text": [
      "Best score 0.0070264763198792934 at {'no_components': 28, 'learning_schedule': 'adadelta', 'loss': 'warp', 'learning_rate': 0.019975266458565906, 'item_alpha': 7.498438381490262e-09, 'user_alpha': 6.665559783517674e-09, 'max_sampled': 27, 'num_epochs': 35}\n"
     ]
    }
   ],
   "source": [
    "(score, hyperparams, model) = max(random_search(data_train, data_test, num_threads = 2), key=lambda x: x[0])\n",
    "print(\"Best score {} at {}\".format(score, hyperparams))"
   ]
  },
  {
   "cell_type": "code",
   "execution_count": 79,
   "metadata": {
    "execution": {
     "iopub.execute_input": "2022-05-24T20:13:03.030499Z",
     "iopub.status.busy": "2022-05-24T20:13:03.030239Z",
     "iopub.status.idle": "2022-05-24T20:13:05.670643Z",
     "shell.execute_reply": "2022-05-24T20:13:05.669948Z",
     "shell.execute_reply.started": "2022-05-24T20:13:03.030470Z"
    }
   },
   "outputs": [
    {
     "data": {
      "text/plain": [
       "<lightfm.lightfm.LightFM at 0x7f5e25266450>"
      ]
     },
     "execution_count": 79,
     "metadata": {},
     "output_type": "execute_result"
    }
   ],
   "source": [
    "m_final = LightFM(random_state = 0,\n",
    "                   no_components = 100, \n",
    "                   learning_schedule = 'adagrad', \n",
    "                   loss = 'warp', \n",
    "                   learning_rate = 0.025, \n",
    "                   item_alpha =  1.4921059666702605e-09, \n",
    "                   user_alpha =  2.1366172295379337e-08,\n",
    "                   max_sampled = 19)\n",
    "m_final.fit(data_train, epochs = 26)\n",
    "\n",
    "#немного видоизменяла параметры, предлагаемые механизмом подбора выше, в итоге остановилась на этих"
   ]
  },
  {
   "cell_type": "code",
   "execution_count": 80,
   "metadata": {
    "execution": {
     "iopub.execute_input": "2022-05-24T20:13:11.096047Z",
     "iopub.status.busy": "2022-05-24T20:13:11.095294Z",
     "iopub.status.idle": "2022-05-24T20:13:11.343699Z",
     "shell.execute_reply": "2022-05-24T20:13:11.342922Z",
     "shell.execute_reply.started": "2022-05-24T20:13:11.095931Z"
    }
   },
   "outputs": [
    {
     "data": {
      "text/plain": [
       "0.008655804"
      ]
     },
     "execution_count": 80,
     "metadata": {},
     "output_type": "execute_result"
    }
   ],
   "source": [
    "precision_at_k(m_final, data_test, data_train, k = 10).mean()"
   ]
  },
  {
   "cell_type": "code",
   "execution_count": 81,
   "metadata": {
    "execution": {
     "iopub.execute_input": "2022-05-24T20:13:18.756042Z",
     "iopub.status.busy": "2022-05-24T20:13:18.755787Z",
     "iopub.status.idle": "2022-05-24T20:20:35.731134Z",
     "shell.execute_reply": "2022-05-24T20:20:35.730156Z",
     "shell.execute_reply.started": "2022-05-24T20:13:18.756012Z"
    }
   },
   "outputs": [
    {
     "data": {
      "text/plain": [
       "0.008757638"
      ]
     },
     "execution_count": 81,
     "metadata": {},
     "output_type": "execute_result"
    }
   ],
   "source": [
    "m_final.fit(data_train, item_features = feat, epochs = 26)\n",
    "precision_at_k(m_final, data_test, data_train, item_features = feat, k = 10).mean()"
   ]
  },
  {
   "cell_type": "code",
   "execution_count": 100,
   "metadata": {
    "execution": {
     "iopub.execute_input": "2022-05-24T21:20:17.635314Z",
     "iopub.status.busy": "2022-05-24T21:20:17.634443Z",
     "iopub.status.idle": "2022-05-24T21:25:28.173613Z",
     "shell.execute_reply": "2022-05-24T21:25:28.172858Z",
     "shell.execute_reply.started": "2022-05-24T21:20:17.635254Z"
    }
   },
   "outputs": [
    {
     "data": {
      "text/plain": [
       "0.008655804"
      ]
     },
     "execution_count": 100,
     "metadata": {},
     "output_type": "execute_result"
    }
   ],
   "source": [
    "m_final.fit(data_train, item_features = feat2, epochs = 26)\n",
    "precision_at_k(m_final, data_test, data_train, item_features = feat2, k = 10).mean()"
   ]
  },
  {
   "cell_type": "markdown",
   "metadata": {},
   "source": [
    "Лучшее качество получилось на модели с tf-idf но без серьезной предобработки\n",
    "около 0,0087"
   ]
  }
 ],
 "metadata": {
  "kernelspec": {
   "display_name": "Python 3",
   "language": "python",
   "name": "python3"
  },
  "language_info": {
   "codemirror_mode": {
    "name": "ipython",
    "version": 3
   },
   "file_extension": ".py",
   "mimetype": "text/x-python",
   "name": "python",
   "nbconvert_exporter": "python",
   "pygments_lexer": "ipython3",
   "version": "3.7.12"
  }
 },
 "nbformat": 4,
 "nbformat_minor": 4
}
