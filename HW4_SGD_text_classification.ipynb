{
 "cells": [
  {
   "cell_type": "markdown",
   "metadata": {},
   "source": [
    "# Домашнее задание 6: классификация текстов"
   ]
  },
  {
   "cell_type": "markdown",
   "metadata": {},
   "source": [
    "Мы будем работать с датасетом объявлений Avito. Нам предстоит по заголовку и тексту объявления предсказывать категорию объявления."
   ]
  },
  {
   "cell_type": "code",
   "execution_count": 1,
   "metadata": {},
   "outputs": [],
   "source": [
    "import pandas as pd"
   ]
  },
  {
   "cell_type": "code",
   "execution_count": 2,
   "metadata": {},
   "outputs": [],
   "source": [
    "train = pd.read_csv('train.csv')\n",
    "test = pd.read_csv('test.csv')"
   ]
  },
  {
   "cell_type": "code",
   "execution_count": 3,
   "metadata": {},
   "outputs": [
    {
     "data": {
      "text/html": [
       "<div>\n",
       "<style scoped>\n",
       "    .dataframe tbody tr th:only-of-type {\n",
       "        vertical-align: middle;\n",
       "    }\n",
       "\n",
       "    .dataframe tbody tr th {\n",
       "        vertical-align: top;\n",
       "    }\n",
       "\n",
       "    .dataframe thead th {\n",
       "        text-align: right;\n",
       "    }\n",
       "</style>\n",
       "<table border=\"1\" class=\"dataframe\">\n",
       "  <thead>\n",
       "    <tr style=\"text-align: right;\">\n",
       "      <th></th>\n",
       "      <th>title</th>\n",
       "      <th>description</th>\n",
       "      <th>Category_name</th>\n",
       "      <th>Category</th>\n",
       "    </tr>\n",
       "  </thead>\n",
       "  <tbody>\n",
       "    <tr>\n",
       "      <td>0</td>\n",
       "      <td>Эбу Renault / Nissan 1,5 DCI Delphi 2001-2008 год</td>\n",
       "      <td>Комплект ЭБУ (мозги, компьютер мотора, двигате...</td>\n",
       "      <td>Запчасти и аксессуары</td>\n",
       "      <td>10</td>\n",
       "    </tr>\n",
       "    <tr>\n",
       "      <td>1</td>\n",
       "      <td>Утюг утп 1000 ватт СССР 1987 год</td>\n",
       "      <td>Продам/\\n Фото № 1-2 /\\n /\\nУтюг УТП 1000 ватт...</td>\n",
       "      <td>Бытовая техника</td>\n",
       "      <td>21</td>\n",
       "    </tr>\n",
       "    <tr>\n",
       "      <td>2</td>\n",
       "      <td>Возвму машину с выкупом</td>\n",
       "      <td>Возьму машину в аренду с последующим выкупом н...</td>\n",
       "      <td>Предложение услуг</td>\n",
       "      <td>114</td>\n",
       "    </tr>\n",
       "    <tr>\n",
       "      <td>3</td>\n",
       "      <td>Полусапожки</td>\n",
       "      <td>полусапожки в отличном состоянии, один раз оде...</td>\n",
       "      <td>Одежда, обувь, аксессуары</td>\n",
       "      <td>27</td>\n",
       "    </tr>\n",
       "    <tr>\n",
       "      <td>4</td>\n",
       "      <td>Босоножки кожаные</td>\n",
       "      <td>Кожаные(натур) босоножки Karlo Pasolini, 40 рр...</td>\n",
       "      <td>Одежда, обувь, аксессуары</td>\n",
       "      <td>27</td>\n",
       "    </tr>\n",
       "  </tbody>\n",
       "</table>\n",
       "</div>"
      ],
      "text/plain": [
       "                                               title  \\\n",
       "0  Эбу Renault / Nissan 1,5 DCI Delphi 2001-2008 год   \n",
       "1                   Утюг утп 1000 ватт СССР 1987 год   \n",
       "2                            Возвму машину с выкупом   \n",
       "3                                        Полусапожки   \n",
       "4                                  Босоножки кожаные   \n",
       "\n",
       "                                         description  \\\n",
       "0  Комплект ЭБУ (мозги, компьютер мотора, двигате...   \n",
       "1  Продам/\\n Фото № 1-2 /\\n /\\nУтюг УТП 1000 ватт...   \n",
       "2  Возьму машину в аренду с последующим выкупом н...   \n",
       "3  полусапожки в отличном состоянии, один раз оде...   \n",
       "4  Кожаные(натур) босоножки Karlo Pasolini, 40 рр...   \n",
       "\n",
       "               Category_name  Category  \n",
       "0      Запчасти и аксессуары        10  \n",
       "1            Бытовая техника        21  \n",
       "2          Предложение услуг       114  \n",
       "3  Одежда, обувь, аксессуары        27  \n",
       "4  Одежда, обувь, аксессуары        27  "
      ]
     },
     "execution_count": 3,
     "metadata": {},
     "output_type": "execute_result"
    }
   ],
   "source": [
    "train.head()"
   ]
  },
  {
   "cell_type": "code",
   "execution_count": 4,
   "metadata": {},
   "outputs": [
    {
     "data": {
      "text/plain": [
       "(4234042, 4)"
      ]
     },
     "execution_count": 4,
     "metadata": {},
     "output_type": "execute_result"
    }
   ],
   "source": [
    "train.shape"
   ]
  },
  {
   "cell_type": "markdown",
   "metadata": {},
   "source": [
    "Проверяем данные на пропуски"
   ]
  },
  {
   "cell_type": "code",
   "execution_count": 5,
   "metadata": {
    "scrolled": true
   },
   "outputs": [
    {
     "data": {
      "text/plain": [
       "title            False\n",
       "description       True\n",
       "Category_name    False\n",
       "Category         False\n",
       "dtype: bool"
      ]
     },
     "execution_count": 5,
     "metadata": {},
     "output_type": "execute_result"
    }
   ],
   "source": [
    "train.isna().any()"
   ]
  },
  {
   "cell_type": "code",
   "execution_count": 6,
   "metadata": {},
   "outputs": [
    {
     "data": {
      "text/html": [
       "<div>\n",
       "<style scoped>\n",
       "    .dataframe tbody tr th:only-of-type {\n",
       "        vertical-align: middle;\n",
       "    }\n",
       "\n",
       "    .dataframe tbody tr th {\n",
       "        vertical-align: top;\n",
       "    }\n",
       "\n",
       "    .dataframe thead th {\n",
       "        text-align: right;\n",
       "    }\n",
       "</style>\n",
       "<table border=\"1\" class=\"dataframe\">\n",
       "  <thead>\n",
       "    <tr style=\"text-align: right;\">\n",
       "      <th></th>\n",
       "      <th>title</th>\n",
       "      <th>description</th>\n",
       "      <th>Category_name</th>\n",
       "      <th>Category</th>\n",
       "    </tr>\n",
       "  </thead>\n",
       "  <tbody>\n",
       "    <tr>\n",
       "      <td>0</td>\n",
       "      <td>Эбу Renault / Nissan 1,5 DCI Delphi 2001-2008 год</td>\n",
       "      <td>Комплект ЭБУ (мозги, компьютер мотора, двигате...</td>\n",
       "      <td>Запчасти и аксессуары</td>\n",
       "      <td>10</td>\n",
       "    </tr>\n",
       "    <tr>\n",
       "      <td>1</td>\n",
       "      <td>Утюг утп 1000 ватт СССР 1987 год</td>\n",
       "      <td>Продам/\\n Фото № 1-2 /\\n /\\nУтюг УТП 1000 ватт...</td>\n",
       "      <td>Бытовая техника</td>\n",
       "      <td>21</td>\n",
       "    </tr>\n",
       "    <tr>\n",
       "      <td>2</td>\n",
       "      <td>Возвму машину с выкупом</td>\n",
       "      <td>Возьму машину в аренду с последующим выкупом н...</td>\n",
       "      <td>Предложение услуг</td>\n",
       "      <td>114</td>\n",
       "    </tr>\n",
       "    <tr>\n",
       "      <td>3</td>\n",
       "      <td>Полусапожки</td>\n",
       "      <td>полусапожки в отличном состоянии, один раз оде...</td>\n",
       "      <td>Одежда, обувь, аксессуары</td>\n",
       "      <td>27</td>\n",
       "    </tr>\n",
       "    <tr>\n",
       "      <td>4</td>\n",
       "      <td>Босоножки кожаные</td>\n",
       "      <td>Кожаные(натур) босоножки Karlo Pasolini, 40 рр...</td>\n",
       "      <td>Одежда, обувь, аксессуары</td>\n",
       "      <td>27</td>\n",
       "    </tr>\n",
       "    <tr>\n",
       "      <td>...</td>\n",
       "      <td>...</td>\n",
       "      <td>...</td>\n",
       "      <td>...</td>\n",
       "      <td>...</td>\n",
       "    </tr>\n",
       "    <tr>\n",
       "      <td>4234037</td>\n",
       "      <td>Мопед Дельта Мотоланд 70 кубиков</td>\n",
       "      <td>Продам новый мопед Дельта купленный 18 июня 20...</td>\n",
       "      <td>Мотоциклы и мототехника</td>\n",
       "      <td>14</td>\n",
       "    </tr>\n",
       "    <tr>\n",
       "      <td>4234038</td>\n",
       "      <td>Xiaomi A2 4/64 почти новый (б/у 3 дня)</td>\n",
       "      <td>Xiaomi A2 версия 4/64. /\\nВерсия полноценная, ...</td>\n",
       "      <td>Телефоны</td>\n",
       "      <td>84</td>\n",
       "    </tr>\n",
       "    <tr>\n",
       "      <td>4234039</td>\n",
       "      <td>Шерстяной комбинезон Joha</td>\n",
       "      <td>В отличном состоянии. Мягкий, приятный к телу....</td>\n",
       "      <td>Детская одежда и обувь</td>\n",
       "      <td>29</td>\n",
       "    </tr>\n",
       "    <tr>\n",
       "      <td>4234040</td>\n",
       "      <td>Джинсы фирмы Zara р.152</td>\n",
       "      <td>Новые</td>\n",
       "      <td>Детская одежда и обувь</td>\n",
       "      <td>29</td>\n",
       "    </tr>\n",
       "    <tr>\n",
       "      <td>4234041</td>\n",
       "      <td>Дом 105 м² на участке 10 сот.</td>\n",
       "      <td>Продам полдома , земли 10 сот . Газ , вода на ...</td>\n",
       "      <td>Дома, дачи, коттеджи</td>\n",
       "      <td>25</td>\n",
       "    </tr>\n",
       "  </tbody>\n",
       "</table>\n",
       "<p>4234042 rows × 4 columns</p>\n",
       "</div>"
      ],
      "text/plain": [
       "                                                     title  \\\n",
       "0        Эбу Renault / Nissan 1,5 DCI Delphi 2001-2008 год   \n",
       "1                         Утюг утп 1000 ватт СССР 1987 год   \n",
       "2                                  Возвму машину с выкупом   \n",
       "3                                              Полусапожки   \n",
       "4                                        Босоножки кожаные   \n",
       "...                                                    ...   \n",
       "4234037                   Мопед Дельта Мотоланд 70 кубиков   \n",
       "4234038             Xiaomi A2 4/64 почти новый (б/у 3 дня)   \n",
       "4234039                          Шерстяной комбинезон Joha   \n",
       "4234040                            Джинсы фирмы Zara р.152   \n",
       "4234041                      Дом 105 м² на участке 10 сот.   \n",
       "\n",
       "                                               description  \\\n",
       "0        Комплект ЭБУ (мозги, компьютер мотора, двигате...   \n",
       "1        Продам/\\n Фото № 1-2 /\\n /\\nУтюг УТП 1000 ватт...   \n",
       "2        Возьму машину в аренду с последующим выкупом н...   \n",
       "3        полусапожки в отличном состоянии, один раз оде...   \n",
       "4        Кожаные(натур) босоножки Karlo Pasolini, 40 рр...   \n",
       "...                                                    ...   \n",
       "4234037  Продам новый мопед Дельта купленный 18 июня 20...   \n",
       "4234038  Xiaomi A2 версия 4/64. /\\nВерсия полноценная, ...   \n",
       "4234039  В отличном состоянии. Мягкий, приятный к телу....   \n",
       "4234040                                              Новые   \n",
       "4234041  Продам полдома , земли 10 сот . Газ , вода на ...   \n",
       "\n",
       "                     Category_name  Category  \n",
       "0            Запчасти и аксессуары        10  \n",
       "1                  Бытовая техника        21  \n",
       "2                Предложение услуг       114  \n",
       "3        Одежда, обувь, аксессуары        27  \n",
       "4        Одежда, обувь, аксессуары        27  \n",
       "...                            ...       ...  \n",
       "4234037    Мотоциклы и мототехника        14  \n",
       "4234038                   Телефоны        84  \n",
       "4234039     Детская одежда и обувь        29  \n",
       "4234040     Детская одежда и обувь        29  \n",
       "4234041       Дома, дачи, коттеджи        25  \n",
       "\n",
       "[4234042 rows x 4 columns]"
      ]
     },
     "execution_count": 6,
     "metadata": {},
     "output_type": "execute_result"
    }
   ],
   "source": [
    "train.fillna('', inplace=True)\n",
    "train"
   ]
  },
  {
   "cell_type": "code",
   "execution_count": 7,
   "metadata": {},
   "outputs": [
    {
     "data": {
      "text/plain": [
       "title          False\n",
       "description     True\n",
       "itemid         False\n",
       "dtype: bool"
      ]
     },
     "execution_count": 7,
     "metadata": {},
     "output_type": "execute_result"
    }
   ],
   "source": [
    "test.isna().any()"
   ]
  },
  {
   "cell_type": "code",
   "execution_count": 8,
   "metadata": {},
   "outputs": [
    {
     "data": {
      "text/html": [
       "<div>\n",
       "<style scoped>\n",
       "    .dataframe tbody tr th:only-of-type {\n",
       "        vertical-align: middle;\n",
       "    }\n",
       "\n",
       "    .dataframe tbody tr th {\n",
       "        vertical-align: top;\n",
       "    }\n",
       "\n",
       "    .dataframe thead th {\n",
       "        text-align: right;\n",
       "    }\n",
       "</style>\n",
       "<table border=\"1\" class=\"dataframe\">\n",
       "  <thead>\n",
       "    <tr style=\"text-align: right;\">\n",
       "      <th></th>\n",
       "      <th>title</th>\n",
       "      <th>description</th>\n",
       "      <th>itemid</th>\n",
       "    </tr>\n",
       "  </thead>\n",
       "  <tbody>\n",
       "    <tr>\n",
       "      <td>0</td>\n",
       "      <td>Мастерка</td>\n",
       "      <td>Мастерка фирмы форвард. Белого цвета. В идеаль...</td>\n",
       "      <td>1778449823</td>\n",
       "    </tr>\n",
       "    <tr>\n",
       "      <td>1</td>\n",
       "      <td>Зимние сапоги</td>\n",
       "      <td>Продаю зимние сапоги, в хорошем состоянии, все...</td>\n",
       "      <td>1677656962</td>\n",
       "    </tr>\n",
       "    <tr>\n",
       "      <td>2</td>\n",
       "      <td>Видеонаблюдение 8 камер</td>\n",
       "      <td>В комплект Atis AMD-2MIR-8kit входит: /\\n1. Ку...</td>\n",
       "      <td>1758182804</td>\n",
       "    </tr>\n",
       "    <tr>\n",
       "      <td>3</td>\n",
       "      <td>Запчасти для GLE</td>\n",
       "      <td>Запчасти GLE</td>\n",
       "      <td>1689811299</td>\n",
       "    </tr>\n",
       "    <tr>\n",
       "      <td>4</td>\n",
       "      <td>Бластер nerf</td>\n",
       "      <td>Состояние 5+/\\nПродаю потому что не нужен/\\n18...</td>\n",
       "      <td>1804706240</td>\n",
       "    </tr>\n",
       "    <tr>\n",
       "      <td>...</td>\n",
       "      <td>...</td>\n",
       "      <td>...</td>\n",
       "      <td>...</td>\n",
       "    </tr>\n",
       "    <tr>\n",
       "      <td>1411343</td>\n",
       "      <td>Бетоносмеситель Россия бсэ-140 чугун</td>\n",
       "      <td>Бетономешалка российского производства - не Ки...</td>\n",
       "      <td>902146704</td>\n",
       "    </tr>\n",
       "    <tr>\n",
       "      <td>1411344</td>\n",
       "      <td>Разношрокие колеса R19 оригинал Porsche Panamera</td>\n",
       "      <td>Диски с резиной в отличном состоянии/\\n /\\nШин...</td>\n",
       "      <td>1799983289</td>\n",
       "    </tr>\n",
       "    <tr>\n",
       "      <td>1411345</td>\n",
       "      <td>Комбенз зимний размер</td>\n",
       "      <td>Комбензон на овчине .Подойдет зима , весна, ос...</td>\n",
       "      <td>1177237748</td>\n",
       "    </tr>\n",
       "    <tr>\n",
       "      <td>1411346</td>\n",
       "      <td>Смартфон Honor 5C</td>\n",
       "      <td>В отличном состоянии. Использовался с защитным...</td>\n",
       "      <td>1793055786</td>\n",
       "    </tr>\n",
       "    <tr>\n",
       "      <td>1411347</td>\n",
       "      <td>Слипоны Ralph Lauren 6.5</td>\n",
       "      <td>Новые без коробки , приехали из сша /\\n6.5 на ...</td>\n",
       "      <td>1109142980</td>\n",
       "    </tr>\n",
       "  </tbody>\n",
       "</table>\n",
       "<p>1411348 rows × 3 columns</p>\n",
       "</div>"
      ],
      "text/plain": [
       "                                                    title  \\\n",
       "0                                                Мастерка   \n",
       "1                                           Зимние сапоги   \n",
       "2                                 Видеонаблюдение 8 камер   \n",
       "3                                        Запчасти для GLE   \n",
       "4                                            Бластер nerf   \n",
       "...                                                   ...   \n",
       "1411343              Бетоносмеситель Россия бсэ-140 чугун   \n",
       "1411344  Разношрокие колеса R19 оригинал Porsche Panamera   \n",
       "1411345                             Комбенз зимний размер   \n",
       "1411346                                 Смартфон Honor 5C   \n",
       "1411347                          Слипоны Ralph Lauren 6.5   \n",
       "\n",
       "                                               description      itemid  \n",
       "0        Мастерка фирмы форвард. Белого цвета. В идеаль...  1778449823  \n",
       "1        Продаю зимние сапоги, в хорошем состоянии, все...  1677656962  \n",
       "2        В комплект Atis AMD-2MIR-8kit входит: /\\n1. Ку...  1758182804  \n",
       "3                                             Запчасти GLE  1689811299  \n",
       "4        Состояние 5+/\\nПродаю потому что не нужен/\\n18...  1804706240  \n",
       "...                                                    ...         ...  \n",
       "1411343  Бетономешалка российского производства - не Ки...   902146704  \n",
       "1411344  Диски с резиной в отличном состоянии/\\n /\\nШин...  1799983289  \n",
       "1411345  Комбензон на овчине .Подойдет зима , весна, ос...  1177237748  \n",
       "1411346  В отличном состоянии. Использовался с защитным...  1793055786  \n",
       "1411347  Новые без коробки , приехали из сша /\\n6.5 на ...  1109142980  \n",
       "\n",
       "[1411348 rows x 3 columns]"
      ]
     },
     "execution_count": 8,
     "metadata": {},
     "output_type": "execute_result"
    }
   ],
   "source": [
    "test.fillna('', inplace=True)\n",
    "test"
   ]
  },
  {
   "cell_type": "markdown",
   "metadata": {},
   "source": [
    "Сконкатенируем заголовок и описание в единую строку и поместим результат в отдельный столбец. Таким образом мы будет работать с одним текстом, а не с двумя."
   ]
  },
  {
   "cell_type": "code",
   "execution_count": 9,
   "metadata": {},
   "outputs": [],
   "source": [
    "train2 = pd.concat([train,train.title+' '+train.description], axis=1)\n",
    "train2.columns = ['title','description','category_name','category','entire_text']"
   ]
  },
  {
   "cell_type": "code",
   "execution_count": 10,
   "metadata": {},
   "outputs": [],
   "source": [
    "test2 = pd.concat([test,test.title+' '+test.description], axis=1)\n",
    "test2.columns = ['title','description','itemid','entire_text']"
   ]
  },
  {
   "cell_type": "code",
   "execution_count": 32,
   "metadata": {},
   "outputs": [
    {
     "data": {
      "text/plain": [
       "50"
      ]
     },
     "execution_count": 32,
     "metadata": {},
     "output_type": "execute_result"
    }
   ],
   "source": [
    "import matplotlib.pyplot as plt\n",
    "#количество классов, которые необходимо предсказать\n",
    "len(train2.category.unique())"
   ]
  },
  {
   "cell_type": "code",
   "execution_count": 33,
   "metadata": {},
   "outputs": [
    {
     "data": {
      "text/plain": [
       "27     0.180707\n",
       "10     0.174939\n",
       "29     0.136394\n",
       "30     0.048775\n",
       "20     0.037018\n",
       "24     0.033593\n",
       "19     0.032756\n",
       "9      0.029706\n",
       "114    0.028378\n",
       "84     0.026850\n",
       "36     0.023761\n",
       "39     0.020163\n",
       "32     0.019681\n",
       "88     0.017110\n",
       "21     0.016754\n",
       "101    0.016079\n",
       "83     0.013948\n",
       "28     0.013918\n",
       "25     0.011392\n",
       "87     0.010047\n",
       "40     0.007590\n",
       "111    0.006403\n",
       "26     0.006381\n",
       "97     0.006217\n",
       "105    0.005854\n",
       "106    0.005459\n",
       "42     0.005179\n",
       "34     0.004603\n",
       "99     0.004599\n",
       "98     0.004359\n",
       "38     0.004138\n",
       "81     0.004055\n",
       "82     0.004012\n",
       "90     0.003647\n",
       "31     0.003524\n",
       "89     0.003239\n",
       "96     0.003236\n",
       "85     0.003148\n",
       "94     0.003136\n",
       "112    0.003082\n",
       "102    0.002874\n",
       "93     0.002805\n",
       "14     0.002798\n",
       "23     0.002758\n",
       "92     0.001235\n",
       "11     0.001152\n",
       "116    0.000974\n",
       "91     0.000854\n",
       "33     0.000682\n",
       "86     0.000039\n",
       "Name: category, dtype: float64"
      ]
     },
     "execution_count": 33,
     "metadata": {},
     "output_type": "execute_result"
    }
   ],
   "source": [
    "train2['category'].value_counts(normalize=True) #выводим доли классов"
   ]
  },
  {
   "cell_type": "code",
   "execution_count": 34,
   "metadata": {},
   "outputs": [
    {
     "data": {
      "text/plain": [
       "<matplotlib.axes._subplots.AxesSubplot at 0x7fa0c8f48750>"
      ]
     },
     "execution_count": 34,
     "metadata": {},
     "output_type": "execute_result"
    },
    {
     "data": {
      "image/png": "[encoded data removed]",
      "text/plain": [
       "<Figure size 864x432 with 1 Axes>"
      ]
     },
     "metadata": {
      "needs_background": "light"
     },
     "output_type": "display_data"
    }
   ],
   "source": [
    "#диаграмма\n",
    "import numpy as np\n",
    "from sklearn import preprocessing\n",
    "plt.figure(figsize=(12, 6))\n",
    "train2['category'].value_counts(sort=False, normalize=True).plot.bar()"
   ]
  },
  {
   "cell_type": "markdown",
   "metadata": {},
   "source": [
    "Дисбаланс между классами довольно высокий \n",
    "\n",
    "Наибольшую долю в выборке имеет класс 27 ('Одежда, обувь, аксессуары'). Доля - 0.180707\n",
    "\n",
    "Наименьшую - 86 ('Недвижимость за рубежом'). Доля - 0.000039"
   ]
  },
  {
   "cell_type": "markdown",
   "metadata": {},
   "source": [
    "### Предобработка"
   ]
  },
  {
   "cell_type": "code",
   "execution_count": 15,
   "metadata": {},
   "outputs": [
    {
     "data": {
      "text/plain": [
       "<4234042x2125805 sparse matrix of type '<class 'numpy.int64'>'\n",
       "\twith 150918485 stored elements in Compressed Sparse Row format>"
      ]
     },
     "execution_count": 15,
     "metadata": {},
     "output_type": "execute_result"
    }
   ],
   "source": [
    "from sklearn.feature_extraction.text import CountVectorizer\n",
    "vr = CountVectorizer()\n",
    "matrix_train2 = vr.fit_transform(train2['entire_text'])\n",
    "matrix_train2"
   ]
  },
  {
   "cell_type": "markdown",
   "metadata": {},
   "source": [
    "Матрица получилась очень большой ввиду низкого качества словаря. Проверим, как много в словаре слов, начинающихся с цифр или символов"
   ]
  },
  {
   "cell_type": "code",
   "execution_count": 16,
   "metadata": {},
   "outputs": [
    {
     "data": {
      "text/html": [
       "<div>\n",
       "<style scoped>\n",
       "    .dataframe tbody tr th:only-of-type {\n",
       "        vertical-align: middle;\n",
       "    }\n",
       "\n",
       "    .dataframe tbody tr th {\n",
       "        vertical-align: top;\n",
       "    }\n",
       "\n",
       "    .dataframe thead th {\n",
       "        text-align: right;\n",
       "    }\n",
       "</style>\n",
       "<table border=\"1\" class=\"dataframe\">\n",
       "  <thead>\n",
       "    <tr style=\"text-align: right;\">\n",
       "      <th></th>\n",
       "      <th>Word</th>\n",
       "      <th>Feature Index</th>\n",
       "      <th>1digit</th>\n",
       "    </tr>\n",
       "  </thead>\n",
       "  <tbody>\n",
       "    <tr>\n",
       "      <td>0</td>\n",
       "      <td>эбу</td>\n",
       "      <td>2102181</td>\n",
       "      <td>э</td>\n",
       "    </tr>\n",
       "    <tr>\n",
       "      <td>1</td>\n",
       "      <td>renault</td>\n",
       "      <td>983123</td>\n",
       "      <td>r</td>\n",
       "    </tr>\n",
       "    <tr>\n",
       "      <td>2</td>\n",
       "      <td>nissan</td>\n",
       "      <td>927024</td>\n",
       "      <td>n</td>\n",
       "    </tr>\n",
       "    <tr>\n",
       "      <td>3</td>\n",
       "      <td>dci</td>\n",
       "      <td>737115</td>\n",
       "      <td>d</td>\n",
       "    </tr>\n",
       "    <tr>\n",
       "      <td>4</td>\n",
       "      <td>delphi</td>\n",
       "      <td>739000</td>\n",
       "      <td>d</td>\n",
       "    </tr>\n",
       "    <tr>\n",
       "      <td>...</td>\n",
       "      <td>...</td>\n",
       "      <td>...</td>\n",
       "      <td>...</td>\n",
       "    </tr>\n",
       "    <tr>\n",
       "      <td>2125800</td>\n",
       "      <td>594г</td>\n",
       "      <td>444747</td>\n",
       "      <td>5</td>\n",
       "    </tr>\n",
       "    <tr>\n",
       "      <td>2125801</td>\n",
       "      <td>мотоланд</td>\n",
       "      <td>1567516</td>\n",
       "      <td>м</td>\n",
       "    </tr>\n",
       "    <tr>\n",
       "      <td>2125802</td>\n",
       "      <td>падавший</td>\n",
       "      <td>1687876</td>\n",
       "      <td>п</td>\n",
       "    </tr>\n",
       "    <tr>\n",
       "      <td>2125803</td>\n",
       "      <td>стоковою</td>\n",
       "      <td>1943040</td>\n",
       "      <td>с</td>\n",
       "    </tr>\n",
       "    <tr>\n",
       "      <td>2125804</td>\n",
       "      <td>скурпулёзных</td>\n",
       "      <td>1906152</td>\n",
       "      <td>с</td>\n",
       "    </tr>\n",
       "  </tbody>\n",
       "</table>\n",
       "<p>2125805 rows × 3 columns</p>\n",
       "</div>"
      ],
      "text/plain": [
       "                 Word  Feature Index 1digit\n",
       "0                 эбу        2102181      э\n",
       "1             renault         983123      r\n",
       "2              nissan         927024      n\n",
       "3                 dci         737115      d\n",
       "4              delphi         739000      d\n",
       "...               ...            ...    ...\n",
       "2125800          594г         444747      5\n",
       "2125801      мотоланд        1567516      м\n",
       "2125802      падавший        1687876      п\n",
       "2125803      стоковою        1943040      с\n",
       "2125804  скурпулёзных        1906152      с\n",
       "\n",
       "[2125805 rows x 3 columns]"
      ]
     },
     "execution_count": 16,
     "metadata": {},
     "output_type": "execute_result"
    }
   ],
   "source": [
    "df = pd.DataFrame(list(vr.vocabulary_.items()), columns=['Word','Feature Index'])\n",
    "df['1digit']=df['Word'].str[0]\n",
    "df"
   ]
  },
  {
   "cell_type": "code",
   "execution_count": 17,
   "metadata": {},
   "outputs": [
    {
     "data": {
      "text/plain": [
       "610944"
      ]
     },
     "execution_count": 17,
     "metadata": {},
     "output_type": "execute_result"
    }
   ],
   "source": [
    "#Количество слов, начинающихся с цифры\n",
    "sum(map(lambda x: x.isdigit(),df['1digit']))"
   ]
  },
  {
   "cell_type": "code",
   "execution_count": 18,
   "metadata": {},
   "outputs": [
    {
     "data": {
      "text/plain": [
       "2043"
      ]
     },
     "execution_count": 18,
     "metadata": {},
     "output_type": "execute_result"
    }
   ],
   "source": [
    "#Количество слов, начинающихся с символа пунктуации\n",
    "import string\n",
    "sum(map(lambda x: x in string.punctuation,df['1digit']))"
   ]
  },
  {
   "cell_type": "markdown",
   "metadata": {},
   "source": [
    "Пишем кастомный токенайзер, которые сделает все, что нам нужно: \n",
    "0. Приведет все буквы к нижнему регистру\n",
    "1. Разобьет текст на токены с помощью word_tokenizer из пакета nltk\n",
    "2. Удалит все токены содержащие числа и пунктуацию\n",
    "3. Удалит все токены, которые перечислены в nltk.corpus.stopwords('russian')\n",
    "4. Проведет стемминг с помощью SnowballStemmer\n",
    "\n",
    "Работа функии продемонстрирована на самом первом описании товара в датасете."
   ]
  },
  {
   "cell_type": "code",
   "execution_count": 30,
   "metadata": {},
   "outputs": [
    {
     "name": "stderr",
     "output_type": "stream",
     "text": [
      "[nltk_data] Downloading package punkt to\n",
      "[nltk_data]     /Users/vasilisavashenko/nltk_data...\n",
      "[nltk_data]   Package punkt is already up-to-date!\n",
      "[nltk_data] Downloading package stopwords to\n",
      "[nltk_data]     /Users/vasilisavashenko/nltk_data...\n",
      "[nltk_data]   Package stopwords is already up-to-date!\n"
     ]
    },
    {
     "data": {
      "text/plain": [
       "['эб',\n",
       " 'renault',\n",
       " 'nissan',\n",
       " 'dci',\n",
       " 'delphi',\n",
       " 'год',\n",
       " 'комплект',\n",
       " 'эб',\n",
       " 'мозг',\n",
       " 'компьютер',\n",
       " 'мотор',\n",
       " 'двигател',\n",
       " 'коммутатор',\n",
       " 'электрон',\n",
       " 'блок',\n",
       " 'управлен',\n",
       " 'двигател',\n",
       " 'компьютер',\n",
       " 'мотор',\n",
       " 'рен',\n",
       " 'kangoo',\n",
       " 'канг',\n",
       " 'канг',\n",
       " 'мега',\n",
       " 'сценик',\n",
       " 'laguna',\n",
       " 'лагун',\n",
       " 'clio',\n",
       " 'кли',\n",
       " 'nissan',\n",
       " 'micra',\n",
       " 'нисса',\n",
       " 'микр',\n",
       " 'друг',\n",
       " 'рен',\n",
       " 'нисса',\n",
       " 'дизел',\n",
       " 'топливн',\n",
       " 'аппаратур',\n",
       " 'делф',\n",
       " 'оригина',\n",
       " 'отличн',\n",
       " 'состоян',\n",
       " 'проверен',\n",
       " 'гарант',\n",
       " 'запчаст',\n",
       " 'предоставля',\n",
       " 'гарант',\n",
       " 'возможн',\n",
       " 'установк',\n",
       " 'подробн',\n",
       " 'раздел',\n",
       " 'компан',\n",
       " 'дорож',\n",
       " 'сво',\n",
       " 'репутац',\n",
       " 'торгу',\n",
       " 'легальн',\n",
       " 'контрактн',\n",
       " 'запчаст',\n",
       " 'дета',\n",
       " 'налич',\n",
       " 'таможен',\n",
       " 'документ',\n",
       " 'запчаст',\n",
       " 'автомобил',\n",
       " 'пробег',\n",
       " 'росс',\n",
       " 'отправля',\n",
       " 'друг',\n",
       " 'регион',\n",
       " 'таможен',\n",
       " 'союз',\n",
       " 'транспортн',\n",
       " 'компан',\n",
       " 'наложн',\n",
       " 'платеж']"
      ]
     },
     "execution_count": 30,
     "metadata": {},
     "output_type": "execute_result"
    }
   ],
   "source": [
    "import nltk\n",
    "from nltk.stem.snowball import SnowballStemmer\n",
    "nltk.download('punkt')\n",
    "nltk.download('stopwords')\n",
    "from nltk.corpus import stopwords\n",
    "from nltk import word_tokenize\n",
    "stemmer = SnowballStemmer('russian')\n",
    "\n",
    "def custom_tokenizer(sample):\n",
    "    sample = [stemmer.stem(word) for word in word_tokenize(sample.lower()) if not word in stopwords.words('russian') and word.isalpha()]\n",
    "    return sample\n",
    "custom_tokenizer(train2['entire_text'][0])"
   ]
  },
  {
   "cell_type": "markdown",
   "metadata": {},
   "source": [
    "## Обучение"
   ]
  },
  {
   "cell_type": "markdown",
   "metadata": {},
   "source": [
    "Мы попробуем сравнить качество предсказания при использования трех разных векторайзеров: CountVectorizer, TF-IDF Vectorizer и HashingVectorizer. "
   ]
  },
  {
   "cell_type": "code",
   "execution_count": 46,
   "metadata": {},
   "outputs": [],
   "source": [
    "from sklearn.linear_model import SGDClassifier\n",
    "from sklearn.model_selection import train_test_split\n",
    "from sklearn.feature_extraction.text import TfidfVectorizer\n",
    "from sklearn.feature_extraction.text import HashingVectorizer"
   ]
  },
  {
   "cell_type": "code",
   "execution_count": 51,
   "metadata": {},
   "outputs": [],
   "source": [
    "vr2 = CountVectorizer(tokenizer = custom_tokenizer)\n",
    "sample = train2.sample(100000) \n",
    "X = vr2.fit_transform(sample['entire_text'])\n",
    "y = sample[\"category\"]\n",
    "X_train,X_test,y_train,y_test = train_test_split(X,y,test_size=0.2)\n",
    "model1 = SGDClassifier().fit(X_train,y_train)\n",
    "preds = model1.predict(X_test)"
   ]
  },
  {
   "cell_type": "code",
   "execution_count": 55,
   "metadata": {},
   "outputs": [
    {
     "data": {
      "text/plain": [
       "<100000x83702 sparse matrix of type '<class 'numpy.int64'>'\n",
       "\twith 2472186 stored elements in Compressed Sparse Row format>"
      ]
     },
     "execution_count": 55,
     "metadata": {},
     "output_type": "execute_result"
    }
   ],
   "source": [
    "X"
   ]
  },
  {
   "cell_type": "code",
   "execution_count": 58,
   "metadata": {},
   "outputs": [
    {
     "data": {
      "text/plain": [
       "0.82535"
      ]
     },
     "execution_count": 58,
     "metadata": {},
     "output_type": "execute_result"
    }
   ],
   "source": [
    "from sklearn.metrics import accuracy_score\n",
    "accuracy1 = accuracy_score(y_test,preds)\n",
    "accuracy1"
   ]
  },
  {
   "cell_type": "code",
   "execution_count": 62,
   "metadata": {},
   "outputs": [],
   "source": [
    "### поскольку очень частые слова имеют низкую дискриминирующю силу для предсказания\n",
    "### мы устанавливаем порог на частоту появления токенов\n",
    "vr3 = TfidfVectorizer(tokenizer = custom_tokenizer, max_df = 0.9)\n",
    "sample = train2.sample(100000) \n",
    "X = vr3.fit_transform(sample['entire_text'])\n",
    "y = sample['category']\n",
    "X_train,X_test,y_train,y_test = train_test_split(X,y,test_size=0.2)\n",
    "model2 = SGDClassifier().fit(X_train,y_train)\n",
    "preds2 = model2.predict(X_test)"
   ]
  },
  {
   "cell_type": "code",
   "execution_count": 63,
   "metadata": {},
   "outputs": [
    {
     "data": {
      "text/plain": [
       "<100000x84106 sparse matrix of type '<class 'numpy.float64'>'\n",
       "\twith 2455267 stored elements in Compressed Sparse Row format>"
      ]
     },
     "execution_count": 63,
     "metadata": {},
     "output_type": "execute_result"
    }
   ],
   "source": [
    "X"
   ]
  },
  {
   "cell_type": "code",
   "execution_count": 64,
   "metadata": {},
   "outputs": [
    {
     "data": {
      "text/plain": [
       "0.82585"
      ]
     },
     "execution_count": 64,
     "metadata": {},
     "output_type": "execute_result"
    }
   ],
   "source": [
    "accuracy2 = accuracy_score(y_test,preds2)\n",
    "accuracy2"
   ]
  },
  {
   "cell_type": "markdown",
   "metadata": {},
   "source": [
    "Попробуем применить hashing trick: случайно группируем признаки складываем их, а потом удаляем исходные признаки. В итоге все наши признаки это просто суммы исходных. При таком подходе не нужно хранить словарь token->index, что тоже иногда полезно."
   ]
  },
  {
   "cell_type": "code",
   "execution_count": 68,
   "metadata": {},
   "outputs": [],
   "source": [
    "vr4 = HashingVectorizer(n_features=30000)\n",
    "sample = train2.sample(100000) \n",
    "X = vr4.fit_transform(sample['entire_text'])\n",
    "y = sample['category']\n",
    "X_train,X_test,y_train,y_test = train_test_split(X,y,test_size=0.2)\n",
    "model3 = SGDClassifier().fit(X_train,y_train)\n",
    "preds3 = model3.predict(X_test)"
   ]
  },
  {
   "cell_type": "code",
   "execution_count": 69,
   "metadata": {},
   "outputs": [
    {
     "data": {
      "text/plain": [
       "<100000x30000 sparse matrix of type '<class 'numpy.float64'>'\n",
       "\twith 3558976 stored elements in Compressed Sparse Row format>"
      ]
     },
     "execution_count": 69,
     "metadata": {},
     "output_type": "execute_result"
    }
   ],
   "source": [
    "X"
   ]
  },
  {
   "cell_type": "code",
   "execution_count": 71,
   "metadata": {},
   "outputs": [
    {
     "data": {
      "text/plain": [
       "0.8138"
      ]
     },
     "execution_count": 71,
     "metadata": {},
     "output_type": "execute_result"
    }
   ],
   "source": [
    "accuracy3 = accuracy_score(y_test,preds3)\n",
    "accuracy3"
   ]
  },
  {
   "cell_type": "markdown",
   "metadata": {},
   "source": [
    "Вывод: в качестве baseline модели выбирается модель №2, задействующая TfidfVectorizer, поскольку она показала наилучшее качество на тестовой выборке."
   ]
  }
 ],
 "metadata": {
  "kernelspec": {
   "display_name": "Python 3",
   "language": "python",
   "name": "python3"
  },
  "language_info": {
   "codemirror_mode": {
    "name": "ipython",
    "version": 3
   },
   "file_extension": ".py",
   "mimetype": "text/x-python",
   "name": "python",
   "nbconvert_exporter": "python",
   "pygments_lexer": "ipython3",
   "version": "3.7.4"
  }
 },
 "nbformat": 4,
 "nbformat_minor": 2
}
