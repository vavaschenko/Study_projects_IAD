{
 "cells": [
  {
   "cell_type": "markdown",
   "metadata": {},
   "source": [
    "# Домашнее задание 9. Настройка композиций алгоритмов\n",
    "\n",
    "В этом задании вы настроите случайный лес, градиентный бустинг, а также их композицию на данных\n",
    "соревнования [Mercedes-Benz Greener Manufacturing](https://www.kaggle.com/c/mercedes-benz-greener-manufacturing).\n",
    "\n",
    "Кратко о задаче: объекты - автомобили, целевая переменная - время, за которое автомобиль проходит тест, задача регрессии, качество измеряется с помощью $R^2$-метрики.\n",
    "\n",
    "Скрипт загрузки и базовой предобработки данных взят с [Kaggle Kernels](https://www.kaggle.com/anokas/mercedes-eda-xgboost-starter-0-55/notebook). В этом же ядре приводится базовый exploration данных."
   ]
  },
  {
   "cell_type": "markdown",
   "metadata": {},
   "source": [
    "## Загрузка данных"
   ]
  },
  {
   "cell_type": "code",
   "execution_count": 1,
   "metadata": {
    "_cell_guid": "45578147-cb22-cd2a-ccc7-1b81c82e137b"
   },
   "outputs": [],
   "source": [
    "import numpy as np\n",
    "import pandas as pd\n",
    "import os\n",
    "import gc\n",
    "import matplotlib.pyplot as plt\n",
    "# import seaborn as sns\n",
    "%matplotlib inline"
   ]
  },
  {
   "cell_type": "code",
   "execution_count": 2,
   "metadata": {
    "_cell_guid": "ba151bcc-e94e-3ff4-d213-4e80e7b4d956"
   },
   "outputs": [
    {
     "name": "stdout",
     "output_type": "stream",
     "text": [
      "Size of training set: 4209 rows and 378 columns\n"
     ]
    },
    {
     "data": {
      "text/html": [
       "<div>\n",
       "<style scoped>\n",
       "    .dataframe tbody tr th:only-of-type {\n",
       "        vertical-align: middle;\n",
       "    }\n",
       "\n",
       "    .dataframe tbody tr th {\n",
       "        vertical-align: top;\n",
       "    }\n",
       "\n",
       "    .dataframe thead th {\n",
       "        text-align: right;\n",
       "    }\n",
       "</style>\n",
       "<table border=\"1\" class=\"dataframe\">\n",
       "  <thead>\n",
       "    <tr style=\"text-align: right;\">\n",
       "      <th></th>\n",
       "      <th>ID</th>\n",
       "      <th>y</th>\n",
       "      <th>X0</th>\n",
       "      <th>X1</th>\n",
       "      <th>X2</th>\n",
       "      <th>X3</th>\n",
       "      <th>X4</th>\n",
       "      <th>X5</th>\n",
       "      <th>X6</th>\n",
       "      <th>X8</th>\n",
       "      <th>...</th>\n",
       "      <th>X375</th>\n",
       "      <th>X376</th>\n",
       "      <th>X377</th>\n",
       "      <th>X378</th>\n",
       "      <th>X379</th>\n",
       "      <th>X380</th>\n",
       "      <th>X382</th>\n",
       "      <th>X383</th>\n",
       "      <th>X384</th>\n",
       "      <th>X385</th>\n",
       "    </tr>\n",
       "  </thead>\n",
       "  <tbody>\n",
       "    <tr>\n",
       "      <td>0</td>\n",
       "      <td>0</td>\n",
       "      <td>130.81</td>\n",
       "      <td>k</td>\n",
       "      <td>v</td>\n",
       "      <td>at</td>\n",
       "      <td>a</td>\n",
       "      <td>d</td>\n",
       "      <td>u</td>\n",
       "      <td>j</td>\n",
       "      <td>o</td>\n",
       "      <td>...</td>\n",
       "      <td>0</td>\n",
       "      <td>0</td>\n",
       "      <td>1</td>\n",
       "      <td>0</td>\n",
       "      <td>0</td>\n",
       "      <td>0</td>\n",
       "      <td>0</td>\n",
       "      <td>0</td>\n",
       "      <td>0</td>\n",
       "      <td>0</td>\n",
       "    </tr>\n",
       "    <tr>\n",
       "      <td>1</td>\n",
       "      <td>6</td>\n",
       "      <td>88.53</td>\n",
       "      <td>k</td>\n",
       "      <td>t</td>\n",
       "      <td>av</td>\n",
       "      <td>e</td>\n",
       "      <td>d</td>\n",
       "      <td>y</td>\n",
       "      <td>l</td>\n",
       "      <td>o</td>\n",
       "      <td>...</td>\n",
       "      <td>1</td>\n",
       "      <td>0</td>\n",
       "      <td>0</td>\n",
       "      <td>0</td>\n",
       "      <td>0</td>\n",
       "      <td>0</td>\n",
       "      <td>0</td>\n",
       "      <td>0</td>\n",
       "      <td>0</td>\n",
       "      <td>0</td>\n",
       "    </tr>\n",
       "    <tr>\n",
       "      <td>2</td>\n",
       "      <td>7</td>\n",
       "      <td>76.26</td>\n",
       "      <td>az</td>\n",
       "      <td>w</td>\n",
       "      <td>n</td>\n",
       "      <td>c</td>\n",
       "      <td>d</td>\n",
       "      <td>x</td>\n",
       "      <td>j</td>\n",
       "      <td>x</td>\n",
       "      <td>...</td>\n",
       "      <td>0</td>\n",
       "      <td>0</td>\n",
       "      <td>0</td>\n",
       "      <td>0</td>\n",
       "      <td>0</td>\n",
       "      <td>0</td>\n",
       "      <td>1</td>\n",
       "      <td>0</td>\n",
       "      <td>0</td>\n",
       "      <td>0</td>\n",
       "    </tr>\n",
       "    <tr>\n",
       "      <td>3</td>\n",
       "      <td>9</td>\n",
       "      <td>80.62</td>\n",
       "      <td>az</td>\n",
       "      <td>t</td>\n",
       "      <td>n</td>\n",
       "      <td>f</td>\n",
       "      <td>d</td>\n",
       "      <td>x</td>\n",
       "      <td>l</td>\n",
       "      <td>e</td>\n",
       "      <td>...</td>\n",
       "      <td>0</td>\n",
       "      <td>0</td>\n",
       "      <td>0</td>\n",
       "      <td>0</td>\n",
       "      <td>0</td>\n",
       "      <td>0</td>\n",
       "      <td>0</td>\n",
       "      <td>0</td>\n",
       "      <td>0</td>\n",
       "      <td>0</td>\n",
       "    </tr>\n",
       "    <tr>\n",
       "      <td>4</td>\n",
       "      <td>13</td>\n",
       "      <td>78.02</td>\n",
       "      <td>az</td>\n",
       "      <td>v</td>\n",
       "      <td>n</td>\n",
       "      <td>f</td>\n",
       "      <td>d</td>\n",
       "      <td>h</td>\n",
       "      <td>d</td>\n",
       "      <td>n</td>\n",
       "      <td>...</td>\n",
       "      <td>0</td>\n",
       "      <td>0</td>\n",
       "      <td>0</td>\n",
       "      <td>0</td>\n",
       "      <td>0</td>\n",
       "      <td>0</td>\n",
       "      <td>0</td>\n",
       "      <td>0</td>\n",
       "      <td>0</td>\n",
       "      <td>0</td>\n",
       "    </tr>\n",
       "  </tbody>\n",
       "</table>\n",
       "<p>5 rows × 378 columns</p>\n",
       "</div>"
      ],
      "text/plain": [
       "   ID       y  X0 X1  X2 X3 X4 X5 X6 X8  ...  X375  X376  X377  X378  X379  \\\n",
       "0   0  130.81   k  v  at  a  d  u  j  o  ...     0     0     1     0     0   \n",
       "1   6   88.53   k  t  av  e  d  y  l  o  ...     1     0     0     0     0   \n",
       "2   7   76.26  az  w   n  c  d  x  j  x  ...     0     0     0     0     0   \n",
       "3   9   80.62  az  t   n  f  d  x  l  e  ...     0     0     0     0     0   \n",
       "4  13   78.02  az  v   n  f  d  h  d  n  ...     0     0     0     0     0   \n",
       "\n",
       "   X380  X382  X383  X384  X385  \n",
       "0     0     0     0     0     0  \n",
       "1     0     0     0     0     0  \n",
       "2     0     1     0     0     0  \n",
       "3     0     0     0     0     0  \n",
       "4     0     0     0     0     0  \n",
       "\n",
       "[5 rows x 378 columns]"
      ]
     },
     "execution_count": 2,
     "metadata": {},
     "output_type": "execute_result"
    }
   ],
   "source": [
    "df_train = pd.read_csv('https://raw.githubusercontent.com/nadiinchi/hse_cs_ml_course_2017_FTAD/master/materials/train.csv')\n",
    "print('Size of training set: {} rows and {} columns'.format(*df_train.shape))\n",
    "df_train.head()"
   ]
  },
  {
   "cell_type": "markdown",
   "metadata": {},
   "source": [
    "Распределение целевого признака:"
   ]
  },
  {
   "cell_type": "code",
   "execution_count": 3,
   "metadata": {
    "_cell_guid": "8aa66a00-591c-7cff-cc88-051bfcaa40c5"
   },
   "outputs": [
    {
     "name": "stdout",
     "output_type": "stream",
     "text": [
      "min: 72.11 max: 265.32 mean: 100.66931812782134 std: 12.6778749695168\n",
      "Count of values above 180: 1\n"
     ]
    },
    {
     "data": {
      "image/png": "[encoded data removed]",
      "text/plain": [
       "<Figure size 1080x360 with 1 Axes>"
      ]
     },
     "metadata": {
      "needs_background": "light"
     },
     "output_type": "display_data"
    }
   ],
   "source": [
    "y_train = df_train['y'].values\n",
    "plt.figure(figsize=(15, 5))\n",
    "plt.hist(y_train, bins=20)\n",
    "plt.xlabel('Target value in seconds')\n",
    "plt.ylabel('Occurences')\n",
    "plt.title('Distribution of the target value')\n",
    "\n",
    "print('min: {} max: {} mean: {} std: {}'.format(min(y_train), max(y_train), y_train.mean(), y_train.std()))\n",
    "print('Count of values above 180: {}'.format(np.sum(y_train > 200)))"
   ]
  },
  {
   "cell_type": "markdown",
   "metadata": {},
   "source": [
    "Число признаков и объектов:"
   ]
  },
  {
   "cell_type": "code",
   "execution_count": 4,
   "metadata": {
    "_cell_guid": "85c914e4-162a-e3be-ec91-1e687b8222e2"
   },
   "outputs": [
    {
     "name": "stdout",
     "output_type": "stream",
     "text": [
      "Number of features: 376\n",
      "Feature types:\n"
     ]
    },
    {
     "data": {
      "text/plain": [
       "int64     368\n",
       "object      8\n",
       "dtype: int64"
      ]
     },
     "execution_count": 4,
     "metadata": {},
     "output_type": "execute_result"
    }
   ],
   "source": [
    "cols = [c for c in df_train.columns if 'X' in c]\n",
    "print('Number of features: {}'.format(len(cols)))\n",
    "\n",
    "print('Feature types:')\n",
    "df_train[cols].dtypes.value_counts()"
   ]
  },
  {
   "cell_type": "markdown",
   "metadata": {},
   "source": [
    "Приведение данных к вещественному виду:"
   ]
  },
  {
   "cell_type": "code",
   "execution_count": 5,
   "metadata": {},
   "outputs": [
    {
     "name": "stderr",
     "output_type": "stream",
     "text": [
      "/Users/vasilisavashenko/opt/anaconda3/lib/python3.7/site-packages/pandas/core/frame.py:4102: SettingWithCopyWarning: \n",
      "A value is trying to be set on a copy of a slice from a DataFrame\n",
      "\n",
      "See the caveats in the documentation: http://pandas.pydata.org/pandas-docs/stable/user_guide/indexing.html#returning-a-view-versus-a-copy\n",
      "  errors=errors,\n",
      "/Users/vasilisavashenko/opt/anaconda3/lib/python3.7/site-packages/ipykernel_launcher.py:10: SettingWithCopyWarning: \n",
      "A value is trying to be set on a copy of a slice from a DataFrame.\n",
      "Try using .loc[row_indexer,col_indexer] = value instead\n",
      "\n",
      "See the caveats in the documentation: http://pandas.pydata.org/pandas-docs/stable/user_guide/indexing.html#returning-a-view-versus-a-copy\n",
      "  # Remove the CWD from sys.path while we load stuff.\n"
     ]
    },
    {
     "data": {
      "text/html": [
       "<div>\n",
       "<style scoped>\n",
       "    .dataframe tbody tr th:only-of-type {\n",
       "        vertical-align: middle;\n",
       "    }\n",
       "\n",
       "    .dataframe tbody tr th {\n",
       "        vertical-align: top;\n",
       "    }\n",
       "\n",
       "    .dataframe thead th {\n",
       "        text-align: right;\n",
       "    }\n",
       "</style>\n",
       "<table border=\"1\" class=\"dataframe\">\n",
       "  <thead>\n",
       "    <tr style=\"text-align: right;\">\n",
       "      <th></th>\n",
       "      <th>X252</th>\n",
       "      <th>X87</th>\n",
       "      <th>X304</th>\n",
       "      <th>X229</th>\n",
       "      <th>X255</th>\n",
       "      <th>X346</th>\n",
       "      <th>X308</th>\n",
       "      <th>X96</th>\n",
       "      <th>X209</th>\n",
       "      <th>X94</th>\n",
       "      <th>...</th>\n",
       "      <th>X368</th>\n",
       "      <th>X249</th>\n",
       "      <th>X345</th>\n",
       "      <th>X60</th>\n",
       "      <th>X318</th>\n",
       "      <th>X228</th>\n",
       "      <th>X164</th>\n",
       "      <th>X281</th>\n",
       "      <th>X66</th>\n",
       "      <th>X29</th>\n",
       "    </tr>\n",
       "  </thead>\n",
       "  <tbody>\n",
       "    <tr>\n",
       "      <td>0</td>\n",
       "      <td>0</td>\n",
       "      <td>0</td>\n",
       "      <td>0</td>\n",
       "      <td>0</td>\n",
       "      <td>0</td>\n",
       "      <td>0</td>\n",
       "      <td>0</td>\n",
       "      <td>0</td>\n",
       "      <td>1</td>\n",
       "      <td>0</td>\n",
       "      <td>...</td>\n",
       "      <td>0</td>\n",
       "      <td>0</td>\n",
       "      <td>0</td>\n",
       "      <td>0</td>\n",
       "      <td>0</td>\n",
       "      <td>0</td>\n",
       "      <td>0</td>\n",
       "      <td>0</td>\n",
       "      <td>0</td>\n",
       "      <td>0</td>\n",
       "    </tr>\n",
       "    <tr>\n",
       "      <td>1</td>\n",
       "      <td>0</td>\n",
       "      <td>0</td>\n",
       "      <td>1</td>\n",
       "      <td>1</td>\n",
       "      <td>0</td>\n",
       "      <td>0</td>\n",
       "      <td>0</td>\n",
       "      <td>1</td>\n",
       "      <td>1</td>\n",
       "      <td>0</td>\n",
       "      <td>...</td>\n",
       "      <td>0</td>\n",
       "      <td>0</td>\n",
       "      <td>0</td>\n",
       "      <td>0</td>\n",
       "      <td>0</td>\n",
       "      <td>0</td>\n",
       "      <td>0</td>\n",
       "      <td>0</td>\n",
       "      <td>0</td>\n",
       "      <td>0</td>\n",
       "    </tr>\n",
       "    <tr>\n",
       "      <td>2</td>\n",
       "      <td>1</td>\n",
       "      <td>0</td>\n",
       "      <td>1</td>\n",
       "      <td>0</td>\n",
       "      <td>0</td>\n",
       "      <td>0</td>\n",
       "      <td>0</td>\n",
       "      <td>1</td>\n",
       "      <td>1</td>\n",
       "      <td>0</td>\n",
       "      <td>...</td>\n",
       "      <td>0</td>\n",
       "      <td>0</td>\n",
       "      <td>0</td>\n",
       "      <td>0</td>\n",
       "      <td>0</td>\n",
       "      <td>1</td>\n",
       "      <td>0</td>\n",
       "      <td>0</td>\n",
       "      <td>0</td>\n",
       "      <td>1</td>\n",
       "    </tr>\n",
       "    <tr>\n",
       "      <td>3</td>\n",
       "      <td>1</td>\n",
       "      <td>0</td>\n",
       "      <td>1</td>\n",
       "      <td>1</td>\n",
       "      <td>0</td>\n",
       "      <td>0</td>\n",
       "      <td>0</td>\n",
       "      <td>1</td>\n",
       "      <td>1</td>\n",
       "      <td>0</td>\n",
       "      <td>...</td>\n",
       "      <td>0</td>\n",
       "      <td>0</td>\n",
       "      <td>0</td>\n",
       "      <td>0</td>\n",
       "      <td>0</td>\n",
       "      <td>0</td>\n",
       "      <td>0</td>\n",
       "      <td>0</td>\n",
       "      <td>0</td>\n",
       "      <td>1</td>\n",
       "    </tr>\n",
       "    <tr>\n",
       "      <td>4</td>\n",
       "      <td>1</td>\n",
       "      <td>0</td>\n",
       "      <td>1</td>\n",
       "      <td>1</td>\n",
       "      <td>0</td>\n",
       "      <td>0</td>\n",
       "      <td>0</td>\n",
       "      <td>1</td>\n",
       "      <td>1</td>\n",
       "      <td>0</td>\n",
       "      <td>...</td>\n",
       "      <td>0</td>\n",
       "      <td>0</td>\n",
       "      <td>0</td>\n",
       "      <td>0</td>\n",
       "      <td>0</td>\n",
       "      <td>0</td>\n",
       "      <td>0</td>\n",
       "      <td>0</td>\n",
       "      <td>0</td>\n",
       "      <td>1</td>\n",
       "    </tr>\n",
       "  </tbody>\n",
       "</table>\n",
       "<p>5 rows × 364 columns</p>\n",
       "</div>"
      ],
      "text/plain": [
       "   X252  X87  X304  X229  X255  X346  X308  X96  X209  X94  ...  X368  X249  \\\n",
       "0     0    0     0     0     0     0     0    0     1    0  ...     0     0   \n",
       "1     0    0     1     1     0     0     0    1     1    0  ...     0     0   \n",
       "2     1    0     1     0     0     0     0    1     1    0  ...     0     0   \n",
       "3     1    0     1     1     0     0     0    1     1    0  ...     0     0   \n",
       "4     1    0     1     1     0     0     0    1     1    0  ...     0     0   \n",
       "\n",
       "   X345  X60  X318  X228  X164  X281  X66  X29  \n",
       "0     0    0     0     0     0     0    0    0  \n",
       "1     0    0     0     0     0     0    0    0  \n",
       "2     0    0     0     1     0     0    0    1  \n",
       "3     0    0     0     0     0     0    0    1  \n",
       "4     0    0     0     0     0     0    0    1  \n",
       "\n",
       "[5 rows x 364 columns]"
      ]
     },
     "execution_count": 5,
     "metadata": {},
     "output_type": "execute_result"
    }
   ],
   "source": [
    "usable_columns = list(set(df_train.columns) - set(['ID', 'y']))\n",
    "y_train = df_train['y'].values\n",
    "x_train = df_train[usable_columns]\n",
    "for column in usable_columns:\n",
    "    cardinality = len(np.unique(x_train[column]))\n",
    "    if cardinality == 1:\n",
    "        x_train.drop(column, axis=1, inplace = True) # Column with only one value is useless so we drop it\n",
    "    if cardinality > 2: # Column is categorical\n",
    "        mapper = lambda x: sum([ord(digit) for digit in x])\n",
    "        x_train[column] = x_train[column].apply(mapper)\n",
    "        \n",
    "x_train.head()"
   ]
  },
  {
   "cell_type": "markdown",
   "metadata": {},
   "source": [
    "## Разделение данных\n",
    "Разделим данные на три части. Первую будем использовать для настройки случайного леса и градиентного бустинга, вторую - для настройки композиции, третью - для итогового контроля."
   ]
  },
  {
   "cell_type": "code",
   "execution_count": 6,
   "metadata": {},
   "outputs": [
    {
     "data": {
      "text/plain": [
       "((4209, 364), (4209,))"
      ]
     },
     "execution_count": 6,
     "metadata": {},
     "output_type": "execute_result"
    }
   ],
   "source": [
    "x_train.shape, y_train.shape"
   ]
  },
  {
   "cell_type": "code",
   "execution_count": 7,
   "metadata": {},
   "outputs": [],
   "source": [
    "from sklearn.utils import shuffle"
   ]
  },
  {
   "cell_type": "code",
   "execution_count": 8,
   "metadata": {},
   "outputs": [],
   "source": [
    "x_train, y_train = shuffle(x_train, y_train, random_state=1)"
   ]
  },
  {
   "cell_type": "code",
   "execution_count": 9,
   "metadata": {
    "scrolled": true
   },
   "outputs": [
    {
     "data": {
      "text/plain": [
       "((2000, 364), (2000,))"
      ]
     },
     "execution_count": 9,
     "metadata": {},
     "output_type": "execute_result"
    }
   ],
   "source": [
    "x1, y1 = x_train[:2000], y_train[:2000]\n",
    "x1.shape, y1.shape"
   ]
  },
  {
   "cell_type": "code",
   "execution_count": 10,
   "metadata": {},
   "outputs": [
    {
     "data": {
      "text/plain": [
       "((1000, 364), (1000,))"
      ]
     },
     "execution_count": 10,
     "metadata": {},
     "output_type": "execute_result"
    }
   ],
   "source": [
    "x2, y2 = x_train[2000:3000], y_train[2000:3000]\n",
    "x2.shape, y2.shape"
   ]
  },
  {
   "cell_type": "code",
   "execution_count": 11,
   "metadata": {},
   "outputs": [
    {
     "data": {
      "text/plain": [
       "((1209, 364), (1209,))"
      ]
     },
     "execution_count": 11,
     "metadata": {},
     "output_type": "execute_result"
    }
   ],
   "source": [
    "x3, y3 = x_train[3000:], y_train[3000:]\n",
    "x3.shape, y3.shape"
   ]
  },
  {
   "cell_type": "markdown",
   "metadata": {},
   "source": [
    "## Настройка моделей"
   ]
  },
  {
   "cell_type": "code",
   "execution_count": 12,
   "metadata": {},
   "outputs": [],
   "source": [
    "from sklearn.ensemble import RandomForestRegressor, GradientBoostingRegressor\n",
    "from sklearn.metrics import r2_score, make_scorer\n",
    "from sklearn.model_selection import GridSearchCV"
   ]
  },
  {
   "cell_type": "markdown",
   "metadata": {},
   "source": [
    "### Random Forest - подбор гиперпараметров"
   ]
  },
  {
   "cell_type": "code",
   "execution_count": 13,
   "metadata": {},
   "outputs": [],
   "source": [
    "param_grid = {\"n_estimators\":2**np.arange(10)} #  логарифмическая шкала\n",
    "gs = GridSearchCV(RandomForestRegressor(random_state=1, warm_start=True), param_grid, make_scorer(r2_score), verbose=3)"
   ]
  },
  {
   "cell_type": "code",
   "execution_count": 14,
   "metadata": {
    "scrolled": true
   },
   "outputs": [
    {
     "name": "stderr",
     "output_type": "stream",
     "text": [
      "/Users/vasilisavashenko/opt/anaconda3/lib/python3.7/site-packages/sklearn/model_selection/_split.py:1978: FutureWarning: The default value of cv will change from 3 to 5 in version 0.22. Specify it explicitly to silence this warning.\n",
      "  warnings.warn(CV_WARNING, FutureWarning)\n",
      "[Parallel(n_jobs=1)]: Using backend SequentialBackend with 1 concurrent workers.\n",
      "[Parallel(n_jobs=1)]: Done   1 out of   1 | elapsed:    0.1s remaining:    0.0s\n",
      "[Parallel(n_jobs=1)]: Done   2 out of   2 | elapsed:    0.1s remaining:    0.0s\n"
     ]
    },
    {
     "name": "stdout",
     "output_type": "stream",
     "text": [
      "Fitting 3 folds for each of 10 candidates, totalling 30 fits\n",
      "[CV] n_estimators=1 ..................................................\n",
      "[CV] ..................... n_estimators=1, score=-0.415, total=   0.1s\n",
      "[CV] n_estimators=1 ..................................................\n",
      "[CV] ..................... n_estimators=1, score=-1.374, total=   0.1s\n",
      "[CV] n_estimators=1 ..................................................\n",
      "[CV] ..................... n_estimators=1, score=-0.043, total=   0.1s\n",
      "[CV] n_estimators=2 ..................................................\n",
      "[CV] ..................... n_estimators=2, score=-0.010, total=   0.1s\n",
      "[CV] n_estimators=2 ..................................................\n",
      "[CV] ..................... n_estimators=2, score=-0.270, total=   0.1s\n",
      "[CV] n_estimators=2 ..................................................\n",
      "[CV] ...................... n_estimators=2, score=0.158, total=   0.1s\n",
      "[CV] n_estimators=4 ..................................................\n",
      "[CV] ...................... n_estimators=4, score=0.300, total=   0.1s\n",
      "[CV] n_estimators=4 ..................................................\n",
      "[CV] ...................... n_estimators=4, score=0.270, total=   0.2s\n",
      "[CV] n_estimators=4 ..................................................\n",
      "[CV] ...................... n_estimators=4, score=0.263, total=   0.2s\n",
      "[CV] n_estimators=8 ..................................................\n",
      "[CV] ...................... n_estimators=8, score=0.446, total=   0.3s\n",
      "[CV] n_estimators=8 ..................................................\n",
      "[CV] ...................... n_estimators=8, score=0.425, total=   0.2s\n",
      "[CV] n_estimators=8 ..................................................\n",
      "[CV] ...................... n_estimators=8, score=0.336, total=   0.2s\n",
      "[CV] n_estimators=16 .................................................\n",
      "[CV] ..................... n_estimators=16, score=0.478, total=   0.6s\n",
      "[CV] n_estimators=16 .................................................\n",
      "[CV] ..................... n_estimators=16, score=0.483, total=   0.5s\n",
      "[CV] n_estimators=16 .................................................\n",
      "[CV] ..................... n_estimators=16, score=0.354, total=   0.6s\n",
      "[CV] n_estimators=32 .................................................\n",
      "[CV] ..................... n_estimators=32, score=0.487, total=   1.1s\n",
      "[CV] n_estimators=32 .................................................\n",
      "[CV] ..................... n_estimators=32, score=0.533, total=   0.9s\n",
      "[CV] n_estimators=32 .................................................\n",
      "[CV] ..................... n_estimators=32, score=0.368, total=   1.0s\n",
      "[CV] n_estimators=64 .................................................\n",
      "[CV] ..................... n_estimators=64, score=0.500, total=   2.2s\n",
      "[CV] n_estimators=64 .................................................\n",
      "[CV] ..................... n_estimators=64, score=0.556, total=   2.1s\n",
      "[CV] n_estimators=64 .................................................\n",
      "[CV] ..................... n_estimators=64, score=0.371, total=   1.5s\n",
      "[CV] n_estimators=128 ................................................\n",
      "[CV] .................... n_estimators=128, score=0.508, total=   3.9s\n",
      "[CV] n_estimators=128 ................................................\n",
      "[CV] .................... n_estimators=128, score=0.563, total=   3.6s\n",
      "[CV] n_estimators=128 ................................................\n",
      "[CV] .................... n_estimators=128, score=0.379, total=   3.1s\n",
      "[CV] n_estimators=256 ................................................\n",
      "[CV] .................... n_estimators=256, score=0.501, total=   6.2s\n",
      "[CV] n_estimators=256 ................................................\n",
      "[CV] .................... n_estimators=256, score=0.564, total=   6.4s\n",
      "[CV] n_estimators=256 ................................................\n",
      "[CV] .................... n_estimators=256, score=0.376, total=   6.6s\n",
      "[CV] n_estimators=512 ................................................\n",
      "[CV] .................... n_estimators=512, score=0.509, total=  14.7s\n",
      "[CV] n_estimators=512 ................................................\n",
      "[CV] .................... n_estimators=512, score=0.561, total=  13.7s\n",
      "[CV] n_estimators=512 ................................................\n",
      "[CV] .................... n_estimators=512, score=0.377, total=  14.0s\n"
     ]
    },
    {
     "name": "stderr",
     "output_type": "stream",
     "text": [
      "[Parallel(n_jobs=1)]: Done  30 out of  30 | elapsed:  1.4min finished\n",
      "/Users/vasilisavashenko/opt/anaconda3/lib/python3.7/site-packages/sklearn/model_selection/_search.py:814: DeprecationWarning: The default of the `iid` parameter will change from True to False in version 0.22 and will be removed in 0.24. This will change numeric results when test-set sizes are unequal.\n",
      "  DeprecationWarning)\n"
     ]
    },
    {
     "data": {
      "text/plain": [
       "GridSearchCV(cv='warn', error_score='raise-deprecating',\n",
       "             estimator=RandomForestRegressor(bootstrap=True, criterion='mse',\n",
       "                                             max_depth=None,\n",
       "                                             max_features='auto',\n",
       "                                             max_leaf_nodes=None,\n",
       "                                             min_impurity_decrease=0.0,\n",
       "                                             min_impurity_split=None,\n",
       "                                             min_samples_leaf=1,\n",
       "                                             min_samples_split=2,\n",
       "                                             min_weight_fraction_leaf=0.0,\n",
       "                                             n_estimators='warn', n_jobs=None,\n",
       "                                             oob_score=False, random_state=1,\n",
       "                                             verbose=0, warm_start=True),\n",
       "             iid='warn', n_jobs=None,\n",
       "             param_grid={'n_estimators': array([  1,   2,   4,   8,  16,  32,  64, 128, 256, 512])},\n",
       "             pre_dispatch='2*n_jobs', refit=True, return_train_score=False,\n",
       "             scoring=make_scorer(r2_score), verbose=3)"
      ]
     },
     "execution_count": 14,
     "metadata": {},
     "output_type": "execute_result"
    }
   ],
   "source": [
    "gs.fit(x1, y1)"
   ]
  },
  {
   "cell_type": "code",
   "execution_count": 15,
   "metadata": {},
   "outputs": [
    {
     "data": {
      "text/plain": [
       "Text(0, 0.5, 'R2')"
      ]
     },
     "execution_count": 15,
     "metadata": {},
     "output_type": "execute_result"
    },
    {
     "data": {
      "image/png": "[encoded data removed]",
      "text/plain": [
       "<Figure size 432x288 with 1 Axes>"
      ]
     },
     "metadata": {
      "needs_background": "light"
     },
     "output_type": "display_data"
    }
   ],
   "source": [
    "plt.plot((param_grid[\"n_estimators\"]), gs.cv_results_['mean_test_score'])\n",
    "plt.xscale(\"log\")\n",
    "plt.xlabel(\"n_estimators\")\n",
    "plt.ylabel(\"R2\")"
   ]
  },
  {
   "cell_type": "markdown",
   "metadata": {},
   "source": [
    "Качество, как и ожидается, растет с увеличением числа базовых алгоритмов. Для валидации выберем 100 деревьев (быстро обучается и уже приналежит области стабильности качества), финальную модель будем обучать с 500 деревьями."
   ]
  },
  {
   "cell_type": "code",
   "execution_count": 16,
   "metadata": {},
   "outputs": [],
   "source": [
    "#Для случайного леса самый важный гиперпараметр - max_features, потому что он влияет на то, насколько различными будут деревья. \n",
    "# После настройки max_features подбираются остальные гиперпараметры.\n",
    "\n",
    "# базовая логарифмическая шкала для max_features\n",
    "param_grid2 = {\"max_features\":2**np.arange(1, 9)}"
   ]
  },
  {
   "cell_type": "code",
   "execution_count": 17,
   "metadata": {},
   "outputs": [],
   "source": [
    "gs2 = GridSearchCV(RandomForestRegressor(random_state=1,warm_start=True), param_grid2, make_scorer(r2_score), verbose=3)"
   ]
  },
  {
   "cell_type": "code",
   "execution_count": 18,
   "metadata": {},
   "outputs": [
    {
     "name": "stderr",
     "output_type": "stream",
     "text": [
      "/Users/vasilisavashenko/opt/anaconda3/lib/python3.7/site-packages/sklearn/model_selection/_split.py:1978: FutureWarning: The default value of cv will change from 3 to 5 in version 0.22. Specify it explicitly to silence this warning.\n",
      "  warnings.warn(CV_WARNING, FutureWarning)\n",
      "[Parallel(n_jobs=1)]: Using backend SequentialBackend with 1 concurrent workers.\n",
      "/Users/vasilisavashenko/opt/anaconda3/lib/python3.7/site-packages/sklearn/ensemble/forest.py:245: FutureWarning: The default value of n_estimators will change from 10 in version 0.20 to 100 in 0.22.\n",
      "  \"10 in version 0.20 to 100 in 0.22.\", FutureWarning)\n",
      "[Parallel(n_jobs=1)]: Done   1 out of   1 | elapsed:    0.1s remaining:    0.0s\n",
      "/Users/vasilisavashenko/opt/anaconda3/lib/python3.7/site-packages/sklearn/ensemble/forest.py:245: FutureWarning: The default value of n_estimators will change from 10 in version 0.20 to 100 in 0.22.\n",
      "  \"10 in version 0.20 to 100 in 0.22.\", FutureWarning)\n",
      "[Parallel(n_jobs=1)]: Done   2 out of   2 | elapsed:    0.1s remaining:    0.0s\n",
      "/Users/vasilisavashenko/opt/anaconda3/lib/python3.7/site-packages/sklearn/ensemble/forest.py:245: FutureWarning: The default value of n_estimators will change from 10 in version 0.20 to 100 in 0.22.\n",
      "  \"10 in version 0.20 to 100 in 0.22.\", FutureWarning)\n",
      "/Users/vasilisavashenko/opt/anaconda3/lib/python3.7/site-packages/sklearn/ensemble/forest.py:245: FutureWarning: The default value of n_estimators will change from 10 in version 0.20 to 100 in 0.22.\n",
      "  \"10 in version 0.20 to 100 in 0.22.\", FutureWarning)\n"
     ]
    },
    {
     "name": "stdout",
     "output_type": "stream",
     "text": [
      "Fitting 3 folds for each of 8 candidates, totalling 24 fits\n",
      "[CV] max_features=2 ..................................................\n",
      "[CV] ...................... max_features=2, score=0.403, total=   0.1s\n",
      "[CV] max_features=2 ..................................................\n",
      "[CV] ...................... max_features=2, score=0.487, total=   0.0s\n",
      "[CV] max_features=2 ..................................................\n",
      "[CV] ...................... max_features=2, score=0.267, total=   0.0s\n",
      "[CV] max_features=4 ..................................................\n",
      "[CV] ...................... max_features=4, score=0.422, total=   0.0s\n",
      "[CV] max_features=4 ..................................................\n"
     ]
    },
    {
     "name": "stderr",
     "output_type": "stream",
     "text": [
      "/Users/vasilisavashenko/opt/anaconda3/lib/python3.7/site-packages/sklearn/ensemble/forest.py:245: FutureWarning: The default value of n_estimators will change from 10 in version 0.20 to 100 in 0.22.\n",
      "  \"10 in version 0.20 to 100 in 0.22.\", FutureWarning)\n",
      "/Users/vasilisavashenko/opt/anaconda3/lib/python3.7/site-packages/sklearn/ensemble/forest.py:245: FutureWarning: The default value of n_estimators will change from 10 in version 0.20 to 100 in 0.22.\n",
      "  \"10 in version 0.20 to 100 in 0.22.\", FutureWarning)\n",
      "/Users/vasilisavashenko/opt/anaconda3/lib/python3.7/site-packages/sklearn/ensemble/forest.py:245: FutureWarning: The default value of n_estimators will change from 10 in version 0.20 to 100 in 0.22.\n",
      "  \"10 in version 0.20 to 100 in 0.22.\", FutureWarning)\n",
      "/Users/vasilisavashenko/opt/anaconda3/lib/python3.7/site-packages/sklearn/ensemble/forest.py:245: FutureWarning: The default value of n_estimators will change from 10 in version 0.20 to 100 in 0.22.\n",
      "  \"10 in version 0.20 to 100 in 0.22.\", FutureWarning)\n"
     ]
    },
    {
     "name": "stdout",
     "output_type": "stream",
     "text": [
      "[CV] ...................... max_features=4, score=0.492, total=   0.1s\n",
      "[CV] max_features=4 ..................................................\n",
      "[CV] ...................... max_features=4, score=0.288, total=   0.1s\n",
      "[CV] max_features=8 ..................................................\n",
      "[CV] ...................... max_features=8, score=0.469, total=   0.0s\n",
      "[CV] max_features=8 ..................................................\n",
      "[CV] ...................... max_features=8, score=0.521, total=   0.0s\n",
      "[CV] max_features=8 ..................................................\n"
     ]
    },
    {
     "name": "stderr",
     "output_type": "stream",
     "text": [
      "/Users/vasilisavashenko/opt/anaconda3/lib/python3.7/site-packages/sklearn/ensemble/forest.py:245: FutureWarning: The default value of n_estimators will change from 10 in version 0.20 to 100 in 0.22.\n",
      "  \"10 in version 0.20 to 100 in 0.22.\", FutureWarning)\n",
      "/Users/vasilisavashenko/opt/anaconda3/lib/python3.7/site-packages/sklearn/ensemble/forest.py:245: FutureWarning: The default value of n_estimators will change from 10 in version 0.20 to 100 in 0.22.\n",
      "  \"10 in version 0.20 to 100 in 0.22.\", FutureWarning)\n",
      "/Users/vasilisavashenko/opt/anaconda3/lib/python3.7/site-packages/sklearn/ensemble/forest.py:245: FutureWarning: The default value of n_estimators will change from 10 in version 0.20 to 100 in 0.22.\n",
      "  \"10 in version 0.20 to 100 in 0.22.\", FutureWarning)\n",
      "/Users/vasilisavashenko/opt/anaconda3/lib/python3.7/site-packages/sklearn/ensemble/forest.py:245: FutureWarning: The default value of n_estimators will change from 10 in version 0.20 to 100 in 0.22.\n",
      "  \"10 in version 0.20 to 100 in 0.22.\", FutureWarning)\n"
     ]
    },
    {
     "name": "stdout",
     "output_type": "stream",
     "text": [
      "[CV] ...................... max_features=8, score=0.295, total=   0.1s\n",
      "[CV] max_features=16 .................................................\n",
      "[CV] ..................... max_features=16, score=0.466, total=   0.1s\n",
      "[CV] max_features=16 .................................................\n",
      "[CV] ..................... max_features=16, score=0.508, total=   0.1s\n",
      "[CV] max_features=16 .................................................\n",
      "[CV] ..................... max_features=16, score=0.342, total=   0.1s\n",
      "[CV] max_features=32 .................................................\n"
     ]
    },
    {
     "name": "stderr",
     "output_type": "stream",
     "text": [
      "/Users/vasilisavashenko/opt/anaconda3/lib/python3.7/site-packages/sklearn/ensemble/forest.py:245: FutureWarning: The default value of n_estimators will change from 10 in version 0.20 to 100 in 0.22.\n",
      "  \"10 in version 0.20 to 100 in 0.22.\", FutureWarning)\n",
      "/Users/vasilisavashenko/opt/anaconda3/lib/python3.7/site-packages/sklearn/ensemble/forest.py:245: FutureWarning: The default value of n_estimators will change from 10 in version 0.20 to 100 in 0.22.\n",
      "  \"10 in version 0.20 to 100 in 0.22.\", FutureWarning)\n",
      "/Users/vasilisavashenko/opt/anaconda3/lib/python3.7/site-packages/sklearn/ensemble/forest.py:245: FutureWarning: The default value of n_estimators will change from 10 in version 0.20 to 100 in 0.22.\n",
      "  \"10 in version 0.20 to 100 in 0.22.\", FutureWarning)\n",
      "/Users/vasilisavashenko/opt/anaconda3/lib/python3.7/site-packages/sklearn/ensemble/forest.py:245: FutureWarning: The default value of n_estimators will change from 10 in version 0.20 to 100 in 0.22.\n",
      "  \"10 in version 0.20 to 100 in 0.22.\", FutureWarning)\n"
     ]
    },
    {
     "name": "stdout",
     "output_type": "stream",
     "text": [
      "[CV] ..................... max_features=32, score=0.462, total=   0.1s\n",
      "[CV] max_features=32 .................................................\n",
      "[CV] ..................... max_features=32, score=0.573, total=   0.1s\n",
      "[CV] max_features=32 .................................................\n",
      "[CV] ..................... max_features=32, score=0.350, total=   0.1s\n",
      "[CV] max_features=64 .................................................\n",
      "[CV] ..................... max_features=64, score=0.511, total=   0.1s\n",
      "[CV] max_features=64 .................................................\n",
      "[CV] ..................... max_features=64, score=0.544, total=   0.1s\n",
      "[CV] max_features=64 .................................................\n",
      "[CV] ..................... max_features=64, score=0.332, total=   0.1s\n",
      "[CV] max_features=128 ................................................\n"
     ]
    },
    {
     "name": "stderr",
     "output_type": "stream",
     "text": [
      "/Users/vasilisavashenko/opt/anaconda3/lib/python3.7/site-packages/sklearn/ensemble/forest.py:245: FutureWarning: The default value of n_estimators will change from 10 in version 0.20 to 100 in 0.22.\n",
      "  \"10 in version 0.20 to 100 in 0.22.\", FutureWarning)\n",
      "/Users/vasilisavashenko/opt/anaconda3/lib/python3.7/site-packages/sklearn/ensemble/forest.py:245: FutureWarning: The default value of n_estimators will change from 10 in version 0.20 to 100 in 0.22.\n",
      "  \"10 in version 0.20 to 100 in 0.22.\", FutureWarning)\n",
      "/Users/vasilisavashenko/opt/anaconda3/lib/python3.7/site-packages/sklearn/ensemble/forest.py:245: FutureWarning: The default value of n_estimators will change from 10 in version 0.20 to 100 in 0.22.\n",
      "  \"10 in version 0.20 to 100 in 0.22.\", FutureWarning)\n"
     ]
    },
    {
     "name": "stdout",
     "output_type": "stream",
     "text": [
      "[CV] .................... max_features=128, score=0.466, total=   0.1s\n",
      "[CV] max_features=128 ................................................\n",
      "[CV] .................... max_features=128, score=0.517, total=   0.1s\n",
      "[CV] max_features=128 ................................................\n"
     ]
    },
    {
     "name": "stderr",
     "output_type": "stream",
     "text": [
      "/Users/vasilisavashenko/opt/anaconda3/lib/python3.7/site-packages/sklearn/ensemble/forest.py:245: FutureWarning: The default value of n_estimators will change from 10 in version 0.20 to 100 in 0.22.\n",
      "  \"10 in version 0.20 to 100 in 0.22.\", FutureWarning)\n",
      "/Users/vasilisavashenko/opt/anaconda3/lib/python3.7/site-packages/sklearn/ensemble/forest.py:245: FutureWarning: The default value of n_estimators will change from 10 in version 0.20 to 100 in 0.22.\n",
      "  \"10 in version 0.20 to 100 in 0.22.\", FutureWarning)\n"
     ]
    },
    {
     "name": "stdout",
     "output_type": "stream",
     "text": [
      "[CV] .................... max_features=128, score=0.346, total=   0.1s\n",
      "[CV] max_features=256 ................................................\n"
     ]
    },
    {
     "name": "stderr",
     "output_type": "stream",
     "text": [
      "/Users/vasilisavashenko/opt/anaconda3/lib/python3.7/site-packages/sklearn/ensemble/forest.py:245: FutureWarning: The default value of n_estimators will change from 10 in version 0.20 to 100 in 0.22.\n",
      "  \"10 in version 0.20 to 100 in 0.22.\", FutureWarning)\n",
      "/Users/vasilisavashenko/opt/anaconda3/lib/python3.7/site-packages/sklearn/ensemble/forest.py:245: FutureWarning: The default value of n_estimators will change from 10 in version 0.20 to 100 in 0.22.\n",
      "  \"10 in version 0.20 to 100 in 0.22.\", FutureWarning)\n"
     ]
    },
    {
     "name": "stdout",
     "output_type": "stream",
     "text": [
      "[CV] .................... max_features=256, score=0.500, total=   0.2s\n",
      "[CV] max_features=256 ................................................\n",
      "[CV] .................... max_features=256, score=0.529, total=   0.4s\n",
      "[CV] max_features=256 ................................................\n"
     ]
    },
    {
     "name": "stderr",
     "output_type": "stream",
     "text": [
      "/Users/vasilisavashenko/opt/anaconda3/lib/python3.7/site-packages/sklearn/ensemble/forest.py:245: FutureWarning: The default value of n_estimators will change from 10 in version 0.20 to 100 in 0.22.\n",
      "  \"10 in version 0.20 to 100 in 0.22.\", FutureWarning)\n"
     ]
    },
    {
     "name": "stdout",
     "output_type": "stream",
     "text": [
      "[CV] .................... max_features=256, score=0.348, total=   0.3s\n"
     ]
    },
    {
     "name": "stderr",
     "output_type": "stream",
     "text": [
      "[Parallel(n_jobs=1)]: Done  24 out of  24 | elapsed:    2.4s finished\n",
      "/Users/vasilisavashenko/opt/anaconda3/lib/python3.7/site-packages/sklearn/ensemble/forest.py:245: FutureWarning: The default value of n_estimators will change from 10 in version 0.20 to 100 in 0.22.\n",
      "  \"10 in version 0.20 to 100 in 0.22.\", FutureWarning)\n"
     ]
    },
    {
     "data": {
      "text/plain": [
       "GridSearchCV(cv='warn', error_score='raise-deprecating',\n",
       "             estimator=RandomForestRegressor(bootstrap=True, criterion='mse',\n",
       "                                             max_depth=None,\n",
       "                                             max_features='auto',\n",
       "                                             max_leaf_nodes=None,\n",
       "                                             min_impurity_decrease=0.0,\n",
       "                                             min_impurity_split=None,\n",
       "                                             min_samples_leaf=1,\n",
       "                                             min_samples_split=2,\n",
       "                                             min_weight_fraction_leaf=0.0,\n",
       "                                             n_estimators='warn', n_jobs=None,\n",
       "                                             oob_score=False, random_state=1,\n",
       "                                             verbose=0, warm_start=True),\n",
       "             iid='warn', n_jobs=None,\n",
       "             param_grid={'max_features': array([  2,   4,   8,  16,  32,  64, 128, 256])},\n",
       "             pre_dispatch='2*n_jobs', refit=True, return_train_score=False,\n",
       "             scoring=make_scorer(r2_score), verbose=3)"
      ]
     },
     "execution_count": 18,
     "metadata": {},
     "output_type": "execute_result"
    }
   ],
   "source": [
    "gs2.fit(x1,y1)"
   ]
  },
  {
   "cell_type": "code",
   "execution_count": 19,
   "metadata": {},
   "outputs": [
    {
     "data": {
      "text/plain": [
       "Text(0, 0.5, 'R2')"
      ]
     },
     "execution_count": 19,
     "metadata": {},
     "output_type": "execute_result"
    },
    {
     "data": {
      "image/png": "[encoded data removed]",
      "text/plain": [
       "<Figure size 432x288 with 1 Axes>"
      ]
     },
     "metadata": {
      "needs_background": "light"
     },
     "output_type": "display_data"
    }
   ],
   "source": [
    "plt.plot((param_grid2[\"max_features\"]), gs2.cv_results_['mean_test_score'])\n",
    "plt.xscale(\"log\")\n",
    "plt.xlabel(\"max_features\")\n",
    "plt.ylabel(\"R2\")"
   ]
  },
  {
   "cell_type": "code",
   "execution_count": 20,
   "metadata": {},
   "outputs": [
    {
     "data": {
      "text/plain": [
       "{'max_features': 64}"
      ]
     },
     "execution_count": 20,
     "metadata": {},
     "output_type": "execute_result"
    }
   ],
   "source": [
    "gs2.best_params_"
   ]
  },
  {
   "cell_type": "markdown",
   "metadata": {},
   "source": [
    "КОММЕНТАРИЙ: Такая взаимосвязь между количеством переменных и качеством модели была ожидаема. \n",
    "Повышение количества max_features может приводить к снижению качества модели на кросс-валидации в связи с переобучением. Неожиданным на графике можно считать появление \"локотка\". Так, сначала с повышением количества признаков в модели качество улучшается, затем снижается и вновь поднимается.\n",
    "Наилучшее значение качества принимается при значении max_features, равном 64"
   ]
  },
  {
   "cell_type": "code",
   "execution_count": 21,
   "metadata": {},
   "outputs": [],
   "source": [
    "# базовая шкала для остальных гиперпараметров\n",
    "param_grid3 = {\"max_depth\":np.arange(1, 9, 2), \"min_samples_leaf\":[1, 3, 9, 27], \"min_samples_split\":[3, 9, 27, 81]}"
   ]
  },
  {
   "cell_type": "code",
   "execution_count": 24,
   "metadata": {},
   "outputs": [],
   "source": [
    "gs3 = GridSearchCV(RandomForestRegressor(random_state=1, warm_start=True, n_estimators = 100, max_features = 64), param_grid3, make_scorer(r2_score), verbose=3)"
   ]
  },
  {
   "cell_type": "code",
   "execution_count": 25,
   "metadata": {
    "collapsed": true
   },
   "outputs": [
    {
     "name": "stderr",
     "output_type": "stream",
     "text": [
      "/Users/vasilisavashenko/opt/anaconda3/lib/python3.7/site-packages/sklearn/model_selection/_split.py:1978: FutureWarning: The default value of cv will change from 3 to 5 in version 0.22. Specify it explicitly to silence this warning.\n",
      "  warnings.warn(CV_WARNING, FutureWarning)\n",
      "[Parallel(n_jobs=1)]: Using backend SequentialBackend with 1 concurrent workers.\n",
      "[Parallel(n_jobs=1)]: Done   1 out of   1 | elapsed:    0.2s remaining:    0.0s\n"
     ]
    },
    {
     "name": "stdout",
     "output_type": "stream",
     "text": [
      "Fitting 3 folds for each of 64 candidates, totalling 192 fits\n",
      "[CV] max_depth=1, min_samples_leaf=1, min_samples_split=3 ............\n",
      "[CV]  max_depth=1, min_samples_leaf=1, min_samples_split=3, score=0.303, total=   0.2s\n",
      "[CV] max_depth=1, min_samples_leaf=1, min_samples_split=3 ............\n",
      "[CV]  max_depth=1, min_samples_leaf=1, min_samples_split=3, score=0.405, total=   0.1s\n",
      "[CV] max_depth=1, min_samples_leaf=1, min_samples_split=3 ............\n",
      "[CV]  max_depth=1, min_samples_leaf=1, min_samples_split=3, score=0.245, total=   0.1s\n",
      "[CV] max_depth=1, min_samples_leaf=1, min_samples_split=9 ............\n"
     ]
    },
    {
     "name": "stderr",
     "output_type": "stream",
     "text": [
      "[Parallel(n_jobs=1)]: Done   2 out of   2 | elapsed:    0.3s remaining:    0.0s\n"
     ]
    },
    {
     "name": "stdout",
     "output_type": "stream",
     "text": [
      "[CV]  max_depth=1, min_samples_leaf=1, min_samples_split=9, score=0.303, total=   0.2s\n",
      "[CV] max_depth=1, min_samples_leaf=1, min_samples_split=9 ............\n",
      "[CV]  max_depth=1, min_samples_leaf=1, min_samples_split=9, score=0.405, total=   0.2s\n",
      "[CV] max_depth=1, min_samples_leaf=1, min_samples_split=9 ............\n",
      "[CV]  max_depth=1, min_samples_leaf=1, min_samples_split=9, score=0.245, total=   0.1s\n",
      "[CV] max_depth=1, min_samples_leaf=1, min_samples_split=27 ...........\n",
      "[CV]  max_depth=1, min_samples_leaf=1, min_samples_split=27, score=0.303, total=   0.1s\n",
      "[CV] max_depth=1, min_samples_leaf=1, min_samples_split=27 ...........\n",
      "[CV]  max_depth=1, min_samples_leaf=1, min_samples_split=27, score=0.405, total=   0.1s\n",
      "[CV] max_depth=1, min_samples_leaf=1, min_samples_split=27 ...........\n",
      "[CV]  max_depth=1, min_samples_leaf=1, min_samples_split=27, score=0.245, total=   0.1s\n",
      "[CV] max_depth=1, min_samples_leaf=1, min_samples_split=81 ...........\n",
      "[CV]  max_depth=1, min_samples_leaf=1, min_samples_split=81, score=0.303, total=   0.1s\n",
      "[CV] max_depth=1, min_samples_leaf=1, min_samples_split=81 ...........\n",
      "[CV]  max_depth=1, min_samples_leaf=1, min_samples_split=81, score=0.405, total=   0.2s\n",
      "[CV] max_depth=1, min_samples_leaf=1, min_samples_split=81 ...........\n",
      "[CV]  max_depth=1, min_samples_leaf=1, min_samples_split=81, score=0.245, total=   0.2s\n",
      "[CV] max_depth=1, min_samples_leaf=3, min_samples_split=3 ............\n",
      "[CV]  max_depth=1, min_samples_leaf=3, min_samples_split=3, score=0.303, total=   0.1s\n",
      "[CV] max_depth=1, min_samples_leaf=3, min_samples_split=3 ............\n",
      "[CV]  max_depth=1, min_samples_leaf=3, min_samples_split=3, score=0.405, total=   0.1s\n",
      "[CV] max_depth=1, min_samples_leaf=3, min_samples_split=3 ............\n",
      "[CV]  max_depth=1, min_samples_leaf=3, min_samples_split=3, score=0.245, total=   0.1s\n",
      "[CV] max_depth=1, min_samples_leaf=3, min_samples_split=9 ............\n",
      "[CV]  max_depth=1, min_samples_leaf=3, min_samples_split=9, score=0.303, total=   0.1s\n",
      "[CV] max_depth=1, min_samples_leaf=3, min_samples_split=9 ............\n",
      "[CV]  max_depth=1, min_samples_leaf=3, min_samples_split=9, score=0.405, total=   0.1s\n",
      "[CV] max_depth=1, min_samples_leaf=3, min_samples_split=9 ............\n",
      "[CV]  max_depth=1, min_samples_leaf=3, min_samples_split=9, score=0.245, total=   0.1s\n",
      "[CV] max_depth=1, min_samples_leaf=3, min_samples_split=27 ...........\n",
      "[CV]  max_depth=1, min_samples_leaf=3, min_samples_split=27, score=0.303, total=   0.1s\n",
      "[CV] max_depth=1, min_samples_leaf=3, min_samples_split=27 ...........\n",
      "[CV]  max_depth=1, min_samples_leaf=3, min_samples_split=27, score=0.405, total=   0.1s\n",
      "[CV] max_depth=1, min_samples_leaf=3, min_samples_split=27 ...........\n",
      "[CV]  max_depth=1, min_samples_leaf=3, min_samples_split=27, score=0.245, total=   0.1s\n",
      "[CV] max_depth=1, min_samples_leaf=3, min_samples_split=81 ...........\n",
      "[CV]  max_depth=1, min_samples_leaf=3, min_samples_split=81, score=0.303, total=   0.2s\n",
      "[CV] max_depth=1, min_samples_leaf=3, min_samples_split=81 ...........\n",
      "[CV]  max_depth=1, min_samples_leaf=3, min_samples_split=81, score=0.405, total=   0.1s\n",
      "[CV] max_depth=1, min_samples_leaf=3, min_samples_split=81 ...........\n",
      "[CV]  max_depth=1, min_samples_leaf=3, min_samples_split=81, score=0.245, total=   0.1s\n",
      "[CV] max_depth=1, min_samples_leaf=9, min_samples_split=3 ............\n",
      "[CV]  max_depth=1, min_samples_leaf=9, min_samples_split=3, score=0.303, total=   0.1s\n",
      "[CV] max_depth=1, min_samples_leaf=9, min_samples_split=3 ............\n",
      "[CV]  max_depth=1, min_samples_leaf=9, min_samples_split=3, score=0.405, total=   0.1s\n",
      "[CV] max_depth=1, min_samples_leaf=9, min_samples_split=3 ............\n",
      "[CV]  max_depth=1, min_samples_leaf=9, min_samples_split=3, score=0.245, total=   0.1s\n",
      "[CV] max_depth=1, min_samples_leaf=9, min_samples_split=9 ............\n",
      "[CV]  max_depth=1, min_samples_leaf=9, min_samples_split=9, score=0.303, total=   0.1s\n",
      "[CV] max_depth=1, min_samples_leaf=9, min_samples_split=9 ............\n",
      "[CV]  max_depth=1, min_samples_leaf=9, min_samples_split=9, score=0.405, total=   0.1s\n",
      "[CV] max_depth=1, min_samples_leaf=9, min_samples_split=9 ............\n",
      "[CV]  max_depth=1, min_samples_leaf=9, min_samples_split=9, score=0.245, total=   0.1s\n",
      "[CV] max_depth=1, min_samples_leaf=9, min_samples_split=27 ...........\n",
      "[CV]  max_depth=1, min_samples_leaf=9, min_samples_split=27, score=0.303, total=   0.1s\n",
      "[CV] max_depth=1, min_samples_leaf=9, min_samples_split=27 ...........\n",
      "[CV]  max_depth=1, min_samples_leaf=9, min_samples_split=27, score=0.405, total=   0.1s\n",
      "[CV] max_depth=1, min_samples_leaf=9, min_samples_split=27 ...........\n",
      "[CV]  max_depth=1, min_samples_leaf=9, min_samples_split=27, score=0.245, total=   0.1s\n",
      "[CV] max_depth=1, min_samples_leaf=9, min_samples_split=81 ...........\n",
      "[CV]  max_depth=1, min_samples_leaf=9, min_samples_split=81, score=0.303, total=   0.1s\n",
      "[CV] max_depth=1, min_samples_leaf=9, min_samples_split=81 ...........\n",
      "[CV]  max_depth=1, min_samples_leaf=9, min_samples_split=81, score=0.405, total=   0.1s\n",
      "[CV] max_depth=1, min_samples_leaf=9, min_samples_split=81 ...........\n",
      "[CV]  max_depth=1, min_samples_leaf=9, min_samples_split=81, score=0.245, total=   0.1s\n",
      "[CV] max_depth=1, min_samples_leaf=27, min_samples_split=3 ...........\n",
      "[CV]  max_depth=1, min_samples_leaf=27, min_samples_split=3, score=0.303, total=   0.1s\n",
      "[CV] max_depth=1, min_samples_leaf=27, min_samples_split=3 ...........\n",
      "[CV]  max_depth=1, min_samples_leaf=27, min_samples_split=3, score=0.401, total=   0.1s\n",
      "[CV] max_depth=1, min_samples_leaf=27, min_samples_split=3 ...........\n",
      "[CV]  max_depth=1, min_samples_leaf=27, min_samples_split=3, score=0.246, total=   0.1s\n",
      "[CV] max_depth=1, min_samples_leaf=27, min_samples_split=9 ...........\n",
      "[CV]  max_depth=1, min_samples_leaf=27, min_samples_split=9, score=0.303, total=   0.1s\n",
      "[CV] max_depth=1, min_samples_leaf=27, min_samples_split=9 ...........\n",
      "[CV]  max_depth=1, min_samples_leaf=27, min_samples_split=9, score=0.401, total=   0.1s\n",
      "[CV] max_depth=1, min_samples_leaf=27, min_samples_split=9 ...........\n",
      "[CV]  max_depth=1, min_samples_leaf=27, min_samples_split=9, score=0.246, total=   0.1s\n",
      "[CV] max_depth=1, min_samples_leaf=27, min_samples_split=27 ..........\n",
      "[CV]  max_depth=1, min_samples_leaf=27, min_samples_split=27, score=0.303, total=   0.1s\n",
      "[CV] max_depth=1, min_samples_leaf=27, min_samples_split=27 ..........\n",
      "[CV]  max_depth=1, min_samples_leaf=27, min_samples_split=27, score=0.401, total=   0.1s\n",
      "[CV] max_depth=1, min_samples_leaf=27, min_samples_split=27 ..........\n",
      "[CV]  max_depth=1, min_samples_leaf=27, min_samples_split=27, score=0.246, total=   0.1s\n",
      "[CV] max_depth=1, min_samples_leaf=27, min_samples_split=81 ..........\n",
      "[CV]  max_depth=1, min_samples_leaf=27, min_samples_split=81, score=0.303, total=   0.1s\n",
      "[CV] max_depth=1, min_samples_leaf=27, min_samples_split=81 ..........\n",
      "[CV]  max_depth=1, min_samples_leaf=27, min_samples_split=81, score=0.401, total=   0.1s\n",
      "[CV] max_depth=1, min_samples_leaf=27, min_samples_split=81 ..........\n",
      "[CV]  max_depth=1, min_samples_leaf=27, min_samples_split=81, score=0.246, total=   0.1s\n",
      "[CV] max_depth=3, min_samples_leaf=1, min_samples_split=3 ............\n",
      "[CV]  max_depth=3, min_samples_leaf=1, min_samples_split=3, score=0.516, total=   0.2s\n",
      "[CV] max_depth=3, min_samples_leaf=1, min_samples_split=3 ............\n",
      "[CV]  max_depth=3, min_samples_leaf=1, min_samples_split=3, score=0.647, total=   0.2s\n",
      "[CV] max_depth=3, min_samples_leaf=1, min_samples_split=3 ............\n",
      "[CV]  max_depth=3, min_samples_leaf=1, min_samples_split=3, score=0.384, total=   0.2s\n",
      "[CV] max_depth=3, min_samples_leaf=1, min_samples_split=9 ............\n",
      "[CV]  max_depth=3, min_samples_leaf=1, min_samples_split=9, score=0.516, total=   0.2s\n",
      "[CV] max_depth=3, min_samples_leaf=1, min_samples_split=9 ............\n",
      "[CV]  max_depth=3, min_samples_leaf=1, min_samples_split=9, score=0.647, total=   0.2s\n",
      "[CV] max_depth=3, min_samples_leaf=1, min_samples_split=9 ............\n",
      "[CV]  max_depth=3, min_samples_leaf=1, min_samples_split=9, score=0.384, total=   0.2s\n",
      "[CV] max_depth=3, min_samples_leaf=1, min_samples_split=27 ...........\n",
      "[CV]  max_depth=3, min_samples_leaf=1, min_samples_split=27, score=0.517, total=   0.2s\n",
      "[CV] max_depth=3, min_samples_leaf=1, min_samples_split=27 ...........\n"
     ]
    },
    {
     "name": "stdout",
     "output_type": "stream",
     "text": [
      "[CV]  max_depth=3, min_samples_leaf=1, min_samples_split=27, score=0.649, total=   0.2s\n",
      "[CV] max_depth=3, min_samples_leaf=1, min_samples_split=27 ...........\n",
      "[CV]  max_depth=3, min_samples_leaf=1, min_samples_split=27, score=0.385, total=   0.2s\n",
      "[CV] max_depth=3, min_samples_leaf=1, min_samples_split=81 ...........\n",
      "[CV]  max_depth=3, min_samples_leaf=1, min_samples_split=81, score=0.515, total=   0.2s\n",
      "[CV] max_depth=3, min_samples_leaf=1, min_samples_split=81 ...........\n",
      "[CV]  max_depth=3, min_samples_leaf=1, min_samples_split=81, score=0.653, total=   0.2s\n",
      "[CV] max_depth=3, min_samples_leaf=1, min_samples_split=81 ...........\n",
      "[CV]  max_depth=3, min_samples_leaf=1, min_samples_split=81, score=0.384, total=   0.2s\n",
      "[CV] max_depth=3, min_samples_leaf=3, min_samples_split=3 ............\n",
      "[CV]  max_depth=3, min_samples_leaf=3, min_samples_split=3, score=0.517, total=   0.2s\n",
      "[CV] max_depth=3, min_samples_leaf=3, min_samples_split=3 ............\n",
      "[CV]  max_depth=3, min_samples_leaf=3, min_samples_split=3, score=0.647, total=   0.2s\n",
      "[CV] max_depth=3, min_samples_leaf=3, min_samples_split=3 ............\n",
      "[CV]  max_depth=3, min_samples_leaf=3, min_samples_split=3, score=0.384, total=   0.2s\n",
      "[CV] max_depth=3, min_samples_leaf=3, min_samples_split=9 ............\n",
      "[CV]  max_depth=3, min_samples_leaf=3, min_samples_split=9, score=0.517, total=   0.2s\n",
      "[CV] max_depth=3, min_samples_leaf=3, min_samples_split=9 ............\n",
      "[CV]  max_depth=3, min_samples_leaf=3, min_samples_split=9, score=0.647, total=   0.2s\n",
      "[CV] max_depth=3, min_samples_leaf=3, min_samples_split=9 ............\n",
      "[CV]  max_depth=3, min_samples_leaf=3, min_samples_split=9, score=0.384, total=   0.2s\n",
      "[CV] max_depth=3, min_samples_leaf=3, min_samples_split=27 ...........\n",
      "[CV]  max_depth=3, min_samples_leaf=3, min_samples_split=27, score=0.519, total=   0.2s\n",
      "[CV] max_depth=3, min_samples_leaf=3, min_samples_split=27 ...........\n",
      "[CV]  max_depth=3, min_samples_leaf=3, min_samples_split=27, score=0.648, total=   0.2s\n",
      "[CV] max_depth=3, min_samples_leaf=3, min_samples_split=27 ...........\n",
      "[CV]  max_depth=3, min_samples_leaf=3, min_samples_split=27, score=0.385, total=   0.2s\n",
      "[CV] max_depth=3, min_samples_leaf=3, min_samples_split=81 ...........\n",
      "[CV]  max_depth=3, min_samples_leaf=3, min_samples_split=81, score=0.515, total=   0.2s\n",
      "[CV] max_depth=3, min_samples_leaf=3, min_samples_split=81 ...........\n",
      "[CV]  max_depth=3, min_samples_leaf=3, min_samples_split=81, score=0.652, total=   0.2s\n",
      "[CV] max_depth=3, min_samples_leaf=3, min_samples_split=81 ...........\n",
      "[CV]  max_depth=3, min_samples_leaf=3, min_samples_split=81, score=0.383, total=   0.2s\n",
      "[CV] max_depth=3, min_samples_leaf=9, min_samples_split=3 ............\n",
      "[CV]  max_depth=3, min_samples_leaf=9, min_samples_split=3, score=0.517, total=   0.2s\n",
      "[CV] max_depth=3, min_samples_leaf=9, min_samples_split=3 ............\n",
      "[CV]  max_depth=3, min_samples_leaf=9, min_samples_split=3, score=0.650, total=   0.2s\n",
      "[CV] max_depth=3, min_samples_leaf=9, min_samples_split=3 ............\n",
      "[CV]  max_depth=3, min_samples_leaf=9, min_samples_split=3, score=0.384, total=   0.2s\n",
      "[CV] max_depth=3, min_samples_leaf=9, min_samples_split=9 ............\n",
      "[CV]  max_depth=3, min_samples_leaf=9, min_samples_split=9, score=0.517, total=   0.2s\n",
      "[CV] max_depth=3, min_samples_leaf=9, min_samples_split=9 ............\n",
      "[CV]  max_depth=3, min_samples_leaf=9, min_samples_split=9, score=0.650, total=   0.2s\n",
      "[CV] max_depth=3, min_samples_leaf=9, min_samples_split=9 ............\n",
      "[CV]  max_depth=3, min_samples_leaf=9, min_samples_split=9, score=0.384, total=   0.2s\n",
      "[CV] max_depth=3, min_samples_leaf=9, min_samples_split=27 ...........\n",
      "[CV]  max_depth=3, min_samples_leaf=9, min_samples_split=27, score=0.517, total=   0.2s\n",
      "[CV] max_depth=3, min_samples_leaf=9, min_samples_split=27 ...........\n",
      "[CV]  max_depth=3, min_samples_leaf=9, min_samples_split=27, score=0.648, total=   0.2s\n",
      "[CV] max_depth=3, min_samples_leaf=9, min_samples_split=27 ...........\n",
      "[CV]  max_depth=3, min_samples_leaf=9, min_samples_split=27, score=0.385, total=   0.2s\n",
      "[CV] max_depth=3, min_samples_leaf=9, min_samples_split=81 ...........\n",
      "[CV]  max_depth=3, min_samples_leaf=9, min_samples_split=81, score=0.515, total=   0.2s\n",
      "[CV] max_depth=3, min_samples_leaf=9, min_samples_split=81 ...........\n",
      "[CV]  max_depth=3, min_samples_leaf=9, min_samples_split=81, score=0.653, total=   0.2s\n",
      "[CV] max_depth=3, min_samples_leaf=9, min_samples_split=81 ...........\n",
      "[CV]  max_depth=3, min_samples_leaf=9, min_samples_split=81, score=0.382, total=   0.2s\n",
      "[CV] max_depth=3, min_samples_leaf=27, min_samples_split=3 ...........\n",
      "[CV]  max_depth=3, min_samples_leaf=27, min_samples_split=3, score=0.508, total=   0.2s\n",
      "[CV] max_depth=3, min_samples_leaf=27, min_samples_split=3 ...........\n",
      "[CV]  max_depth=3, min_samples_leaf=27, min_samples_split=3, score=0.640, total=   0.2s\n",
      "[CV] max_depth=3, min_samples_leaf=27, min_samples_split=3 ...........\n",
      "[CV]  max_depth=3, min_samples_leaf=27, min_samples_split=3, score=0.378, total=   0.2s\n",
      "[CV] max_depth=3, min_samples_leaf=27, min_samples_split=9 ...........\n",
      "[CV]  max_depth=3, min_samples_leaf=27, min_samples_split=9, score=0.508, total=   0.2s\n",
      "[CV] max_depth=3, min_samples_leaf=27, min_samples_split=9 ...........\n",
      "[CV]  max_depth=3, min_samples_leaf=27, min_samples_split=9, score=0.640, total=   0.2s\n",
      "[CV] max_depth=3, min_samples_leaf=27, min_samples_split=9 ...........\n",
      "[CV]  max_depth=3, min_samples_leaf=27, min_samples_split=9, score=0.378, total=   0.2s\n",
      "[CV] max_depth=3, min_samples_leaf=27, min_samples_split=27 ..........\n",
      "[CV]  max_depth=3, min_samples_leaf=27, min_samples_split=27, score=0.508, total=   0.2s\n",
      "[CV] max_depth=3, min_samples_leaf=27, min_samples_split=27 ..........\n",
      "[CV]  max_depth=3, min_samples_leaf=27, min_samples_split=27, score=0.640, total=   0.2s\n",
      "[CV] max_depth=3, min_samples_leaf=27, min_samples_split=27 ..........\n",
      "[CV]  max_depth=3, min_samples_leaf=27, min_samples_split=27, score=0.378, total=   0.2s\n",
      "[CV] max_depth=3, min_samples_leaf=27, min_samples_split=81 ..........\n",
      "[CV]  max_depth=3, min_samples_leaf=27, min_samples_split=81, score=0.508, total=   0.2s\n",
      "[CV] max_depth=3, min_samples_leaf=27, min_samples_split=81 ..........\n",
      "[CV]  max_depth=3, min_samples_leaf=27, min_samples_split=81, score=0.640, total=   0.2s\n",
      "[CV] max_depth=3, min_samples_leaf=27, min_samples_split=81 ..........\n",
      "[CV]  max_depth=3, min_samples_leaf=27, min_samples_split=81, score=0.378, total=   0.2s\n",
      "[CV] max_depth=5, min_samples_leaf=1, min_samples_split=3 ............\n",
      "[CV]  max_depth=5, min_samples_leaf=1, min_samples_split=3, score=0.546, total=   0.3s\n",
      "[CV] max_depth=5, min_samples_leaf=1, min_samples_split=3 ............\n",
      "[CV]  max_depth=5, min_samples_leaf=1, min_samples_split=3, score=0.674, total=   0.3s\n",
      "[CV] max_depth=5, min_samples_leaf=1, min_samples_split=3 ............\n",
      "[CV]  max_depth=5, min_samples_leaf=1, min_samples_split=3, score=0.407, total=   0.3s\n",
      "[CV] max_depth=5, min_samples_leaf=1, min_samples_split=9 ............\n",
      "[CV]  max_depth=5, min_samples_leaf=1, min_samples_split=9, score=0.548, total=   0.3s\n",
      "[CV] max_depth=5, min_samples_leaf=1, min_samples_split=9 ............\n",
      "[CV]  max_depth=5, min_samples_leaf=1, min_samples_split=9, score=0.673, total=   0.3s\n",
      "[CV] max_depth=5, min_samples_leaf=1, min_samples_split=9 ............\n",
      "[CV]  max_depth=5, min_samples_leaf=1, min_samples_split=9, score=0.408, total=   0.3s\n",
      "[CV] max_depth=5, min_samples_leaf=1, min_samples_split=27 ...........\n",
      "[CV]  max_depth=5, min_samples_leaf=1, min_samples_split=27, score=0.549, total=   0.3s\n",
      "[CV] max_depth=5, min_samples_leaf=1, min_samples_split=27 ...........\n",
      "[CV]  max_depth=5, min_samples_leaf=1, min_samples_split=27, score=0.677, total=   0.3s\n",
      "[CV] max_depth=5, min_samples_leaf=1, min_samples_split=27 ...........\n",
      "[CV]  max_depth=5, min_samples_leaf=1, min_samples_split=27, score=0.409, total=   0.3s\n",
      "[CV] max_depth=5, min_samples_leaf=1, min_samples_split=81 ...........\n",
      "[CV]  max_depth=5, min_samples_leaf=1, min_samples_split=81, score=0.547, total=   0.2s\n",
      "[CV] max_depth=5, min_samples_leaf=1, min_samples_split=81 ...........\n",
      "[CV]  max_depth=5, min_samples_leaf=1, min_samples_split=81, score=0.678, total=   0.2s\n",
      "[CV] max_depth=5, min_samples_leaf=1, min_samples_split=81 ...........\n"
     ]
    },
    {
     "name": "stdout",
     "output_type": "stream",
     "text": [
      "[CV]  max_depth=5, min_samples_leaf=1, min_samples_split=81, score=0.407, total=   0.2s\n",
      "[CV] max_depth=5, min_samples_leaf=3, min_samples_split=3 ............\n",
      "[CV]  max_depth=5, min_samples_leaf=3, min_samples_split=3, score=0.549, total=   0.3s\n",
      "[CV] max_depth=5, min_samples_leaf=3, min_samples_split=3 ............\n",
      "[CV]  max_depth=5, min_samples_leaf=3, min_samples_split=3, score=0.675, total=   0.3s\n",
      "[CV] max_depth=5, min_samples_leaf=3, min_samples_split=3 ............\n",
      "[CV]  max_depth=5, min_samples_leaf=3, min_samples_split=3, score=0.409, total=   0.3s\n",
      "[CV] max_depth=5, min_samples_leaf=3, min_samples_split=9 ............\n",
      "[CV]  max_depth=5, min_samples_leaf=3, min_samples_split=9, score=0.547, total=   0.3s\n",
      "[CV] max_depth=5, min_samples_leaf=3, min_samples_split=9 ............\n",
      "[CV]  max_depth=5, min_samples_leaf=3, min_samples_split=9, score=0.675, total=   0.3s\n",
      "[CV] max_depth=5, min_samples_leaf=3, min_samples_split=9 ............\n",
      "[CV]  max_depth=5, min_samples_leaf=3, min_samples_split=9, score=0.408, total=   0.3s\n",
      "[CV] max_depth=5, min_samples_leaf=3, min_samples_split=27 ...........\n",
      "[CV]  max_depth=5, min_samples_leaf=3, min_samples_split=27, score=0.549, total=   0.3s\n",
      "[CV] max_depth=5, min_samples_leaf=3, min_samples_split=27 ...........\n",
      "[CV]  max_depth=5, min_samples_leaf=3, min_samples_split=27, score=0.676, total=   0.3s\n",
      "[CV] max_depth=5, min_samples_leaf=3, min_samples_split=27 ...........\n",
      "[CV]  max_depth=5, min_samples_leaf=3, min_samples_split=27, score=0.408, total=   0.3s\n",
      "[CV] max_depth=5, min_samples_leaf=3, min_samples_split=81 ...........\n",
      "[CV]  max_depth=5, min_samples_leaf=3, min_samples_split=81, score=0.546, total=   0.2s\n",
      "[CV] max_depth=5, min_samples_leaf=3, min_samples_split=81 ...........\n",
      "[CV]  max_depth=5, min_samples_leaf=3, min_samples_split=81, score=0.677, total=   0.3s\n",
      "[CV] max_depth=5, min_samples_leaf=3, min_samples_split=81 ...........\n",
      "[CV]  max_depth=5, min_samples_leaf=3, min_samples_split=81, score=0.406, total=   0.2s\n",
      "[CV] max_depth=5, min_samples_leaf=9, min_samples_split=3 ............\n",
      "[CV]  max_depth=5, min_samples_leaf=9, min_samples_split=3, score=0.548, total=   0.3s\n",
      "[CV] max_depth=5, min_samples_leaf=9, min_samples_split=3 ............\n",
      "[CV]  max_depth=5, min_samples_leaf=9, min_samples_split=3, score=0.677, total=   0.3s\n",
      "[CV] max_depth=5, min_samples_leaf=9, min_samples_split=3 ............\n",
      "[CV]  max_depth=5, min_samples_leaf=9, min_samples_split=3, score=0.405, total=   0.3s\n",
      "[CV] max_depth=5, min_samples_leaf=9, min_samples_split=9 ............\n",
      "[CV]  max_depth=5, min_samples_leaf=9, min_samples_split=9, score=0.548, total=   0.3s\n",
      "[CV] max_depth=5, min_samples_leaf=9, min_samples_split=9 ............\n",
      "[CV]  max_depth=5, min_samples_leaf=9, min_samples_split=9, score=0.677, total=   0.3s\n",
      "[CV] max_depth=5, min_samples_leaf=9, min_samples_split=9 ............\n",
      "[CV]  max_depth=5, min_samples_leaf=9, min_samples_split=9, score=0.405, total=   0.3s\n",
      "[CV] max_depth=5, min_samples_leaf=9, min_samples_split=27 ...........\n",
      "[CV]  max_depth=5, min_samples_leaf=9, min_samples_split=27, score=0.547, total=   0.3s\n",
      "[CV] max_depth=5, min_samples_leaf=9, min_samples_split=27 ...........\n",
      "[CV]  max_depth=5, min_samples_leaf=9, min_samples_split=27, score=0.675, total=   0.3s\n",
      "[CV] max_depth=5, min_samples_leaf=9, min_samples_split=27 ...........\n",
      "[CV]  max_depth=5, min_samples_leaf=9, min_samples_split=27, score=0.405, total=   0.3s\n",
      "[CV] max_depth=5, min_samples_leaf=9, min_samples_split=81 ...........\n",
      "[CV]  max_depth=5, min_samples_leaf=9, min_samples_split=81, score=0.546, total=   0.3s\n",
      "[CV] max_depth=5, min_samples_leaf=9, min_samples_split=81 ...........\n",
      "[CV]  max_depth=5, min_samples_leaf=9, min_samples_split=81, score=0.677, total=   0.3s\n",
      "[CV] max_depth=5, min_samples_leaf=9, min_samples_split=81 ...........\n",
      "[CV]  max_depth=5, min_samples_leaf=9, min_samples_split=81, score=0.402, total=   0.2s\n",
      "[CV] max_depth=5, min_samples_leaf=27, min_samples_split=3 ...........\n",
      "[CV]  max_depth=5, min_samples_leaf=27, min_samples_split=3, score=0.535, total=   0.2s\n",
      "[CV] max_depth=5, min_samples_leaf=27, min_samples_split=3 ...........\n",
      "[CV]  max_depth=5, min_samples_leaf=27, min_samples_split=3, score=0.663, total=   0.3s\n",
      "[CV] max_depth=5, min_samples_leaf=27, min_samples_split=3 ...........\n",
      "[CV]  max_depth=5, min_samples_leaf=27, min_samples_split=3, score=0.395, total=   0.3s\n",
      "[CV] max_depth=5, min_samples_leaf=27, min_samples_split=9 ...........\n",
      "[CV]  max_depth=5, min_samples_leaf=27, min_samples_split=9, score=0.535, total=   0.3s\n",
      "[CV] max_depth=5, min_samples_leaf=27, min_samples_split=9 ...........\n",
      "[CV]  max_depth=5, min_samples_leaf=27, min_samples_split=9, score=0.663, total=   0.3s\n",
      "[CV] max_depth=5, min_samples_leaf=27, min_samples_split=9 ...........\n",
      "[CV]  max_depth=5, min_samples_leaf=27, min_samples_split=9, score=0.395, total=   0.2s\n",
      "[CV] max_depth=5, min_samples_leaf=27, min_samples_split=27 ..........\n",
      "[CV]  max_depth=5, min_samples_leaf=27, min_samples_split=27, score=0.535, total=   0.2s\n",
      "[CV] max_depth=5, min_samples_leaf=27, min_samples_split=27 ..........\n",
      "[CV]  max_depth=5, min_samples_leaf=27, min_samples_split=27, score=0.663, total=   0.3s\n",
      "[CV] max_depth=5, min_samples_leaf=27, min_samples_split=27 ..........\n",
      "[CV]  max_depth=5, min_samples_leaf=27, min_samples_split=27, score=0.395, total=   0.2s\n",
      "[CV] max_depth=5, min_samples_leaf=27, min_samples_split=81 ..........\n",
      "[CV]  max_depth=5, min_samples_leaf=27, min_samples_split=81, score=0.536, total=   0.2s\n",
      "[CV] max_depth=5, min_samples_leaf=27, min_samples_split=81 ..........\n",
      "[CV]  max_depth=5, min_samples_leaf=27, min_samples_split=81, score=0.662, total=   0.3s\n",
      "[CV] max_depth=5, min_samples_leaf=27, min_samples_split=81 ..........\n",
      "[CV]  max_depth=5, min_samples_leaf=27, min_samples_split=81, score=0.395, total=   0.2s\n",
      "[CV] max_depth=7, min_samples_leaf=1, min_samples_split=3 ............\n",
      "[CV]  max_depth=7, min_samples_leaf=1, min_samples_split=3, score=0.549, total=   0.3s\n",
      "[CV] max_depth=7, min_samples_leaf=1, min_samples_split=3 ............\n",
      "[CV]  max_depth=7, min_samples_leaf=1, min_samples_split=3, score=0.666, total=   0.3s\n",
      "[CV] max_depth=7, min_samples_leaf=1, min_samples_split=3 ............\n",
      "[CV]  max_depth=7, min_samples_leaf=1, min_samples_split=3, score=0.407, total=   0.3s\n",
      "[CV] max_depth=7, min_samples_leaf=1, min_samples_split=9 ............\n",
      "[CV]  max_depth=7, min_samples_leaf=1, min_samples_split=9, score=0.552, total=   0.3s\n",
      "[CV] max_depth=7, min_samples_leaf=1, min_samples_split=9 ............\n",
      "[CV]  max_depth=7, min_samples_leaf=1, min_samples_split=9, score=0.667, total=   0.3s\n",
      "[CV] max_depth=7, min_samples_leaf=1, min_samples_split=9 ............\n",
      "[CV]  max_depth=7, min_samples_leaf=1, min_samples_split=9, score=0.404, total=   0.3s\n",
      "[CV] max_depth=7, min_samples_leaf=1, min_samples_split=27 ...........\n",
      "[CV]  max_depth=7, min_samples_leaf=1, min_samples_split=27, score=0.551, total=   0.3s\n",
      "[CV] max_depth=7, min_samples_leaf=1, min_samples_split=27 ...........\n",
      "[CV]  max_depth=7, min_samples_leaf=1, min_samples_split=27, score=0.671, total=   0.3s\n",
      "[CV] max_depth=7, min_samples_leaf=1, min_samples_split=27 ...........\n",
      "[CV]  max_depth=7, min_samples_leaf=1, min_samples_split=27, score=0.408, total=   0.3s\n",
      "[CV] max_depth=7, min_samples_leaf=1, min_samples_split=81 ...........\n",
      "[CV]  max_depth=7, min_samples_leaf=1, min_samples_split=81, score=0.552, total=   0.3s\n",
      "[CV] max_depth=7, min_samples_leaf=1, min_samples_split=81 ...........\n",
      "[CV]  max_depth=7, min_samples_leaf=1, min_samples_split=81, score=0.677, total=   0.3s\n",
      "[CV] max_depth=7, min_samples_leaf=1, min_samples_split=81 ...........\n",
      "[CV]  max_depth=7, min_samples_leaf=1, min_samples_split=81, score=0.408, total=   0.3s\n",
      "[CV] max_depth=7, min_samples_leaf=3, min_samples_split=3 ............\n",
      "[CV]  max_depth=7, min_samples_leaf=3, min_samples_split=3, score=0.549, total=   0.3s\n",
      "[CV] max_depth=7, min_samples_leaf=3, min_samples_split=3 ............\n",
      "[CV]  max_depth=7, min_samples_leaf=3, min_samples_split=3, score=0.671, total=   0.3s\n",
      "[CV] max_depth=7, min_samples_leaf=3, min_samples_split=3 ............\n",
      "[CV]  max_depth=7, min_samples_leaf=3, min_samples_split=3, score=0.405, total=   0.3s\n",
      "[CV] max_depth=7, min_samples_leaf=3, min_samples_split=9 ............\n"
     ]
    },
    {
     "name": "stdout",
     "output_type": "stream",
     "text": [
      "[CV]  max_depth=7, min_samples_leaf=3, min_samples_split=9, score=0.549, total=   0.3s\n",
      "[CV] max_depth=7, min_samples_leaf=3, min_samples_split=9 ............\n",
      "[CV]  max_depth=7, min_samples_leaf=3, min_samples_split=9, score=0.671, total=   0.3s\n",
      "[CV] max_depth=7, min_samples_leaf=3, min_samples_split=9 ............\n",
      "[CV]  max_depth=7, min_samples_leaf=3, min_samples_split=9, score=0.405, total=   0.3s\n",
      "[CV] max_depth=7, min_samples_leaf=3, min_samples_split=27 ...........\n",
      "[CV]  max_depth=7, min_samples_leaf=3, min_samples_split=27, score=0.550, total=   0.3s\n",
      "[CV] max_depth=7, min_samples_leaf=3, min_samples_split=27 ...........\n",
      "[CV]  max_depth=7, min_samples_leaf=3, min_samples_split=27, score=0.673, total=   0.3s\n",
      "[CV] max_depth=7, min_samples_leaf=3, min_samples_split=27 ...........\n",
      "[CV]  max_depth=7, min_samples_leaf=3, min_samples_split=27, score=0.408, total=   0.3s\n",
      "[CV] max_depth=7, min_samples_leaf=3, min_samples_split=81 ...........\n",
      "[CV]  max_depth=7, min_samples_leaf=3, min_samples_split=81, score=0.552, total=   0.3s\n",
      "[CV] max_depth=7, min_samples_leaf=3, min_samples_split=81 ...........\n",
      "[CV]  max_depth=7, min_samples_leaf=3, min_samples_split=81, score=0.678, total=   0.3s\n",
      "[CV] max_depth=7, min_samples_leaf=3, min_samples_split=81 ...........\n",
      "[CV]  max_depth=7, min_samples_leaf=3, min_samples_split=81, score=0.408, total=   0.3s\n",
      "[CV] max_depth=7, min_samples_leaf=9, min_samples_split=3 ............\n",
      "[CV]  max_depth=7, min_samples_leaf=9, min_samples_split=3, score=0.549, total=   0.3s\n",
      "[CV] max_depth=7, min_samples_leaf=9, min_samples_split=3 ............\n",
      "[CV]  max_depth=7, min_samples_leaf=9, min_samples_split=3, score=0.674, total=   0.3s\n",
      "[CV] max_depth=7, min_samples_leaf=9, min_samples_split=3 ............\n",
      "[CV]  max_depth=7, min_samples_leaf=9, min_samples_split=3, score=0.406, total=   0.3s\n",
      "[CV] max_depth=7, min_samples_leaf=9, min_samples_split=9 ............\n",
      "[CV]  max_depth=7, min_samples_leaf=9, min_samples_split=9, score=0.549, total=   0.3s\n",
      "[CV] max_depth=7, min_samples_leaf=9, min_samples_split=9 ............\n",
      "[CV]  max_depth=7, min_samples_leaf=9, min_samples_split=9, score=0.674, total=   0.3s\n",
      "[CV] max_depth=7, min_samples_leaf=9, min_samples_split=9 ............\n",
      "[CV]  max_depth=7, min_samples_leaf=9, min_samples_split=9, score=0.406, total=   0.3s\n",
      "[CV] max_depth=7, min_samples_leaf=9, min_samples_split=27 ...........\n",
      "[CV]  max_depth=7, min_samples_leaf=9, min_samples_split=27, score=0.548, total=   0.3s\n",
      "[CV] max_depth=7, min_samples_leaf=9, min_samples_split=27 ...........\n",
      "[CV]  max_depth=7, min_samples_leaf=9, min_samples_split=27, score=0.674, total=   0.3s\n",
      "[CV] max_depth=7, min_samples_leaf=9, min_samples_split=27 ...........\n",
      "[CV]  max_depth=7, min_samples_leaf=9, min_samples_split=27, score=0.405, total=   0.3s\n",
      "[CV] max_depth=7, min_samples_leaf=9, min_samples_split=81 ...........\n",
      "[CV]  max_depth=7, min_samples_leaf=9, min_samples_split=81, score=0.549, total=   0.3s\n",
      "[CV] max_depth=7, min_samples_leaf=9, min_samples_split=81 ...........\n",
      "[CV]  max_depth=7, min_samples_leaf=9, min_samples_split=81, score=0.676, total=   0.3s\n",
      "[CV] max_depth=7, min_samples_leaf=9, min_samples_split=81 ...........\n",
      "[CV]  max_depth=7, min_samples_leaf=9, min_samples_split=81, score=0.405, total=   0.3s\n",
      "[CV] max_depth=7, min_samples_leaf=27, min_samples_split=3 ...........\n",
      "[CV]  max_depth=7, min_samples_leaf=27, min_samples_split=3, score=0.537, total=   0.3s\n",
      "[CV] max_depth=7, min_samples_leaf=27, min_samples_split=3 ...........\n",
      "[CV]  max_depth=7, min_samples_leaf=27, min_samples_split=3, score=0.663, total=   0.3s\n",
      "[CV] max_depth=7, min_samples_leaf=27, min_samples_split=3 ...........\n",
      "[CV]  max_depth=7, min_samples_leaf=27, min_samples_split=3, score=0.398, total=   0.3s\n",
      "[CV] max_depth=7, min_samples_leaf=27, min_samples_split=9 ...........\n",
      "[CV]  max_depth=7, min_samples_leaf=27, min_samples_split=9, score=0.537, total=   0.3s\n",
      "[CV] max_depth=7, min_samples_leaf=27, min_samples_split=9 ...........\n",
      "[CV]  max_depth=7, min_samples_leaf=27, min_samples_split=9, score=0.663, total=   0.3s\n",
      "[CV] max_depth=7, min_samples_leaf=27, min_samples_split=9 ...........\n",
      "[CV]  max_depth=7, min_samples_leaf=27, min_samples_split=9, score=0.398, total=   0.3s\n",
      "[CV] max_depth=7, min_samples_leaf=27, min_samples_split=27 ..........\n",
      "[CV]  max_depth=7, min_samples_leaf=27, min_samples_split=27, score=0.537, total=   0.3s\n",
      "[CV] max_depth=7, min_samples_leaf=27, min_samples_split=27 ..........\n",
      "[CV]  max_depth=7, min_samples_leaf=27, min_samples_split=27, score=0.663, total=   0.3s\n",
      "[CV] max_depth=7, min_samples_leaf=27, min_samples_split=27 ..........\n",
      "[CV]  max_depth=7, min_samples_leaf=27, min_samples_split=27, score=0.398, total=   0.3s\n",
      "[CV] max_depth=7, min_samples_leaf=27, min_samples_split=81 ..........\n",
      "[CV]  max_depth=7, min_samples_leaf=27, min_samples_split=81, score=0.537, total=   0.3s\n",
      "[CV] max_depth=7, min_samples_leaf=27, min_samples_split=81 ..........\n",
      "[CV]  max_depth=7, min_samples_leaf=27, min_samples_split=81, score=0.662, total=   0.3s\n",
      "[CV] max_depth=7, min_samples_leaf=27, min_samples_split=81 ..........\n",
      "[CV]  max_depth=7, min_samples_leaf=27, min_samples_split=81, score=0.400, total=   0.3s\n"
     ]
    },
    {
     "name": "stderr",
     "output_type": "stream",
     "text": [
      "[Parallel(n_jobs=1)]: Done 192 out of 192 | elapsed:   43.0s finished\n"
     ]
    },
    {
     "data": {
      "text/plain": [
       "GridSearchCV(cv='warn', error_score='raise-deprecating',\n",
       "             estimator=RandomForestRegressor(bootstrap=True, criterion='mse',\n",
       "                                             max_depth=None, max_features=64,\n",
       "                                             max_leaf_nodes=None,\n",
       "                                             min_impurity_decrease=0.0,\n",
       "                                             min_impurity_split=None,\n",
       "                                             min_samples_leaf=1,\n",
       "                                             min_samples_split=2,\n",
       "                                             min_weight_fraction_leaf=0.0,\n",
       "                                             n_estimators=100, n_jobs=None,\n",
       "                                             oob_score=False, random_state=1,\n",
       "                                             verbose=0, warm_start=True),\n",
       "             iid='warn', n_jobs=None,\n",
       "             param_grid={'max_depth': array([1, 3, 5, 7]),\n",
       "                         'min_samples_leaf': [1, 3, 9, 27],\n",
       "                         'min_samples_split': [3, 9, 27, 81]},\n",
       "             pre_dispatch='2*n_jobs', refit=True, return_train_score=False,\n",
       "             scoring=make_scorer(r2_score), verbose=3)"
      ]
     },
     "execution_count": 25,
     "metadata": {},
     "output_type": "execute_result"
    }
   ],
   "source": [
    "gs3.fit(x1,y1)"
   ]
  },
  {
   "cell_type": "code",
   "execution_count": 26,
   "metadata": {},
   "outputs": [
    {
     "data": {
      "text/plain": [
       "{'max_depth': 7, 'min_samples_leaf': 3, 'min_samples_split': 81}"
      ]
     },
     "execution_count": 26,
     "metadata": {},
     "output_type": "execute_result"
    }
   ],
   "source": [
    "gs3.best_params_"
   ]
  },
  {
   "cell_type": "code",
   "execution_count": 27,
   "metadata": {},
   "outputs": [
    {
     "data": {
      "text/plain": [
       "RandomForestRegressor(bootstrap=True, criterion='mse', max_depth=7,\n",
       "                      max_features=64, max_leaf_nodes=None,\n",
       "                      min_impurity_decrease=0.0, min_impurity_split=None,\n",
       "                      min_samples_leaf=3, min_samples_split=81,\n",
       "                      min_weight_fraction_leaf=0.0, n_estimators=500,\n",
       "                      n_jobs=None, oob_score=False, random_state=1, verbose=0,\n",
       "                      warm_start=True)"
      ]
     },
     "execution_count": 27,
     "metadata": {},
     "output_type": "execute_result"
    }
   ],
   "source": [
    "#обучение леса\n",
    "RFR = RandomForestRegressor(random_state=1, warm_start=True, n_estimators = 500, max_features = 64, \n",
    "                            max_depth=7, min_samples_leaf = 3, min_samples_split = 81)\n",
    "RFR.fit(x1, y1)"
   ]
  },
  {
   "cell_type": "markdown",
   "metadata": {},
   "source": [
    "### Градиентный бустинг - подбор гиперпараметров"
   ]
  },
  {
   "cell_type": "markdown",
   "metadata": {},
   "source": [
    "Для градиентного бустинга самые важные гиперпараметры - число деревьев и глубина дерева. Глубина дерева задает, насколько слабыми или сильными будут отдельные деревья, а значит и то, насколько мы будем двигаться в сторону градиента. После этих гиперпараметров подбираем другие гиперпараметры. "
   ]
  },
  {
   "cell_type": "code",
   "execution_count": 28,
   "metadata": {},
   "outputs": [],
   "source": [
    "# базовая шкала для числа деревьев и длины шага\n",
    "param_grid4 = {\"n_estimators\":2**np.log2(np.arange(10)), \"learning_rate\":0.1**np.arange(5)}"
   ]
  },
  {
   "cell_type": "code",
   "execution_count": 29,
   "metadata": {},
   "outputs": [],
   "source": [
    "gs4 = GridSearchCV(GradientBoostingRegressor(random_state=1, warm_start = True), \n",
    "                   param_grid4, make_scorer(r2_score), verbose=3)"
   ]
  },
  {
   "cell_type": "code",
   "execution_count": 1,
   "metadata": {},
   "outputs": [],
   "source": [
    "gs4.fit(x1,y1)"
   ]
  },
  {
   "cell_type": "code",
   "execution_count": 31,
   "metadata": {},
   "outputs": [
    {
     "data": {
      "text/plain": [
       "{'learning_rate': 0.010000000000000002, 'n_estimators': 512}"
      ]
     },
     "execution_count": 31,
     "metadata": {},
     "output_type": "execute_result"
    }
   ],
   "source": [
    "gs4.best_params_"
   ]
  },
  {
   "cell_type": "code",
   "execution_count": 32,
   "metadata": {},
   "outputs": [
    {
     "data": {
      "image/png": "[encoded data removed]",
      "text/plain": [
       "<Figure size 432x288 with 1 Axes>"
      ]
     },
     "metadata": {
      "needs_background": "light"
     },
     "output_type": "display_data"
    }
   ],
   "source": [
    "#график\n",
    "from mpl_toolkits.mplot3d import Axes3D\n",
    "from matplotlib import cm\n",
    "\n",
    "fig = plt.figure()\n",
    "ax = fig.gca(projection='3d')\n",
    "\n",
    "X = np.log2(param_grid4[\"learning_rate\"])\n",
    "Y = param_grid4[\"n_estimators\"]\n",
    "X, Y = np.meshgrid(X, Y)\n",
    "Z = gs4.cv_results_['mean_test_score'].reshape(10,5)\n",
    "plt.xlabel(\"learning_rate\")\n",
    "plt.ylabel(\"n_estimators\")\n",
    "\n",
    "graph = ax.plot_surface(X, Y, Z, cmap=cm.coolwarm,\n",
    "                       linewidth=0)\n",
    "\n",
    "plt.show()"
   ]
  },
  {
   "cell_type": "markdown",
   "metadata": {},
   "source": [
    "КОММЕНТАРИЙ:\n",
    "Оптимальное значение гиперпараметров: learning_rate': 0.010000000000000002, n_estimators: 512"
   ]
  },
  {
   "cell_type": "code",
   "execution_count": 34,
   "metadata": {},
   "outputs": [],
   "source": [
    "# базовая шкала для max_depth\n",
    "param_grid5 = {\"max_depth\":np.arange(1, 9)}"
   ]
  },
  {
   "cell_type": "code",
   "execution_count": 35,
   "metadata": {},
   "outputs": [],
   "source": [
    "gs5 = GridSearchCV(GradientBoostingRegressor(random_state=1, warm_start = True, \n",
    "                                             learning_rate = 0.010000000000000002,\n",
    "                                            n_estimators = 512), \n",
    "                   param_grid5, make_scorer(r2_score), verbose=3)"
   ]
  },
  {
   "cell_type": "code",
   "execution_count": 36,
   "metadata": {},
   "outputs": [
    {
     "name": "stderr",
     "output_type": "stream",
     "text": [
      "/Users/vasilisavashenko/opt/anaconda3/lib/python3.7/site-packages/sklearn/model_selection/_split.py:1978: FutureWarning: The default value of cv will change from 3 to 5 in version 0.22. Specify it explicitly to silence this warning.\n",
      "  warnings.warn(CV_WARNING, FutureWarning)\n",
      "[Parallel(n_jobs=1)]: Using backend SequentialBackend with 1 concurrent workers.\n"
     ]
    },
    {
     "name": "stdout",
     "output_type": "stream",
     "text": [
      "Fitting 3 folds for each of 8 candidates, totalling 24 fits\n",
      "[CV] max_depth=1 .....................................................\n",
      "[CV] ......................... max_depth=1, score=0.501, total=   1.0s\n",
      "[CV] max_depth=1 .....................................................\n"
     ]
    },
    {
     "name": "stderr",
     "output_type": "stream",
     "text": [
      "[Parallel(n_jobs=1)]: Done   1 out of   1 | elapsed:    1.0s remaining:    0.0s\n"
     ]
    },
    {
     "name": "stdout",
     "output_type": "stream",
     "text": [
      "[CV] ......................... max_depth=1, score=0.638, total=   1.1s\n",
      "[CV] max_depth=1 .....................................................\n"
     ]
    },
    {
     "name": "stderr",
     "output_type": "stream",
     "text": [
      "[Parallel(n_jobs=1)]: Done   2 out of   2 | elapsed:    2.1s remaining:    0.0s\n"
     ]
    },
    {
     "name": "stdout",
     "output_type": "stream",
     "text": [
      "[CV] ......................... max_depth=1, score=0.379, total=   1.2s\n",
      "[CV] max_depth=2 .....................................................\n",
      "[CV] ......................... max_depth=2, score=0.549, total=   2.4s\n",
      "[CV] max_depth=2 .....................................................\n",
      "[CV] ......................... max_depth=2, score=0.680, total=   3.1s\n",
      "[CV] max_depth=2 .....................................................\n",
      "[CV] ......................... max_depth=2, score=0.418, total=   2.4s\n",
      "[CV] max_depth=3 .....................................................\n",
      "[CV] ......................... max_depth=3, score=0.546, total=   5.2s\n",
      "[CV] max_depth=3 .....................................................\n",
      "[CV] ......................... max_depth=3, score=0.671, total=   4.9s\n",
      "[CV] max_depth=3 .....................................................\n",
      "[CV] ......................... max_depth=3, score=0.413, total=   6.1s\n",
      "[CV] max_depth=4 .....................................................\n",
      "[CV] ......................... max_depth=4, score=0.525, total=   8.1s\n",
      "[CV] max_depth=4 .....................................................\n",
      "[CV] ......................... max_depth=4, score=0.648, total=   8.3s\n",
      "[CV] max_depth=4 .....................................................\n",
      "[CV] ......................... max_depth=4, score=0.397, total=  10.3s\n",
      "[CV] max_depth=5 .....................................................\n",
      "[CV] ......................... max_depth=5, score=0.487, total=  12.5s\n",
      "[CV] max_depth=5 .....................................................\n",
      "[CV] ......................... max_depth=5, score=0.603, total=  13.4s\n",
      "[CV] max_depth=5 .....................................................\n",
      "[CV] ......................... max_depth=5, score=0.387, total=  14.8s\n",
      "[CV] max_depth=6 .....................................................\n",
      "[CV] ......................... max_depth=6, score=0.475, total=  15.7s\n",
      "[CV] max_depth=6 .....................................................\n",
      "[CV] ......................... max_depth=6, score=0.591, total=  15.0s\n",
      "[CV] max_depth=6 .....................................................\n",
      "[CV] ......................... max_depth=6, score=0.372, total=  15.5s\n",
      "[CV] max_depth=7 .....................................................\n",
      "[CV] ......................... max_depth=7, score=0.470, total=  19.8s\n",
      "[CV] max_depth=7 .....................................................\n",
      "[CV] ......................... max_depth=7, score=0.554, total=  19.4s\n",
      "[CV] max_depth=7 .....................................................\n",
      "[CV] ......................... max_depth=7, score=0.349, total=  19.6s\n",
      "[CV] max_depth=8 .....................................................\n",
      "[CV] ......................... max_depth=8, score=0.458, total=  24.0s\n",
      "[CV] max_depth=8 .....................................................\n",
      "[CV] ......................... max_depth=8, score=0.538, total=  23.7s\n",
      "[CV] max_depth=8 .....................................................\n",
      "[CV] ......................... max_depth=8, score=0.335, total=  25.1s\n"
     ]
    },
    {
     "name": "stderr",
     "output_type": "stream",
     "text": [
      "[Parallel(n_jobs=1)]: Done  24 out of  24 | elapsed:  4.5min finished\n"
     ]
    },
    {
     "data": {
      "text/plain": [
       "GridSearchCV(cv='warn', error_score='raise-deprecating',\n",
       "             estimator=GradientBoostingRegressor(alpha=0.9,\n",
       "                                                 criterion='friedman_mse',\n",
       "                                                 init=None,\n",
       "                                                 learning_rate=0.010000000000000002,\n",
       "                                                 loss='ls', max_depth=3,\n",
       "                                                 max_features=None,\n",
       "                                                 max_leaf_nodes=None,\n",
       "                                                 min_impurity_decrease=0.0,\n",
       "                                                 min_impurity_split=None,\n",
       "                                                 min_samples_leaf=1,\n",
       "                                                 min_samples_split=2,\n",
       "                                                 min_weight_fraction_leaf=0.0,\n",
       "                                                 n_estimators=512,\n",
       "                                                 n_iter_no_change=None,\n",
       "                                                 presort='auto', random_state=1,\n",
       "                                                 subsample=1.0, tol=0.0001,\n",
       "                                                 validation_fraction=0.1,\n",
       "                                                 verbose=0, warm_start=True),\n",
       "             iid='warn', n_jobs=None,\n",
       "             param_grid={'max_depth': array([1, 2, 3, 4, 5, 6, 7, 8])},\n",
       "             pre_dispatch='2*n_jobs', refit=True, return_train_score=False,\n",
       "             scoring=make_scorer(r2_score), verbose=3)"
      ]
     },
     "execution_count": 36,
     "metadata": {},
     "output_type": "execute_result"
    }
   ],
   "source": [
    "gs5.fit(x1,y1)"
   ]
  },
  {
   "cell_type": "code",
   "execution_count": 37,
   "metadata": {},
   "outputs": [
    {
     "data": {
      "text/plain": [
       "{'max_depth': 2}"
      ]
     },
     "execution_count": 37,
     "metadata": {},
     "output_type": "execute_result"
    }
   ],
   "source": [
    "gs5.best_params_"
   ]
  },
  {
   "cell_type": "code",
   "execution_count": 38,
   "metadata": {},
   "outputs": [
    {
     "data": {
      "text/plain": [
       "Text(0, 0.5, 'R2')"
      ]
     },
     "execution_count": 38,
     "metadata": {},
     "output_type": "execute_result"
    },
    {
     "data": {
      "image/png": "[encoded data removed]",
      "text/plain": [
       "<Figure size 432x288 with 1 Axes>"
      ]
     },
     "metadata": {
      "needs_background": "light"
     },
     "output_type": "display_data"
    }
   ],
   "source": [
    "plt.plot((param_grid5[\"max_depth\"]), gs5.cv_results_['mean_test_score'])\n",
    "plt.xscale(\"log\")\n",
    "plt.xlabel(\"max_depth\")\n",
    "plt.ylabel(\"R2\")"
   ]
  },
  {
   "cell_type": "markdown",
   "metadata": {},
   "source": [
    "КОММЕНТАРИЙ: График, с одной стороны, выглядит ожидаемо, поскольку маленькая глубина деревьев позволяет избежать переобучения. С другой стороны, увеличение глубины дерева по идее позволило бы ухватить более явно связи между признаками, повышая качество. В данном случае, оптимальное значение гиперпараметра max_depth составило 2.  "
   ]
  },
  {
   "cell_type": "code",
   "execution_count": 39,
   "metadata": {},
   "outputs": [],
   "source": [
    "# базовая шкала для остальных гиперпараметров\n",
    "param_grid6 = {\"max_features\":2**np.arange(1, 9, 2), \"min_samples_leaf\":[1, 3, 9, 27], \n",
    "              \"min_samples_split\":[3, 9, 27, 81]}"
   ]
  },
  {
   "cell_type": "code",
   "execution_count": 40,
   "metadata": {},
   "outputs": [],
   "source": [
    "gs6 = GridSearchCV(GradientBoostingRegressor(random_state=1, \n",
    "                                             warm_start = True, \n",
    "                                             learning_rate = 0.010000000000000002, \n",
    "                                             n_estimators = 512, \n",
    "                                             max_depth = 2), \n",
    "                   param_grid6, make_scorer(r2_score), verbose=3)"
   ]
  },
  {
   "cell_type": "code",
   "execution_count": 41,
   "metadata": {},
   "outputs": [
    {
     "name": "stderr",
     "output_type": "stream",
     "text": [
      "/Users/vasilisavashenko/opt/anaconda3/lib/python3.7/site-packages/sklearn/model_selection/_split.py:1978: FutureWarning: The default value of cv will change from 3 to 5 in version 0.22. Specify it explicitly to silence this warning.\n",
      "  warnings.warn(CV_WARNING, FutureWarning)\n",
      "[Parallel(n_jobs=1)]: Using backend SequentialBackend with 1 concurrent workers.\n",
      "[Parallel(n_jobs=1)]: Done   1 out of   1 | elapsed:    0.2s remaining:    0.0s\n"
     ]
    },
    {
     "name": "stdout",
     "output_type": "stream",
     "text": [
      "Fitting 3 folds for each of 64 candidates, totalling 192 fits\n",
      "[CV] max_features=2, min_samples_leaf=1, min_samples_split=3 .........\n",
      "[CV]  max_features=2, min_samples_leaf=1, min_samples_split=3, score=0.314, total=   0.2s\n",
      "[CV] max_features=2, min_samples_leaf=1, min_samples_split=3 .........\n",
      "[CV]  max_features=2, min_samples_leaf=1, min_samples_split=3, score=0.415, total=   0.2s\n",
      "[CV] max_features=2, min_samples_leaf=1, min_samples_split=3 .........\n"
     ]
    },
    {
     "name": "stderr",
     "output_type": "stream",
     "text": [
      "[Parallel(n_jobs=1)]: Done   2 out of   2 | elapsed:    0.3s remaining:    0.0s\n"
     ]
    },
    {
     "name": "stdout",
     "output_type": "stream",
     "text": [
      "[CV]  max_features=2, min_samples_leaf=1, min_samples_split=3, score=0.229, total=   0.2s\n",
      "[CV] max_features=2, min_samples_leaf=1, min_samples_split=9 .........\n",
      "[CV]  max_features=2, min_samples_leaf=1, min_samples_split=9, score=0.314, total=   0.2s\n",
      "[CV] max_features=2, min_samples_leaf=1, min_samples_split=9 .........\n",
      "[CV]  max_features=2, min_samples_leaf=1, min_samples_split=9, score=0.416, total=   0.2s\n",
      "[CV] max_features=2, min_samples_leaf=1, min_samples_split=9 .........\n",
      "[CV]  max_features=2, min_samples_leaf=1, min_samples_split=9, score=0.229, total=   0.3s\n",
      "[CV] max_features=2, min_samples_leaf=1, min_samples_split=27 ........\n",
      "[CV]  max_features=2, min_samples_leaf=1, min_samples_split=27, score=0.313, total=   0.2s\n",
      "[CV] max_features=2, min_samples_leaf=1, min_samples_split=27 ........\n",
      "[CV]  max_features=2, min_samples_leaf=1, min_samples_split=27, score=0.415, total=   0.2s\n",
      "[CV] max_features=2, min_samples_leaf=1, min_samples_split=27 ........\n",
      "[CV]  max_features=2, min_samples_leaf=1, min_samples_split=27, score=0.229, total=   0.3s\n",
      "[CV] max_features=2, min_samples_leaf=1, min_samples_split=81 ........\n",
      "[CV]  max_features=2, min_samples_leaf=1, min_samples_split=81, score=0.310, total=   0.2s\n",
      "[CV] max_features=2, min_samples_leaf=1, min_samples_split=81 ........\n",
      "[CV]  max_features=2, min_samples_leaf=1, min_samples_split=81, score=0.412, total=   0.2s\n",
      "[CV] max_features=2, min_samples_leaf=1, min_samples_split=81 ........\n",
      "[CV]  max_features=2, min_samples_leaf=1, min_samples_split=81, score=0.227, total=   0.2s\n",
      "[CV] max_features=2, min_samples_leaf=3, min_samples_split=3 .........\n",
      "[CV]  max_features=2, min_samples_leaf=3, min_samples_split=3, score=0.313, total=   0.1s\n",
      "[CV] max_features=2, min_samples_leaf=3, min_samples_split=3 .........\n",
      "[CV]  max_features=2, min_samples_leaf=3, min_samples_split=3, score=0.414, total=   0.2s\n",
      "[CV] max_features=2, min_samples_leaf=3, min_samples_split=3 .........\n",
      "[CV]  max_features=2, min_samples_leaf=3, min_samples_split=3, score=0.228, total=   0.2s\n",
      "[CV] max_features=2, min_samples_leaf=3, min_samples_split=9 .........\n",
      "[CV]  max_features=2, min_samples_leaf=3, min_samples_split=9, score=0.313, total=   0.1s\n",
      "[CV] max_features=2, min_samples_leaf=3, min_samples_split=9 .........\n",
      "[CV]  max_features=2, min_samples_leaf=3, min_samples_split=9, score=0.414, total=   0.1s\n",
      "[CV] max_features=2, min_samples_leaf=3, min_samples_split=9 .........\n",
      "[CV]  max_features=2, min_samples_leaf=3, min_samples_split=9, score=0.228, total=   0.1s\n",
      "[CV] max_features=2, min_samples_leaf=3, min_samples_split=27 ........\n",
      "[CV]  max_features=2, min_samples_leaf=3, min_samples_split=27, score=0.313, total=   0.3s\n",
      "[CV] max_features=2, min_samples_leaf=3, min_samples_split=27 ........\n",
      "[CV]  max_features=2, min_samples_leaf=3, min_samples_split=27, score=0.414, total=   0.2s\n",
      "[CV] max_features=2, min_samples_leaf=3, min_samples_split=27 ........\n",
      "[CV]  max_features=2, min_samples_leaf=3, min_samples_split=27, score=0.228, total=   0.3s\n",
      "[CV] max_features=2, min_samples_leaf=3, min_samples_split=81 ........\n",
      "[CV]  max_features=2, min_samples_leaf=3, min_samples_split=81, score=0.310, total=   0.2s\n",
      "[CV] max_features=2, min_samples_leaf=3, min_samples_split=81 ........\n",
      "[CV]  max_features=2, min_samples_leaf=3, min_samples_split=81, score=0.411, total=   0.2s\n",
      "[CV] max_features=2, min_samples_leaf=3, min_samples_split=81 ........\n",
      "[CV]  max_features=2, min_samples_leaf=3, min_samples_split=81, score=0.226, total=   0.2s\n",
      "[CV] max_features=2, min_samples_leaf=9, min_samples_split=3 .........\n",
      "[CV]  max_features=2, min_samples_leaf=9, min_samples_split=3, score=0.307, total=   0.2s\n",
      "[CV] max_features=2, min_samples_leaf=9, min_samples_split=3 .........\n",
      "[CV]  max_features=2, min_samples_leaf=9, min_samples_split=3, score=0.406, total=   0.2s\n",
      "[CV] max_features=2, min_samples_leaf=9, min_samples_split=3 .........\n",
      "[CV]  max_features=2, min_samples_leaf=9, min_samples_split=3, score=0.223, total=   0.2s\n",
      "[CV] max_features=2, min_samples_leaf=9, min_samples_split=9 .........\n",
      "[CV]  max_features=2, min_samples_leaf=9, min_samples_split=9, score=0.307, total=   0.1s\n",
      "[CV] max_features=2, min_samples_leaf=9, min_samples_split=9 .........\n",
      "[CV]  max_features=2, min_samples_leaf=9, min_samples_split=9, score=0.406, total=   0.2s\n",
      "[CV] max_features=2, min_samples_leaf=9, min_samples_split=9 .........\n",
      "[CV]  max_features=2, min_samples_leaf=9, min_samples_split=9, score=0.223, total=   0.1s\n",
      "[CV] max_features=2, min_samples_leaf=9, min_samples_split=27 ........\n",
      "[CV]  max_features=2, min_samples_leaf=9, min_samples_split=27, score=0.307, total=   0.2s\n",
      "[CV] max_features=2, min_samples_leaf=9, min_samples_split=27 ........\n",
      "[CV]  max_features=2, min_samples_leaf=9, min_samples_split=27, score=0.406, total=   0.2s\n",
      "[CV] max_features=2, min_samples_leaf=9, min_samples_split=27 ........\n",
      "[CV]  max_features=2, min_samples_leaf=9, min_samples_split=27, score=0.223, total=   0.2s\n",
      "[CV] max_features=2, min_samples_leaf=9, min_samples_split=81 ........\n",
      "[CV]  max_features=2, min_samples_leaf=9, min_samples_split=81, score=0.304, total=   0.1s\n",
      "[CV] max_features=2, min_samples_leaf=9, min_samples_split=81 ........\n",
      "[CV]  max_features=2, min_samples_leaf=9, min_samples_split=81, score=0.403, total=   0.1s\n",
      "[CV] max_features=2, min_samples_leaf=9, min_samples_split=81 ........\n",
      "[CV]  max_features=2, min_samples_leaf=9, min_samples_split=81, score=0.221, total=   0.1s\n",
      "[CV] max_features=2, min_samples_leaf=27, min_samples_split=3 ........\n",
      "[CV]  max_features=2, min_samples_leaf=27, min_samples_split=3, score=0.281, total=   0.2s\n",
      "[CV] max_features=2, min_samples_leaf=27, min_samples_split=3 ........\n",
      "[CV]  max_features=2, min_samples_leaf=27, min_samples_split=3, score=0.370, total=   0.2s\n",
      "[CV] max_features=2, min_samples_leaf=27, min_samples_split=3 ........\n",
      "[CV]  max_features=2, min_samples_leaf=27, min_samples_split=3, score=0.205, total=   0.2s\n",
      "[CV] max_features=2, min_samples_leaf=27, min_samples_split=9 ........\n",
      "[CV]  max_features=2, min_samples_leaf=27, min_samples_split=9, score=0.281, total=   0.2s\n",
      "[CV] max_features=2, min_samples_leaf=27, min_samples_split=9 ........\n",
      "[CV]  max_features=2, min_samples_leaf=27, min_samples_split=9, score=0.370, total=   0.2s\n",
      "[CV] max_features=2, min_samples_leaf=27, min_samples_split=9 ........\n",
      "[CV]  max_features=2, min_samples_leaf=27, min_samples_split=9, score=0.205, total=   0.2s\n",
      "[CV] max_features=2, min_samples_leaf=27, min_samples_split=27 .......\n",
      "[CV]  max_features=2, min_samples_leaf=27, min_samples_split=27, score=0.281, total=   0.2s\n",
      "[CV] max_features=2, min_samples_leaf=27, min_samples_split=27 .......\n",
      "[CV]  max_features=2, min_samples_leaf=27, min_samples_split=27, score=0.370, total=   0.2s\n",
      "[CV] max_features=2, min_samples_leaf=27, min_samples_split=27 .......\n",
      "[CV]  max_features=2, min_samples_leaf=27, min_samples_split=27, score=0.205, total=   0.2s\n",
      "[CV] max_features=2, min_samples_leaf=27, min_samples_split=81 .......\n",
      "[CV]  max_features=2, min_samples_leaf=27, min_samples_split=81, score=0.278, total=   0.2s\n",
      "[CV] max_features=2, min_samples_leaf=27, min_samples_split=81 .......\n",
      "[CV]  max_features=2, min_samples_leaf=27, min_samples_split=81, score=0.367, total=   0.1s\n",
      "[CV] max_features=2, min_samples_leaf=27, min_samples_split=81 .......\n",
      "[CV]  max_features=2, min_samples_leaf=27, min_samples_split=81, score=0.203, total=   0.1s\n",
      "[CV] max_features=8, min_samples_leaf=1, min_samples_split=3 .........\n",
      "[CV]  max_features=8, min_samples_leaf=1, min_samples_split=3, score=0.456, total=   0.2s\n",
      "[CV] max_features=8, min_samples_leaf=1, min_samples_split=3 .........\n",
      "[CV]  max_features=8, min_samples_leaf=1, min_samples_split=3, score=0.585, total=   0.2s\n",
      "[CV] max_features=8, min_samples_leaf=1, min_samples_split=3 .........\n",
      "[CV]  max_features=8, min_samples_leaf=1, min_samples_split=3, score=0.333, total=   0.2s\n",
      "[CV] max_features=8, min_samples_leaf=1, min_samples_split=9 .........\n",
      "[CV]  max_features=8, min_samples_leaf=1, min_samples_split=9, score=0.456, total=   0.2s\n",
      "[CV] max_features=8, min_samples_leaf=1, min_samples_split=9 .........\n",
      "[CV]  max_features=8, min_samples_leaf=1, min_samples_split=9, score=0.585, total=   0.2s\n",
      "[CV] max_features=8, min_samples_leaf=1, min_samples_split=9 .........\n",
      "[CV]  max_features=8, min_samples_leaf=1, min_samples_split=9, score=0.333, total=   0.2s\n",
      "[CV] max_features=8, min_samples_leaf=1, min_samples_split=27 ........\n"
     ]
    },
    {
     "name": "stdout",
     "output_type": "stream",
     "text": [
      "[CV]  max_features=8, min_samples_leaf=1, min_samples_split=27, score=0.454, total=   0.2s\n",
      "[CV] max_features=8, min_samples_leaf=1, min_samples_split=27 ........\n",
      "[CV]  max_features=8, min_samples_leaf=1, min_samples_split=27, score=0.585, total=   0.2s\n",
      "[CV] max_features=8, min_samples_leaf=1, min_samples_split=27 ........\n",
      "[CV]  max_features=8, min_samples_leaf=1, min_samples_split=27, score=0.334, total=   0.2s\n",
      "[CV] max_features=8, min_samples_leaf=1, min_samples_split=81 ........\n",
      "[CV]  max_features=8, min_samples_leaf=1, min_samples_split=81, score=0.455, total=   0.2s\n",
      "[CV] max_features=8, min_samples_leaf=1, min_samples_split=81 ........\n",
      "[CV]  max_features=8, min_samples_leaf=1, min_samples_split=81, score=0.581, total=   0.2s\n",
      "[CV] max_features=8, min_samples_leaf=1, min_samples_split=81 ........\n",
      "[CV]  max_features=8, min_samples_leaf=1, min_samples_split=81, score=0.334, total=   0.2s\n",
      "[CV] max_features=8, min_samples_leaf=3, min_samples_split=3 .........\n",
      "[CV]  max_features=8, min_samples_leaf=3, min_samples_split=3, score=0.455, total=   0.2s\n",
      "[CV] max_features=8, min_samples_leaf=3, min_samples_split=3 .........\n",
      "[CV]  max_features=8, min_samples_leaf=3, min_samples_split=3, score=0.585, total=   0.2s\n",
      "[CV] max_features=8, min_samples_leaf=3, min_samples_split=3 .........\n",
      "[CV]  max_features=8, min_samples_leaf=3, min_samples_split=3, score=0.334, total=   0.2s\n",
      "[CV] max_features=8, min_samples_leaf=3, min_samples_split=9 .........\n",
      "[CV]  max_features=8, min_samples_leaf=3, min_samples_split=9, score=0.455, total=   0.2s\n",
      "[CV] max_features=8, min_samples_leaf=3, min_samples_split=9 .........\n",
      "[CV]  max_features=8, min_samples_leaf=3, min_samples_split=9, score=0.585, total=   0.2s\n",
      "[CV] max_features=8, min_samples_leaf=3, min_samples_split=9 .........\n",
      "[CV]  max_features=8, min_samples_leaf=3, min_samples_split=9, score=0.334, total=   0.2s\n",
      "[CV] max_features=8, min_samples_leaf=3, min_samples_split=27 ........\n",
      "[CV]  max_features=8, min_samples_leaf=3, min_samples_split=27, score=0.455, total=   0.2s\n",
      "[CV] max_features=8, min_samples_leaf=3, min_samples_split=27 ........\n",
      "[CV]  max_features=8, min_samples_leaf=3, min_samples_split=27, score=0.585, total=   0.2s\n",
      "[CV] max_features=8, min_samples_leaf=3, min_samples_split=27 ........\n",
      "[CV]  max_features=8, min_samples_leaf=3, min_samples_split=27, score=0.334, total=   0.2s\n",
      "[CV] max_features=8, min_samples_leaf=3, min_samples_split=81 ........\n",
      "[CV]  max_features=8, min_samples_leaf=3, min_samples_split=81, score=0.455, total=   0.2s\n",
      "[CV] max_features=8, min_samples_leaf=3, min_samples_split=81 ........\n",
      "[CV]  max_features=8, min_samples_leaf=3, min_samples_split=81, score=0.582, total=   0.2s\n",
      "[CV] max_features=8, min_samples_leaf=3, min_samples_split=81 ........\n",
      "[CV]  max_features=8, min_samples_leaf=3, min_samples_split=81, score=0.334, total=   0.2s\n",
      "[CV] max_features=8, min_samples_leaf=9, min_samples_split=3 .........\n",
      "[CV]  max_features=8, min_samples_leaf=9, min_samples_split=3, score=0.455, total=   0.2s\n",
      "[CV] max_features=8, min_samples_leaf=9, min_samples_split=3 .........\n",
      "[CV]  max_features=8, min_samples_leaf=9, min_samples_split=3, score=0.583, total=   0.2s\n",
      "[CV] max_features=8, min_samples_leaf=9, min_samples_split=3 .........\n",
      "[CV]  max_features=8, min_samples_leaf=9, min_samples_split=3, score=0.334, total=   0.2s\n",
      "[CV] max_features=8, min_samples_leaf=9, min_samples_split=9 .........\n",
      "[CV]  max_features=8, min_samples_leaf=9, min_samples_split=9, score=0.455, total=   0.2s\n",
      "[CV] max_features=8, min_samples_leaf=9, min_samples_split=9 .........\n",
      "[CV]  max_features=8, min_samples_leaf=9, min_samples_split=9, score=0.583, total=   0.2s\n",
      "[CV] max_features=8, min_samples_leaf=9, min_samples_split=9 .........\n",
      "[CV]  max_features=8, min_samples_leaf=9, min_samples_split=9, score=0.334, total=   0.2s\n",
      "[CV] max_features=8, min_samples_leaf=9, min_samples_split=27 ........\n",
      "[CV]  max_features=8, min_samples_leaf=9, min_samples_split=27, score=0.455, total=   0.2s\n",
      "[CV] max_features=8, min_samples_leaf=9, min_samples_split=27 ........\n",
      "[CV]  max_features=8, min_samples_leaf=9, min_samples_split=27, score=0.584, total=   0.2s\n",
      "[CV] max_features=8, min_samples_leaf=9, min_samples_split=27 ........\n",
      "[CV]  max_features=8, min_samples_leaf=9, min_samples_split=27, score=0.334, total=   0.2s\n",
      "[CV] max_features=8, min_samples_leaf=9, min_samples_split=81 ........\n",
      "[CV]  max_features=8, min_samples_leaf=9, min_samples_split=81, score=0.453, total=   0.2s\n",
      "[CV] max_features=8, min_samples_leaf=9, min_samples_split=81 ........\n",
      "[CV]  max_features=8, min_samples_leaf=9, min_samples_split=81, score=0.581, total=   0.2s\n",
      "[CV] max_features=8, min_samples_leaf=9, min_samples_split=81 ........\n",
      "[CV]  max_features=8, min_samples_leaf=9, min_samples_split=81, score=0.334, total=   0.2s\n",
      "[CV] max_features=8, min_samples_leaf=27, min_samples_split=3 ........\n",
      "[CV]  max_features=8, min_samples_leaf=27, min_samples_split=3, score=0.448, total=   0.2s\n",
      "[CV] max_features=8, min_samples_leaf=27, min_samples_split=3 ........\n",
      "[CV]  max_features=8, min_samples_leaf=27, min_samples_split=3, score=0.578, total=   0.2s\n",
      "[CV] max_features=8, min_samples_leaf=27, min_samples_split=3 ........\n",
      "[CV]  max_features=8, min_samples_leaf=27, min_samples_split=3, score=0.331, total=   0.2s\n",
      "[CV] max_features=8, min_samples_leaf=27, min_samples_split=9 ........\n",
      "[CV]  max_features=8, min_samples_leaf=27, min_samples_split=9, score=0.448, total=   0.2s\n",
      "[CV] max_features=8, min_samples_leaf=27, min_samples_split=9 ........\n",
      "[CV]  max_features=8, min_samples_leaf=27, min_samples_split=9, score=0.578, total=   0.2s\n",
      "[CV] max_features=8, min_samples_leaf=27, min_samples_split=9 ........\n",
      "[CV]  max_features=8, min_samples_leaf=27, min_samples_split=9, score=0.331, total=   0.2s\n",
      "[CV] max_features=8, min_samples_leaf=27, min_samples_split=27 .......\n",
      "[CV]  max_features=8, min_samples_leaf=27, min_samples_split=27, score=0.448, total=   0.2s\n",
      "[CV] max_features=8, min_samples_leaf=27, min_samples_split=27 .......\n",
      "[CV]  max_features=8, min_samples_leaf=27, min_samples_split=27, score=0.578, total=   0.2s\n",
      "[CV] max_features=8, min_samples_leaf=27, min_samples_split=27 .......\n",
      "[CV]  max_features=8, min_samples_leaf=27, min_samples_split=27, score=0.331, total=   0.2s\n",
      "[CV] max_features=8, min_samples_leaf=27, min_samples_split=81 .......\n",
      "[CV]  max_features=8, min_samples_leaf=27, min_samples_split=81, score=0.448, total=   0.2s\n",
      "[CV] max_features=8, min_samples_leaf=27, min_samples_split=81 .......\n",
      "[CV]  max_features=8, min_samples_leaf=27, min_samples_split=81, score=0.577, total=   0.2s\n",
      "[CV] max_features=8, min_samples_leaf=27, min_samples_split=81 .......\n",
      "[CV]  max_features=8, min_samples_leaf=27, min_samples_split=81, score=0.330, total=   0.2s\n",
      "[CV] max_features=32, min_samples_leaf=1, min_samples_split=3 ........\n",
      "[CV]  max_features=32, min_samples_leaf=1, min_samples_split=3, score=0.539, total=   0.4s\n",
      "[CV] max_features=32, min_samples_leaf=1, min_samples_split=3 ........\n",
      "[CV]  max_features=32, min_samples_leaf=1, min_samples_split=3, score=0.667, total=   0.4s\n",
      "[CV] max_features=32, min_samples_leaf=1, min_samples_split=3 ........\n",
      "[CV]  max_features=32, min_samples_leaf=1, min_samples_split=3, score=0.398, total=   0.4s\n",
      "[CV] max_features=32, min_samples_leaf=1, min_samples_split=9 ........\n",
      "[CV]  max_features=32, min_samples_leaf=1, min_samples_split=9, score=0.539, total=   0.4s\n",
      "[CV] max_features=32, min_samples_leaf=1, min_samples_split=9 ........\n",
      "[CV]  max_features=32, min_samples_leaf=1, min_samples_split=9, score=0.667, total=   0.4s\n",
      "[CV] max_features=32, min_samples_leaf=1, min_samples_split=9 ........\n",
      "[CV]  max_features=32, min_samples_leaf=1, min_samples_split=9, score=0.398, total=   0.4s\n",
      "[CV] max_features=32, min_samples_leaf=1, min_samples_split=27 .......\n",
      "[CV]  max_features=32, min_samples_leaf=1, min_samples_split=27, score=0.539, total=   0.4s\n",
      "[CV] max_features=32, min_samples_leaf=1, min_samples_split=27 .......\n",
      "[CV]  max_features=32, min_samples_leaf=1, min_samples_split=27, score=0.667, total=   0.4s\n",
      "[CV] max_features=32, min_samples_leaf=1, min_samples_split=27 .......\n",
      "[CV]  max_features=32, min_samples_leaf=1, min_samples_split=27, score=0.398, total=   0.4s\n",
      "[CV] max_features=32, min_samples_leaf=1, min_samples_split=81 .......\n"
     ]
    },
    {
     "name": "stdout",
     "output_type": "stream",
     "text": [
      "[CV]  max_features=32, min_samples_leaf=1, min_samples_split=81, score=0.538, total=   0.4s\n",
      "[CV] max_features=32, min_samples_leaf=1, min_samples_split=81 .......\n",
      "[CV]  max_features=32, min_samples_leaf=1, min_samples_split=81, score=0.667, total=   0.4s\n",
      "[CV] max_features=32, min_samples_leaf=1, min_samples_split=81 .......\n",
      "[CV]  max_features=32, min_samples_leaf=1, min_samples_split=81, score=0.398, total=   0.4s\n",
      "[CV] max_features=32, min_samples_leaf=3, min_samples_split=3 ........\n",
      "[CV]  max_features=32, min_samples_leaf=3, min_samples_split=3, score=0.540, total=   0.4s\n",
      "[CV] max_features=32, min_samples_leaf=3, min_samples_split=3 ........\n",
      "[CV]  max_features=32, min_samples_leaf=3, min_samples_split=3, score=0.667, total=   0.4s\n",
      "[CV] max_features=32, min_samples_leaf=3, min_samples_split=3 ........\n",
      "[CV]  max_features=32, min_samples_leaf=3, min_samples_split=3, score=0.399, total=   0.4s\n",
      "[CV] max_features=32, min_samples_leaf=3, min_samples_split=9 ........\n",
      "[CV]  max_features=32, min_samples_leaf=3, min_samples_split=9, score=0.540, total=   0.4s\n",
      "[CV] max_features=32, min_samples_leaf=3, min_samples_split=9 ........\n",
      "[CV]  max_features=32, min_samples_leaf=3, min_samples_split=9, score=0.667, total=   0.4s\n",
      "[CV] max_features=32, min_samples_leaf=3, min_samples_split=9 ........\n",
      "[CV]  max_features=32, min_samples_leaf=3, min_samples_split=9, score=0.399, total=   0.4s\n",
      "[CV] max_features=32, min_samples_leaf=3, min_samples_split=27 .......\n",
      "[CV]  max_features=32, min_samples_leaf=3, min_samples_split=27, score=0.540, total=   0.4s\n",
      "[CV] max_features=32, min_samples_leaf=3, min_samples_split=27 .......\n",
      "[CV]  max_features=32, min_samples_leaf=3, min_samples_split=27, score=0.667, total=   0.4s\n",
      "[CV] max_features=32, min_samples_leaf=3, min_samples_split=27 .......\n",
      "[CV]  max_features=32, min_samples_leaf=3, min_samples_split=27, score=0.398, total=   0.4s\n",
      "[CV] max_features=32, min_samples_leaf=3, min_samples_split=81 .......\n",
      "[CV]  max_features=32, min_samples_leaf=3, min_samples_split=81, score=0.540, total=   0.4s\n",
      "[CV] max_features=32, min_samples_leaf=3, min_samples_split=81 .......\n",
      "[CV]  max_features=32, min_samples_leaf=3, min_samples_split=81, score=0.667, total=   0.4s\n",
      "[CV] max_features=32, min_samples_leaf=3, min_samples_split=81 .......\n",
      "[CV]  max_features=32, min_samples_leaf=3, min_samples_split=81, score=0.398, total=   0.4s\n",
      "[CV] max_features=32, min_samples_leaf=9, min_samples_split=3 ........\n",
      "[CV]  max_features=32, min_samples_leaf=9, min_samples_split=3, score=0.539, total=   0.4s\n",
      "[CV] max_features=32, min_samples_leaf=9, min_samples_split=3 ........\n",
      "[CV]  max_features=32, min_samples_leaf=9, min_samples_split=3, score=0.668, total=   0.4s\n",
      "[CV] max_features=32, min_samples_leaf=9, min_samples_split=3 ........\n",
      "[CV]  max_features=32, min_samples_leaf=9, min_samples_split=3, score=0.397, total=   0.4s\n",
      "[CV] max_features=32, min_samples_leaf=9, min_samples_split=9 ........\n",
      "[CV]  max_features=32, min_samples_leaf=9, min_samples_split=9, score=0.539, total=   0.4s\n",
      "[CV] max_features=32, min_samples_leaf=9, min_samples_split=9 ........\n",
      "[CV]  max_features=32, min_samples_leaf=9, min_samples_split=9, score=0.668, total=   0.4s\n",
      "[CV] max_features=32, min_samples_leaf=9, min_samples_split=9 ........\n",
      "[CV]  max_features=32, min_samples_leaf=9, min_samples_split=9, score=0.397, total=   0.4s\n",
      "[CV] max_features=32, min_samples_leaf=9, min_samples_split=27 .......\n",
      "[CV]  max_features=32, min_samples_leaf=9, min_samples_split=27, score=0.539, total=   0.4s\n",
      "[CV] max_features=32, min_samples_leaf=9, min_samples_split=27 .......\n",
      "[CV]  max_features=32, min_samples_leaf=9, min_samples_split=27, score=0.668, total=   0.4s\n",
      "[CV] max_features=32, min_samples_leaf=9, min_samples_split=27 .......\n",
      "[CV]  max_features=32, min_samples_leaf=9, min_samples_split=27, score=0.398, total=   0.4s\n",
      "[CV] max_features=32, min_samples_leaf=9, min_samples_split=81 .......\n",
      "[CV]  max_features=32, min_samples_leaf=9, min_samples_split=81, score=0.539, total=   0.4s\n",
      "[CV] max_features=32, min_samples_leaf=9, min_samples_split=81 .......\n",
      "[CV]  max_features=32, min_samples_leaf=9, min_samples_split=81, score=0.668, total=   0.4s\n",
      "[CV] max_features=32, min_samples_leaf=9, min_samples_split=81 .......\n",
      "[CV]  max_features=32, min_samples_leaf=9, min_samples_split=81, score=0.397, total=   0.4s\n",
      "[CV] max_features=32, min_samples_leaf=27, min_samples_split=3 .......\n",
      "[CV]  max_features=32, min_samples_leaf=27, min_samples_split=3, score=0.537, total=   0.4s\n",
      "[CV] max_features=32, min_samples_leaf=27, min_samples_split=3 .......\n",
      "[CV]  max_features=32, min_samples_leaf=27, min_samples_split=3, score=0.668, total=   0.4s\n",
      "[CV] max_features=32, min_samples_leaf=27, min_samples_split=3 .......\n",
      "[CV]  max_features=32, min_samples_leaf=27, min_samples_split=3, score=0.396, total=   0.4s\n",
      "[CV] max_features=32, min_samples_leaf=27, min_samples_split=9 .......\n",
      "[CV]  max_features=32, min_samples_leaf=27, min_samples_split=9, score=0.537, total=   0.4s\n",
      "[CV] max_features=32, min_samples_leaf=27, min_samples_split=9 .......\n",
      "[CV]  max_features=32, min_samples_leaf=27, min_samples_split=9, score=0.668, total=   0.4s\n",
      "[CV] max_features=32, min_samples_leaf=27, min_samples_split=9 .......\n",
      "[CV]  max_features=32, min_samples_leaf=27, min_samples_split=9, score=0.396, total=   0.4s\n",
      "[CV] max_features=32, min_samples_leaf=27, min_samples_split=27 ......\n",
      "[CV]  max_features=32, min_samples_leaf=27, min_samples_split=27, score=0.537, total=   0.4s\n",
      "[CV] max_features=32, min_samples_leaf=27, min_samples_split=27 ......\n",
      "[CV]  max_features=32, min_samples_leaf=27, min_samples_split=27, score=0.668, total=   0.4s\n",
      "[CV] max_features=32, min_samples_leaf=27, min_samples_split=27 ......\n",
      "[CV]  max_features=32, min_samples_leaf=27, min_samples_split=27, score=0.396, total=   0.4s\n",
      "[CV] max_features=32, min_samples_leaf=27, min_samples_split=81 ......\n",
      "[CV]  max_features=32, min_samples_leaf=27, min_samples_split=81, score=0.537, total=   0.4s\n",
      "[CV] max_features=32, min_samples_leaf=27, min_samples_split=81 ......\n",
      "[CV]  max_features=32, min_samples_leaf=27, min_samples_split=81, score=0.668, total=   0.4s\n",
      "[CV] max_features=32, min_samples_leaf=27, min_samples_split=81 ......\n",
      "[CV]  max_features=32, min_samples_leaf=27, min_samples_split=81, score=0.395, total=   0.4s\n",
      "[CV] max_features=128, min_samples_leaf=1, min_samples_split=3 .......\n",
      "[CV]  max_features=128, min_samples_leaf=1, min_samples_split=3, score=0.551, total=   1.1s\n",
      "[CV] max_features=128, min_samples_leaf=1, min_samples_split=3 .......\n",
      "[CV]  max_features=128, min_samples_leaf=1, min_samples_split=3, score=0.682, total=   1.1s\n",
      "[CV] max_features=128, min_samples_leaf=1, min_samples_split=3 .......\n",
      "[CV]  max_features=128, min_samples_leaf=1, min_samples_split=3, score=0.415, total=   1.2s\n",
      "[CV] max_features=128, min_samples_leaf=1, min_samples_split=9 .......\n",
      "[CV]  max_features=128, min_samples_leaf=1, min_samples_split=9, score=0.551, total=   1.1s\n",
      "[CV] max_features=128, min_samples_leaf=1, min_samples_split=9 .......\n",
      "[CV]  max_features=128, min_samples_leaf=1, min_samples_split=9, score=0.682, total=   1.1s\n",
      "[CV] max_features=128, min_samples_leaf=1, min_samples_split=9 .......\n",
      "[CV]  max_features=128, min_samples_leaf=1, min_samples_split=9, score=0.415, total=   1.2s\n",
      "[CV] max_features=128, min_samples_leaf=1, min_samples_split=27 ......\n",
      "[CV]  max_features=128, min_samples_leaf=1, min_samples_split=27, score=0.551, total=   1.1s\n",
      "[CV] max_features=128, min_samples_leaf=1, min_samples_split=27 ......\n",
      "[CV]  max_features=128, min_samples_leaf=1, min_samples_split=27, score=0.683, total=   1.1s\n",
      "[CV] max_features=128, min_samples_leaf=1, min_samples_split=27 ......\n",
      "[CV]  max_features=128, min_samples_leaf=1, min_samples_split=27, score=0.415, total=   1.1s\n",
      "[CV] max_features=128, min_samples_leaf=1, min_samples_split=81 ......\n",
      "[CV]  max_features=128, min_samples_leaf=1, min_samples_split=81, score=0.551, total=   1.0s\n",
      "[CV] max_features=128, min_samples_leaf=1, min_samples_split=81 ......\n",
      "[CV]  max_features=128, min_samples_leaf=1, min_samples_split=81, score=0.683, total=   1.0s\n",
      "[CV] max_features=128, min_samples_leaf=1, min_samples_split=81 ......\n",
      "[CV]  max_features=128, min_samples_leaf=1, min_samples_split=81, score=0.415, total=   1.1s\n",
      "[CV] max_features=128, min_samples_leaf=3, min_samples_split=3 .......\n"
     ]
    },
    {
     "name": "stdout",
     "output_type": "stream",
     "text": [
      "[CV]  max_features=128, min_samples_leaf=3, min_samples_split=3, score=0.553, total=   1.2s\n",
      "[CV] max_features=128, min_samples_leaf=3, min_samples_split=3 .......\n",
      "[CV]  max_features=128, min_samples_leaf=3, min_samples_split=3, score=0.681, total=   1.2s\n",
      "[CV] max_features=128, min_samples_leaf=3, min_samples_split=3 .......\n",
      "[CV]  max_features=128, min_samples_leaf=3, min_samples_split=3, score=0.416, total=   1.2s\n",
      "[CV] max_features=128, min_samples_leaf=3, min_samples_split=9 .......\n",
      "[CV]  max_features=128, min_samples_leaf=3, min_samples_split=9, score=0.553, total=   1.2s\n",
      "[CV] max_features=128, min_samples_leaf=3, min_samples_split=9 .......\n",
      "[CV]  max_features=128, min_samples_leaf=3, min_samples_split=9, score=0.681, total=   1.1s\n",
      "[CV] max_features=128, min_samples_leaf=3, min_samples_split=9 .......\n",
      "[CV]  max_features=128, min_samples_leaf=3, min_samples_split=9, score=0.416, total=   1.2s\n",
      "[CV] max_features=128, min_samples_leaf=3, min_samples_split=27 ......\n",
      "[CV]  max_features=128, min_samples_leaf=3, min_samples_split=27, score=0.554, total=   1.1s\n",
      "[CV] max_features=128, min_samples_leaf=3, min_samples_split=27 ......\n",
      "[CV]  max_features=128, min_samples_leaf=3, min_samples_split=27, score=0.682, total=   1.1s\n",
      "[CV] max_features=128, min_samples_leaf=3, min_samples_split=27 ......\n",
      "[CV]  max_features=128, min_samples_leaf=3, min_samples_split=27, score=0.416, total=   1.2s\n",
      "[CV] max_features=128, min_samples_leaf=3, min_samples_split=81 ......\n",
      "[CV]  max_features=128, min_samples_leaf=3, min_samples_split=81, score=0.553, total=   1.1s\n",
      "[CV] max_features=128, min_samples_leaf=3, min_samples_split=81 ......\n",
      "[CV]  max_features=128, min_samples_leaf=3, min_samples_split=81, score=0.683, total=   1.1s\n",
      "[CV] max_features=128, min_samples_leaf=3, min_samples_split=81 ......\n",
      "[CV]  max_features=128, min_samples_leaf=3, min_samples_split=81, score=0.417, total=   1.2s\n",
      "[CV] max_features=128, min_samples_leaf=9, min_samples_split=3 .......\n",
      "[CV]  max_features=128, min_samples_leaf=9, min_samples_split=3, score=0.553, total=   1.2s\n",
      "[CV] max_features=128, min_samples_leaf=9, min_samples_split=3 .......\n",
      "[CV]  max_features=128, min_samples_leaf=9, min_samples_split=3, score=0.682, total=   1.1s\n",
      "[CV] max_features=128, min_samples_leaf=9, min_samples_split=3 .......\n",
      "[CV]  max_features=128, min_samples_leaf=9, min_samples_split=3, score=0.416, total=   1.2s\n",
      "[CV] max_features=128, min_samples_leaf=9, min_samples_split=9 .......\n",
      "[CV]  max_features=128, min_samples_leaf=9, min_samples_split=9, score=0.553, total=   1.1s\n",
      "[CV] max_features=128, min_samples_leaf=9, min_samples_split=9 .......\n",
      "[CV]  max_features=128, min_samples_leaf=9, min_samples_split=9, score=0.682, total=   1.1s\n",
      "[CV] max_features=128, min_samples_leaf=9, min_samples_split=9 .......\n",
      "[CV]  max_features=128, min_samples_leaf=9, min_samples_split=9, score=0.416, total=   1.2s\n",
      "[CV] max_features=128, min_samples_leaf=9, min_samples_split=27 ......\n",
      "[CV]  max_features=128, min_samples_leaf=9, min_samples_split=27, score=0.553, total=   1.1s\n",
      "[CV] max_features=128, min_samples_leaf=9, min_samples_split=27 ......\n",
      "[CV]  max_features=128, min_samples_leaf=9, min_samples_split=27, score=0.682, total=   1.1s\n",
      "[CV] max_features=128, min_samples_leaf=9, min_samples_split=27 ......\n",
      "[CV]  max_features=128, min_samples_leaf=9, min_samples_split=27, score=0.416, total=   1.2s\n",
      "[CV] max_features=128, min_samples_leaf=9, min_samples_split=81 ......\n",
      "[CV]  max_features=128, min_samples_leaf=9, min_samples_split=81, score=0.553, total=   1.1s\n",
      "[CV] max_features=128, min_samples_leaf=9, min_samples_split=81 ......\n",
      "[CV]  max_features=128, min_samples_leaf=9, min_samples_split=81, score=0.683, total=   1.1s\n",
      "[CV] max_features=128, min_samples_leaf=9, min_samples_split=81 ......\n",
      "[CV]  max_features=128, min_samples_leaf=9, min_samples_split=81, score=0.416, total=   1.1s\n",
      "[CV] max_features=128, min_samples_leaf=27, min_samples_split=3 ......\n",
      "[CV]  max_features=128, min_samples_leaf=27, min_samples_split=3, score=0.551, total=   1.2s\n",
      "[CV] max_features=128, min_samples_leaf=27, min_samples_split=3 ......\n",
      "[CV]  max_features=128, min_samples_leaf=27, min_samples_split=3, score=0.682, total=   1.1s\n",
      "[CV] max_features=128, min_samples_leaf=27, min_samples_split=3 ......\n",
      "[CV]  max_features=128, min_samples_leaf=27, min_samples_split=3, score=0.414, total=   1.2s\n",
      "[CV] max_features=128, min_samples_leaf=27, min_samples_split=9 ......\n",
      "[CV]  max_features=128, min_samples_leaf=27, min_samples_split=9, score=0.551, total=   1.1s\n",
      "[CV] max_features=128, min_samples_leaf=27, min_samples_split=9 ......\n",
      "[CV]  max_features=128, min_samples_leaf=27, min_samples_split=9, score=0.682, total=   1.1s\n",
      "[CV] max_features=128, min_samples_leaf=27, min_samples_split=9 ......\n",
      "[CV]  max_features=128, min_samples_leaf=27, min_samples_split=9, score=0.414, total=   1.2s\n",
      "[CV] max_features=128, min_samples_leaf=27, min_samples_split=27 .....\n",
      "[CV]  max_features=128, min_samples_leaf=27, min_samples_split=27, score=0.551, total=   1.2s\n",
      "[CV] max_features=128, min_samples_leaf=27, min_samples_split=27 .....\n",
      "[CV]  max_features=128, min_samples_leaf=27, min_samples_split=27, score=0.682, total=   1.1s\n",
      "[CV] max_features=128, min_samples_leaf=27, min_samples_split=27 .....\n",
      "[CV]  max_features=128, min_samples_leaf=27, min_samples_split=27, score=0.414, total=   1.2s\n",
      "[CV] max_features=128, min_samples_leaf=27, min_samples_split=81 .....\n",
      "[CV]  max_features=128, min_samples_leaf=27, min_samples_split=81, score=0.551, total=   1.1s\n",
      "[CV] max_features=128, min_samples_leaf=27, min_samples_split=81 .....\n",
      "[CV]  max_features=128, min_samples_leaf=27, min_samples_split=81, score=0.682, total=   1.1s\n",
      "[CV] max_features=128, min_samples_leaf=27, min_samples_split=81 .....\n",
      "[CV]  max_features=128, min_samples_leaf=27, min_samples_split=81, score=0.414, total=   1.1s\n"
     ]
    },
    {
     "name": "stderr",
     "output_type": "stream",
     "text": [
      "[Parallel(n_jobs=1)]: Done 192 out of 192 | elapsed:  1.5min finished\n"
     ]
    },
    {
     "data": {
      "text/plain": [
       "{'max_features': 128, 'min_samples_leaf': 9, 'min_samples_split': 81}"
      ]
     },
     "execution_count": 41,
     "metadata": {},
     "output_type": "execute_result"
    }
   ],
   "source": [
    "gs6.fit(x1,y1)\n",
    "gs6.best_params_"
   ]
  },
  {
   "cell_type": "code",
   "execution_count": 42,
   "metadata": {},
   "outputs": [
    {
     "data": {
      "text/plain": [
       "GradientBoostingRegressor(alpha=0.9, criterion='friedman_mse', init=None,\n",
       "                          learning_rate=0.010000000000000002, loss='ls',\n",
       "                          max_depth=2, max_features=128, max_leaf_nodes=None,\n",
       "                          min_impurity_decrease=0.0, min_impurity_split=None,\n",
       "                          min_samples_leaf=9, min_samples_split=81,\n",
       "                          min_weight_fraction_leaf=0.0, n_estimators=512,\n",
       "                          n_iter_no_change=None, presort='auto', random_state=1,\n",
       "                          subsample=1.0, tol=0.0001, validation_fraction=0.1,\n",
       "                          verbose=0, warm_start=True)"
      ]
     },
     "execution_count": 42,
     "metadata": {},
     "output_type": "execute_result"
    }
   ],
   "source": [
    "GBR = GradientBoostingRegressor(random_state=1, \n",
    "                                warm_start=True,\n",
    "                                learning_rate = 0.010000000000000002, \n",
    "                                n_estimators = 512, \n",
    "                                max_depth = 2, \n",
    "                                max_features = 128, \n",
    "                                min_samples_leaf = 9,\n",
    "                                min_samples_split = 81)\n",
    "GBR.fit(x1, y1)"
   ]
  },
  {
   "cell_type": "markdown",
   "metadata": {},
   "source": [
    "## Оценка качества"
   ]
  },
  {
   "cell_type": "code",
   "execution_count": 43,
   "metadata": {},
   "outputs": [
    {
     "data": {
      "text/plain": [
       "0.5572078920205904"
      ]
     },
     "execution_count": 43,
     "metadata": {},
     "output_type": "execute_result"
    }
   ],
   "source": [
    "RFR.score(x2,y2)"
   ]
  },
  {
   "cell_type": "code",
   "execution_count": 44,
   "metadata": {},
   "outputs": [
    {
     "data": {
      "text/plain": [
       "0.5620374671771443"
      ]
     },
     "execution_count": 44,
     "metadata": {},
     "output_type": "execute_result"
    }
   ],
   "source": [
    "GBR.score(x2,y2)"
   ]
  },
  {
   "cell_type": "code",
   "execution_count": 45,
   "metadata": {},
   "outputs": [
    {
     "data": {
      "text/plain": [
       "0.5608701863819825"
      ]
     },
     "execution_count": 45,
     "metadata": {},
     "output_type": "execute_result"
    }
   ],
   "source": [
    "r2_score(y2,(RFR.predict(x2)+GBR.predict(x2))/2)"
   ]
  },
  {
   "cell_type": "markdown",
   "metadata": {},
   "source": [
    "КОММЕНТАРИЙ: Градиентный бустинг работает лучше, но разница составляет менее 1%"
   ]
  },
  {
   "cell_type": "markdown",
   "metadata": {},
   "source": [
    "__Задание 4.__\n",
    "\n",
    " __(1 балл)__  Реализуйте блендинг. Обучите линейную регрессию на признаках - выходах двух моделей по выборке x2, y2. "
   ]
  },
  {
   "cell_type": "code",
   "execution_count": 46,
   "metadata": {},
   "outputs": [],
   "source": [
    "from sklearn.linear_model import LinearRegression"
   ]
  },
  {
   "cell_type": "code",
   "execution_count": 47,
   "metadata": {},
   "outputs": [
    {
     "data": {
      "text/plain": [
       "0.56564152197332"
      ]
     },
     "execution_count": 47,
     "metadata": {},
     "output_type": "execute_result"
    }
   ],
   "source": [
    "models = pd.DataFrame(np.column_stack((RFR.predict(x2),GBR.predict(x2))))\n",
    "fm = LinearRegression().fit(models,y2)\n",
    "fm.score(models,y2)"
   ]
  },
  {
   "cell_type": "markdown",
   "metadata": {},
   "source": [
    "Сравним качество случайного леса и градиентного бустинга на x3, y3, качество модели, представляющей собой усреднение предсказаний двух обученных моделей, а также качество блендинга. "
   ]
  },
  {
   "cell_type": "code",
   "execution_count": 48,
   "metadata": {},
   "outputs": [
    {
     "data": {
      "text/plain": [
       "0.6077360632667254"
      ]
     },
     "execution_count": 48,
     "metadata": {},
     "output_type": "execute_result"
    }
   ],
   "source": [
    "RFR.score(x3,y3)"
   ]
  },
  {
   "cell_type": "code",
   "execution_count": 49,
   "metadata": {},
   "outputs": [
    {
     "data": {
      "text/plain": [
       "0.6146250522671056"
      ]
     },
     "execution_count": 49,
     "metadata": {},
     "output_type": "execute_result"
    }
   ],
   "source": [
    "GBR.score(x3,y3)"
   ]
  },
  {
   "cell_type": "code",
   "execution_count": 50,
   "metadata": {},
   "outputs": [
    {
     "data": {
      "text/plain": [
       "0.6124713934004751"
      ]
     },
     "execution_count": 50,
     "metadata": {},
     "output_type": "execute_result"
    }
   ],
   "source": [
    "r2_score(y3,(RFR.predict(x3)+GBR.predict(x3))/2)"
   ]
  },
  {
   "cell_type": "code",
   "execution_count": 51,
   "metadata": {},
   "outputs": [
    {
     "data": {
      "text/plain": [
       "0.6203758274685668"
      ]
     },
     "execution_count": 51,
     "metadata": {},
     "output_type": "execute_result"
    }
   ],
   "source": [
    "models = pd.DataFrame(np.column_stack((RFR.predict(x3),GBR.predict(x3))))\n",
    "fm = LinearRegression().fit(models,y3)\n",
    "fm.score(models,y3)"
   ]
  },
  {
   "cell_type": "code",
   "execution_count": 52,
   "metadata": {},
   "outputs": [
    {
     "data": {
      "text/plain": [
       "array([-0.60616193,  1.71643031])"
      ]
     },
     "execution_count": 52,
     "metadata": {},
     "output_type": "execute_result"
    }
   ],
   "source": [
    "fm.coef_ #коэффициенты случайного леса и градиентного бустинга в модели с блендингом"
   ]
  },
  {
   "cell_type": "markdown",
   "metadata": {},
   "source": [
    "КОММЕНТАРИЙ: Лучше всего работает блендинг, в том числе лучше усреднения. Градиентный бустинг вносит наибольший вклад в итоговую модель."
   ]
  }
 ],
 "metadata": {
  "_change_revision": 113,
  "_is_fork": false,
  "kernelspec": {
   "display_name": "Python 3",
   "language": "python",
   "name": "python3"
  },
  "language_info": {
   "codemirror_mode": {
    "name": "ipython",
    "version": 3
   },
   "file_extension": ".py",
   "mimetype": "text/x-python",
   "name": "python",
   "nbconvert_exporter": "python",
   "pygments_lexer": "ipython3",
   "version": "3.7.4"
  }
 },
 "nbformat": 4,
 "nbformat_minor": 1
}
